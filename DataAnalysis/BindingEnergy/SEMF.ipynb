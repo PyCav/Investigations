{
 "cells": [
  {
   "cell_type": "markdown",
   "metadata": {},
   "source": [
    "<center><b>Least Squares Fitting using SciPy curve_fit</b></center>\n",
    "\n",
    "Taking <a href=\"https://web.archive.org/web/20060309210852/http://www.einstein-online.info/en/spotlights/binding_energy/binding_energy/index.txt\">data</a> of binding energies of nucleii, a model fit of the Semi-Empirical Mass formula can be made.\n",
    "\n",
    "Semi-Empirical Mass Formula:\n",
    "<center>$B = a_vA-a_sA^{2/3}-a_c\\frac{Z(Z-1)}{A^{1/3}}-a_a\\frac{(N-Z)^2}{A}+\\delta(A)$</center>\n",
    "\n",
    "Reading data from the file using numpy loadtxt, only the 1st, 2nd and 5th columns are of interest."
   ]
  },
  {
   "cell_type": "code",
   "execution_count": 1,
   "metadata": {
    "collapsed": false,
    "scrolled": true
   },
   "outputs": [],
   "source": [
    "import numpy as np\n",
    "import matplotlib.pyplot as plt\n",
    "\n",
    "from IPython.display import display\n",
    "import ipywidgets as widgets\n",
    "from ipywidgets import interact, fixed\n",
    "\n",
    "%matplotlib notebook\n",
    "\n",
    "with open('data.dat') as f:\n",
    "    lines = (line for line in f if not line.startswith('#'))\n",
    "    read_data = np.loadtxt(lines, delimiter = ' ', usecols=(0, 1, 5), unpack = True)"
   ]
  },
  {
   "cell_type": "markdown",
   "metadata": {},
   "source": [
    "The curve_fit function has the following usage. If we have a model function, $f$, we assume the data, $y$, is simply $y = f(x) +$ errors then a curve fit can be performed in the following way:\n",
    "\n",
    "1. Define the model function which takes $x$ and some free parameters and returns the model solution\n",
    "\n",
    "2. Call the curve_fit function, passing it the model function, the x data, the y data and optionally a list of initial values for the fitting parameters\n",
    "\n",
    "3. curve_fit will return 2 tuples: the first contains the least squared fit model parameters and the second contains the covariance matrix\n",
    "\n",
    "4. Finally the model function can be called individually, passing it the fitted parameters, in order to obtain the fitted model"
   ]
  },
  {
   "cell_type": "code",
   "execution_count": 2,
   "metadata": {
    "collapsed": false
   },
   "outputs": [],
   "source": [
    "from scipy.optimize import curve_fit\n",
    "\n",
    "def model_fit(data,term_mask,exclude):\n",
    "    A = data[0][exclude:]\n",
    "    Z = data[1][exclude:]\n",
    "    B = data[2][exclude:]\n",
    "\n",
    "    def _semi_empirical_mass(X, a_v, a_s, a_c, a_a, a_p):\n",
    "        model = np.zeros_like(X)\n",
    "        if term_mask[0]:\n",
    "            vol = a_v\n",
    "            model += vol\n",
    "        if term_mask[1]:\n",
    "            sa = -a_s*X**(-1./3.)\n",
    "            model += sa\n",
    "        if term_mask[2]:\n",
    "            es = -a_c*Z*(Z-1)*X**(-4./3.)\n",
    "            model += es\n",
    "        if term_mask[3]:\n",
    "            asy = -a_a*((X-2*Z)**2)*X**(-2)\n",
    "            model += asy\n",
    "        if term_mask[4]:\n",
    "            N = X-Z\n",
    "            parity = np.zeros_like(X)\n",
    "            for i in range(len(parity)):\n",
    "                if N[i] % 2 == 0 and Z[i] % 2 == 0:\n",
    "                    parity[i] = a_p*X[i]**(-3./4.)\n",
    "                elif N[i] % 2 == 1 and Z[i] % 2 == 1:\n",
    "                    parity[i] = -a_p*X[i]**(-3./4.)\n",
    "                else:\n",
    "                    parity[i] = 0.0\n",
    "            model += parity/X\n",
    "        \n",
    "        return model\n",
    "\n",
    "    p0 = [15.8,18.0,0.72,23.5,33.5]\n",
    "    popt, pcov = curve_fit(_semi_empirical_mass, A, B, p0 = p0)\n",
    "    \n",
    "    model = _semi_empirical_mass(A, popt[0], popt[1], popt[2], popt[3], popt[4])\n",
    "    ax.set_title((str(popt)))\n",
    "    line.set_data(A,model)\n",
    "    display(fig)\n",
    "\n",
    "def widget_update(b_v = True,b_s = True,b_c = True,b_a = True,b_p = True, exclude=0):\n",
    "    term_mask = [b_v,b_s,b_c,b_a,b_p]\n",
    "    model_fit(read_data,term_mask,exclude)"
   ]
  },
  {
   "cell_type": "markdown",
   "metadata": {
    "collapsed": true
   },
   "source": [
    "Below is an interactive plot for the binding energy data and the fitted SEMF model. The fitted parameters are shown in the figure title and individual terms in the SEMF can be turned off to see their effect."
   ]
  },
  {
   "cell_type": "code",
   "execution_count": 3,
   "metadata": {
    "collapsed": false
   },
   "outputs": [
    {
     "data": {
      "application/javascript": [
       "/* Put everything inside the global mpl namespace */\n",
       "window.mpl = {};\n",
       "\n",
       "mpl.get_websocket_type = function() {\n",
       "    if (typeof(WebSocket) !== 'undefined') {\n",
       "        return WebSocket;\n",
       "    } else if (typeof(MozWebSocket) !== 'undefined') {\n",
       "        return MozWebSocket;\n",
       "    } else {\n",
       "        alert('Your browser does not have WebSocket support.' +\n",
       "              'Please try Chrome, Safari or Firefox ≥ 6. ' +\n",
       "              'Firefox 4 and 5 are also supported but you ' +\n",
       "              'have to enable WebSockets in about:config.');\n",
       "    };\n",
       "}\n",
       "\n",
       "mpl.figure = function(figure_id, websocket, ondownload, parent_element) {\n",
       "    this.id = figure_id;\n",
       "\n",
       "    this.ws = websocket;\n",
       "\n",
       "    this.supports_binary = (this.ws.binaryType != undefined);\n",
       "\n",
       "    if (!this.supports_binary) {\n",
       "        var warnings = document.getElementById(\"mpl-warnings\");\n",
       "        if (warnings) {\n",
       "            warnings.style.display = 'block';\n",
       "            warnings.textContent = (\n",
       "                \"This browser does not support binary websocket messages. \" +\n",
       "                    \"Performance may be slow.\");\n",
       "        }\n",
       "    }\n",
       "\n",
       "    this.imageObj = new Image();\n",
       "\n",
       "    this.context = undefined;\n",
       "    this.message = undefined;\n",
       "    this.canvas = undefined;\n",
       "    this.rubberband_canvas = undefined;\n",
       "    this.rubberband_context = undefined;\n",
       "    this.format_dropdown = undefined;\n",
       "\n",
       "    this.image_mode = 'full';\n",
       "\n",
       "    this.root = $('<div/>');\n",
       "    this._root_extra_style(this.root)\n",
       "    this.root.attr('style', 'display: inline-block');\n",
       "\n",
       "    $(parent_element).append(this.root);\n",
       "\n",
       "    this._init_header(this);\n",
       "    this._init_canvas(this);\n",
       "    this._init_toolbar(this);\n",
       "\n",
       "    var fig = this;\n",
       "\n",
       "    this.waiting = false;\n",
       "\n",
       "    this.ws.onopen =  function () {\n",
       "            fig.send_message(\"supports_binary\", {value: fig.supports_binary});\n",
       "            fig.send_message(\"send_image_mode\", {});\n",
       "            fig.send_message(\"refresh\", {});\n",
       "        }\n",
       "\n",
       "    this.imageObj.onload = function() {\n",
       "            if (fig.image_mode == 'full') {\n",
       "                // Full images could contain transparency (where diff images\n",
       "                // almost always do), so we need to clear the canvas so that\n",
       "                // there is no ghosting.\n",
       "                fig.context.clearRect(0, 0, fig.canvas.width, fig.canvas.height);\n",
       "            }\n",
       "            fig.context.drawImage(fig.imageObj, 0, 0);\n",
       "        };\n",
       "\n",
       "    this.imageObj.onunload = function() {\n",
       "        this.ws.close();\n",
       "    }\n",
       "\n",
       "    this.ws.onmessage = this._make_on_message_function(this);\n",
       "\n",
       "    this.ondownload = ondownload;\n",
       "}\n",
       "\n",
       "mpl.figure.prototype._init_header = function() {\n",
       "    var titlebar = $(\n",
       "        '<div class=\"ui-dialog-titlebar ui-widget-header ui-corner-all ' +\n",
       "        'ui-helper-clearfix\"/>');\n",
       "    var titletext = $(\n",
       "        '<div class=\"ui-dialog-title\" style=\"width: 100%; ' +\n",
       "        'text-align: center; padding: 3px;\"/>');\n",
       "    titlebar.append(titletext)\n",
       "    this.root.append(titlebar);\n",
       "    this.header = titletext[0];\n",
       "}\n",
       "\n",
       "\n",
       "\n",
       "mpl.figure.prototype._canvas_extra_style = function(canvas_div) {\n",
       "\n",
       "}\n",
       "\n",
       "\n",
       "mpl.figure.prototype._root_extra_style = function(canvas_div) {\n",
       "\n",
       "}\n",
       "\n",
       "mpl.figure.prototype._init_canvas = function() {\n",
       "    var fig = this;\n",
       "\n",
       "    var canvas_div = $('<div/>');\n",
       "\n",
       "    canvas_div.attr('style', 'position: relative; clear: both; outline: 0');\n",
       "\n",
       "    function canvas_keyboard_event(event) {\n",
       "        return fig.key_event(event, event['data']);\n",
       "    }\n",
       "\n",
       "    canvas_div.keydown('key_press', canvas_keyboard_event);\n",
       "    canvas_div.keyup('key_release', canvas_keyboard_event);\n",
       "    this.canvas_div = canvas_div\n",
       "    this._canvas_extra_style(canvas_div)\n",
       "    this.root.append(canvas_div);\n",
       "\n",
       "    var canvas = $('<canvas/>');\n",
       "    canvas.addClass('mpl-canvas');\n",
       "    canvas.attr('style', \"left: 0; top: 0; z-index: 0; outline: 0\")\n",
       "\n",
       "    this.canvas = canvas[0];\n",
       "    this.context = canvas[0].getContext(\"2d\");\n",
       "\n",
       "    var rubberband = $('<canvas/>');\n",
       "    rubberband.attr('style', \"position: absolute; left: 0; top: 0; z-index: 1;\")\n",
       "\n",
       "    var pass_mouse_events = true;\n",
       "\n",
       "    canvas_div.resizable({\n",
       "        start: function(event, ui) {\n",
       "            pass_mouse_events = false;\n",
       "        },\n",
       "        resize: function(event, ui) {\n",
       "            fig.request_resize(ui.size.width, ui.size.height);\n",
       "        },\n",
       "        stop: function(event, ui) {\n",
       "            pass_mouse_events = true;\n",
       "            fig.request_resize(ui.size.width, ui.size.height);\n",
       "        },\n",
       "    });\n",
       "\n",
       "    function mouse_event_fn(event) {\n",
       "        if (pass_mouse_events)\n",
       "            return fig.mouse_event(event, event['data']);\n",
       "    }\n",
       "\n",
       "    rubberband.mousedown('button_press', mouse_event_fn);\n",
       "    rubberband.mouseup('button_release', mouse_event_fn);\n",
       "    // Throttle sequential mouse events to 1 every 20ms.\n",
       "    rubberband.mousemove('motion_notify', mouse_event_fn);\n",
       "\n",
       "    rubberband.mouseenter('figure_enter', mouse_event_fn);\n",
       "    rubberband.mouseleave('figure_leave', mouse_event_fn);\n",
       "\n",
       "    canvas_div.on(\"wheel\", function (event) {\n",
       "        event = event.originalEvent;\n",
       "        event['data'] = 'scroll'\n",
       "        if (event.deltaY < 0) {\n",
       "            event.step = 1;\n",
       "        } else {\n",
       "            event.step = -1;\n",
       "        }\n",
       "        mouse_event_fn(event);\n",
       "    });\n",
       "\n",
       "    canvas_div.append(canvas);\n",
       "    canvas_div.append(rubberband);\n",
       "\n",
       "    this.rubberband = rubberband;\n",
       "    this.rubberband_canvas = rubberband[0];\n",
       "    this.rubberband_context = rubberband[0].getContext(\"2d\");\n",
       "    this.rubberband_context.strokeStyle = \"#000000\";\n",
       "\n",
       "    this._resize_canvas = function(width, height) {\n",
       "        // Keep the size of the canvas, canvas container, and rubber band\n",
       "        // canvas in synch.\n",
       "        canvas_div.css('width', width)\n",
       "        canvas_div.css('height', height)\n",
       "\n",
       "        canvas.attr('width', width);\n",
       "        canvas.attr('height', height);\n",
       "\n",
       "        rubberband.attr('width', width);\n",
       "        rubberband.attr('height', height);\n",
       "    }\n",
       "\n",
       "    // Set the figure to an initial 600x600px, this will subsequently be updated\n",
       "    // upon first draw.\n",
       "    this._resize_canvas(600, 600);\n",
       "\n",
       "    // Disable right mouse context menu.\n",
       "    $(this.rubberband_canvas).bind(\"contextmenu\",function(e){\n",
       "        return false;\n",
       "    });\n",
       "\n",
       "    function set_focus () {\n",
       "        canvas.focus();\n",
       "        canvas_div.focus();\n",
       "    }\n",
       "\n",
       "    window.setTimeout(set_focus, 100);\n",
       "}\n",
       "\n",
       "mpl.figure.prototype._init_toolbar = function() {\n",
       "    var fig = this;\n",
       "\n",
       "    var nav_element = $('<div/>')\n",
       "    nav_element.attr('style', 'width: 100%');\n",
       "    this.root.append(nav_element);\n",
       "\n",
       "    // Define a callback function for later on.\n",
       "    function toolbar_event(event) {\n",
       "        return fig.toolbar_button_onclick(event['data']);\n",
       "    }\n",
       "    function toolbar_mouse_event(event) {\n",
       "        return fig.toolbar_button_onmouseover(event['data']);\n",
       "    }\n",
       "\n",
       "    for(var toolbar_ind in mpl.toolbar_items) {\n",
       "        var name = mpl.toolbar_items[toolbar_ind][0];\n",
       "        var tooltip = mpl.toolbar_items[toolbar_ind][1];\n",
       "        var image = mpl.toolbar_items[toolbar_ind][2];\n",
       "        var method_name = mpl.toolbar_items[toolbar_ind][3];\n",
       "\n",
       "        if (!name) {\n",
       "            // put a spacer in here.\n",
       "            continue;\n",
       "        }\n",
       "        var button = $('<button/>');\n",
       "        button.addClass('ui-button ui-widget ui-state-default ui-corner-all ' +\n",
       "                        'ui-button-icon-only');\n",
       "        button.attr('role', 'button');\n",
       "        button.attr('aria-disabled', 'false');\n",
       "        button.click(method_name, toolbar_event);\n",
       "        button.mouseover(tooltip, toolbar_mouse_event);\n",
       "\n",
       "        var icon_img = $('<span/>');\n",
       "        icon_img.addClass('ui-button-icon-primary ui-icon');\n",
       "        icon_img.addClass(image);\n",
       "        icon_img.addClass('ui-corner-all');\n",
       "\n",
       "        var tooltip_span = $('<span/>');\n",
       "        tooltip_span.addClass('ui-button-text');\n",
       "        tooltip_span.html(tooltip);\n",
       "\n",
       "        button.append(icon_img);\n",
       "        button.append(tooltip_span);\n",
       "\n",
       "        nav_element.append(button);\n",
       "    }\n",
       "\n",
       "    var fmt_picker_span = $('<span/>');\n",
       "\n",
       "    var fmt_picker = $('<select/>');\n",
       "    fmt_picker.addClass('mpl-toolbar-option ui-widget ui-widget-content');\n",
       "    fmt_picker_span.append(fmt_picker);\n",
       "    nav_element.append(fmt_picker_span);\n",
       "    this.format_dropdown = fmt_picker[0];\n",
       "\n",
       "    for (var ind in mpl.extensions) {\n",
       "        var fmt = mpl.extensions[ind];\n",
       "        var option = $(\n",
       "            '<option/>', {selected: fmt === mpl.default_extension}).html(fmt);\n",
       "        fmt_picker.append(option)\n",
       "    }\n",
       "\n",
       "    // Add hover states to the ui-buttons\n",
       "    $( \".ui-button\" ).hover(\n",
       "        function() { $(this).addClass(\"ui-state-hover\");},\n",
       "        function() { $(this).removeClass(\"ui-state-hover\");}\n",
       "    );\n",
       "\n",
       "    var status_bar = $('<span class=\"mpl-message\"/>');\n",
       "    nav_element.append(status_bar);\n",
       "    this.message = status_bar[0];\n",
       "}\n",
       "\n",
       "mpl.figure.prototype.request_resize = function(x_pixels, y_pixels) {\n",
       "    // Request matplotlib to resize the figure. Matplotlib will then trigger a resize in the client,\n",
       "    // which will in turn request a refresh of the image.\n",
       "    this.send_message('resize', {'width': x_pixels, 'height': y_pixels});\n",
       "}\n",
       "\n",
       "mpl.figure.prototype.send_message = function(type, properties) {\n",
       "    properties['type'] = type;\n",
       "    properties['figure_id'] = this.id;\n",
       "    this.ws.send(JSON.stringify(properties));\n",
       "}\n",
       "\n",
       "mpl.figure.prototype.send_draw_message = function() {\n",
       "    if (!this.waiting) {\n",
       "        this.waiting = true;\n",
       "        this.ws.send(JSON.stringify({type: \"draw\", figure_id: this.id}));\n",
       "    }\n",
       "}\n",
       "\n",
       "\n",
       "mpl.figure.prototype.handle_save = function(fig, msg) {\n",
       "    var format_dropdown = fig.format_dropdown;\n",
       "    var format = format_dropdown.options[format_dropdown.selectedIndex].value;\n",
       "    fig.ondownload(fig, format);\n",
       "}\n",
       "\n",
       "\n",
       "mpl.figure.prototype.handle_resize = function(fig, msg) {\n",
       "    var size = msg['size'];\n",
       "    if (size[0] != fig.canvas.width || size[1] != fig.canvas.height) {\n",
       "        fig._resize_canvas(size[0], size[1]);\n",
       "        fig.send_message(\"refresh\", {});\n",
       "    };\n",
       "}\n",
       "\n",
       "mpl.figure.prototype.handle_rubberband = function(fig, msg) {\n",
       "    var x0 = msg['x0'];\n",
       "    var y0 = fig.canvas.height - msg['y0'];\n",
       "    var x1 = msg['x1'];\n",
       "    var y1 = fig.canvas.height - msg['y1'];\n",
       "    x0 = Math.floor(x0) + 0.5;\n",
       "    y0 = Math.floor(y0) + 0.5;\n",
       "    x1 = Math.floor(x1) + 0.5;\n",
       "    y1 = Math.floor(y1) + 0.5;\n",
       "    var min_x = Math.min(x0, x1);\n",
       "    var min_y = Math.min(y0, y1);\n",
       "    var width = Math.abs(x1 - x0);\n",
       "    var height = Math.abs(y1 - y0);\n",
       "\n",
       "    fig.rubberband_context.clearRect(\n",
       "        0, 0, fig.canvas.width, fig.canvas.height);\n",
       "\n",
       "    fig.rubberband_context.strokeRect(min_x, min_y, width, height);\n",
       "}\n",
       "\n",
       "mpl.figure.prototype.handle_figure_label = function(fig, msg) {\n",
       "    // Updates the figure title.\n",
       "    fig.header.textContent = msg['label'];\n",
       "}\n",
       "\n",
       "mpl.figure.prototype.handle_cursor = function(fig, msg) {\n",
       "    var cursor = msg['cursor'];\n",
       "    switch(cursor)\n",
       "    {\n",
       "    case 0:\n",
       "        cursor = 'pointer';\n",
       "        break;\n",
       "    case 1:\n",
       "        cursor = 'default';\n",
       "        break;\n",
       "    case 2:\n",
       "        cursor = 'crosshair';\n",
       "        break;\n",
       "    case 3:\n",
       "        cursor = 'move';\n",
       "        break;\n",
       "    }\n",
       "    fig.rubberband_canvas.style.cursor = cursor;\n",
       "}\n",
       "\n",
       "mpl.figure.prototype.handle_message = function(fig, msg) {\n",
       "    fig.message.textContent = msg['message'];\n",
       "}\n",
       "\n",
       "mpl.figure.prototype.handle_draw = function(fig, msg) {\n",
       "    // Request the server to send over a new figure.\n",
       "    fig.send_draw_message();\n",
       "}\n",
       "\n",
       "mpl.figure.prototype.handle_image_mode = function(fig, msg) {\n",
       "    fig.image_mode = msg['mode'];\n",
       "}\n",
       "\n",
       "mpl.figure.prototype.updated_canvas_event = function() {\n",
       "    // Called whenever the canvas gets updated.\n",
       "    this.send_message(\"ack\", {});\n",
       "}\n",
       "\n",
       "// A function to construct a web socket function for onmessage handling.\n",
       "// Called in the figure constructor.\n",
       "mpl.figure.prototype._make_on_message_function = function(fig) {\n",
       "    return function socket_on_message(evt) {\n",
       "        if (evt.data instanceof Blob) {\n",
       "            /* FIXME: We get \"Resource interpreted as Image but\n",
       "             * transferred with MIME type text/plain:\" errors on\n",
       "             * Chrome.  But how to set the MIME type?  It doesn't seem\n",
       "             * to be part of the websocket stream */\n",
       "            evt.data.type = \"image/png\";\n",
       "\n",
       "            /* Free the memory for the previous frames */\n",
       "            if (fig.imageObj.src) {\n",
       "                (window.URL || window.webkitURL).revokeObjectURL(\n",
       "                    fig.imageObj.src);\n",
       "            }\n",
       "\n",
       "            fig.imageObj.src = (window.URL || window.webkitURL).createObjectURL(\n",
       "                evt.data);\n",
       "            fig.updated_canvas_event();\n",
       "            fig.waiting = false;\n",
       "            return;\n",
       "        }\n",
       "        else if (typeof evt.data === 'string' && evt.data.slice(0, 21) == \"data:image/png;base64\") {\n",
       "            fig.imageObj.src = evt.data;\n",
       "            fig.updated_canvas_event();\n",
       "            fig.waiting = false;\n",
       "            return;\n",
       "        }\n",
       "\n",
       "        var msg = JSON.parse(evt.data);\n",
       "        var msg_type = msg['type'];\n",
       "\n",
       "        // Call the  \"handle_{type}\" callback, which takes\n",
       "        // the figure and JSON message as its only arguments.\n",
       "        try {\n",
       "            var callback = fig[\"handle_\" + msg_type];\n",
       "        } catch (e) {\n",
       "            console.log(\"No handler for the '\" + msg_type + \"' message type: \", msg);\n",
       "            return;\n",
       "        }\n",
       "\n",
       "        if (callback) {\n",
       "            try {\n",
       "                // console.log(\"Handling '\" + msg_type + \"' message: \", msg);\n",
       "                callback(fig, msg);\n",
       "            } catch (e) {\n",
       "                console.log(\"Exception inside the 'handler_\" + msg_type + \"' callback:\", e, e.stack, msg);\n",
       "            }\n",
       "        }\n",
       "    };\n",
       "}\n",
       "\n",
       "// from http://stackoverflow.com/questions/1114465/getting-mouse-location-in-canvas\n",
       "mpl.findpos = function(e) {\n",
       "    //this section is from http://www.quirksmode.org/js/events_properties.html\n",
       "    var targ;\n",
       "    if (!e)\n",
       "        e = window.event;\n",
       "    if (e.target)\n",
       "        targ = e.target;\n",
       "    else if (e.srcElement)\n",
       "        targ = e.srcElement;\n",
       "    if (targ.nodeType == 3) // defeat Safari bug\n",
       "        targ = targ.parentNode;\n",
       "\n",
       "    // jQuery normalizes the pageX and pageY\n",
       "    // pageX,Y are the mouse positions relative to the document\n",
       "    // offset() returns the position of the element relative to the document\n",
       "    var x = e.pageX - $(targ).offset().left;\n",
       "    var y = e.pageY - $(targ).offset().top;\n",
       "\n",
       "    return {\"x\": x, \"y\": y};\n",
       "};\n",
       "\n",
       "/*\n",
       " * return a copy of an object with only non-object keys\n",
       " * we need this to avoid circular references\n",
       " * http://stackoverflow.com/a/24161582/3208463\n",
       " */\n",
       "function simpleKeys (original) {\n",
       "  return Object.keys(original).reduce(function (obj, key) {\n",
       "    if (typeof original[key] !== 'object')\n",
       "        obj[key] = original[key]\n",
       "    return obj;\n",
       "  }, {});\n",
       "}\n",
       "\n",
       "mpl.figure.prototype.mouse_event = function(event, name) {\n",
       "    var canvas_pos = mpl.findpos(event)\n",
       "\n",
       "    if (name === 'button_press')\n",
       "    {\n",
       "        this.canvas.focus();\n",
       "        this.canvas_div.focus();\n",
       "    }\n",
       "\n",
       "    var x = canvas_pos.x;\n",
       "    var y = canvas_pos.y;\n",
       "\n",
       "    this.send_message(name, {x: x, y: y, button: event.button,\n",
       "                             step: event.step,\n",
       "                             guiEvent: simpleKeys(event)});\n",
       "\n",
       "    /* This prevents the web browser from automatically changing to\n",
       "     * the text insertion cursor when the button is pressed.  We want\n",
       "     * to control all of the cursor setting manually through the\n",
       "     * 'cursor' event from matplotlib */\n",
       "    event.preventDefault();\n",
       "    return false;\n",
       "}\n",
       "\n",
       "mpl.figure.prototype._key_event_extra = function(event, name) {\n",
       "    // Handle any extra behaviour associated with a key event\n",
       "}\n",
       "\n",
       "mpl.figure.prototype.key_event = function(event, name) {\n",
       "\n",
       "    // Prevent repeat events\n",
       "    if (name == 'key_press')\n",
       "    {\n",
       "        if (event.which === this._key)\n",
       "            return;\n",
       "        else\n",
       "            this._key = event.which;\n",
       "    }\n",
       "    if (name == 'key_release')\n",
       "        this._key = null;\n",
       "\n",
       "    var value = '';\n",
       "    if (event.ctrlKey && event.which != 17)\n",
       "        value += \"ctrl+\";\n",
       "    if (event.altKey && event.which != 18)\n",
       "        value += \"alt+\";\n",
       "    if (event.shiftKey && event.which != 16)\n",
       "        value += \"shift+\";\n",
       "\n",
       "    value += 'k';\n",
       "    value += event.which.toString();\n",
       "\n",
       "    this._key_event_extra(event, name);\n",
       "\n",
       "    this.send_message(name, {key: value,\n",
       "                             guiEvent: simpleKeys(event)});\n",
       "    return false;\n",
       "}\n",
       "\n",
       "mpl.figure.prototype.toolbar_button_onclick = function(name) {\n",
       "    if (name == 'download') {\n",
       "        this.handle_save(this, null);\n",
       "    } else {\n",
       "        this.send_message(\"toolbar_button\", {name: name});\n",
       "    }\n",
       "};\n",
       "\n",
       "mpl.figure.prototype.toolbar_button_onmouseover = function(tooltip) {\n",
       "    this.message.textContent = tooltip;\n",
       "};\n",
       "mpl.toolbar_items = [[\"Home\", \"Reset original view\", \"fa fa-home icon-home\", \"home\"], [\"Back\", \"Back to  previous view\", \"fa fa-arrow-left icon-arrow-left\", \"back\"], [\"Forward\", \"Forward to next view\", \"fa fa-arrow-right icon-arrow-right\", \"forward\"], [\"\", \"\", \"\", \"\"], [\"Pan\", \"Pan axes with left mouse, zoom with right\", \"fa fa-arrows icon-move\", \"pan\"], [\"Zoom\", \"Zoom to rectangle\", \"fa fa-square-o icon-check-empty\", \"zoom\"], [\"\", \"\", \"\", \"\"], [\"Download\", \"Download plot\", \"fa fa-floppy-o icon-save\", \"download\"]];\n",
       "\n",
       "mpl.extensions = [\"eps\", \"pdf\", \"png\", \"ps\", \"raw\", \"svg\"];\n",
       "\n",
       "mpl.default_extension = \"png\";var comm_websocket_adapter = function(comm) {\n",
       "    // Create a \"websocket\"-like object which calls the given IPython comm\n",
       "    // object with the appropriate methods. Currently this is a non binary\n",
       "    // socket, so there is still some room for performance tuning.\n",
       "    var ws = {};\n",
       "\n",
       "    ws.close = function() {\n",
       "        comm.close()\n",
       "    };\n",
       "    ws.send = function(m) {\n",
       "        //console.log('sending', m);\n",
       "        comm.send(m);\n",
       "    };\n",
       "    // Register the callback with on_msg.\n",
       "    comm.on_msg(function(msg) {\n",
       "        //console.log('receiving', msg['content']['data'], msg);\n",
       "        // Pass the mpl event to the overriden (by mpl) onmessage function.\n",
       "        ws.onmessage(msg['content']['data'])\n",
       "    });\n",
       "    return ws;\n",
       "}\n",
       "\n",
       "mpl.mpl_figure_comm = function(comm, msg) {\n",
       "    // This is the function which gets called when the mpl process\n",
       "    // starts-up an IPython Comm through the \"matplotlib\" channel.\n",
       "\n",
       "    var id = msg.content.data.id;\n",
       "    // Get hold of the div created by the display call when the Comm\n",
       "    // socket was opened in Python.\n",
       "    var element = $(\"#\" + id);\n",
       "    var ws_proxy = comm_websocket_adapter(comm)\n",
       "\n",
       "    function ondownload(figure, format) {\n",
       "        window.open(figure.imageObj.src);\n",
       "    }\n",
       "\n",
       "    var fig = new mpl.figure(id, ws_proxy,\n",
       "                           ondownload,\n",
       "                           element.get(0));\n",
       "\n",
       "    // Call onopen now - mpl needs it, as it is assuming we've passed it a real\n",
       "    // web socket which is closed, not our websocket->open comm proxy.\n",
       "    ws_proxy.onopen();\n",
       "\n",
       "    fig.parent_element = element.get(0);\n",
       "    fig.cell_info = mpl.find_output_cell(\"<div id='\" + id + \"'></div>\");\n",
       "    if (!fig.cell_info) {\n",
       "        console.error(\"Failed to find cell for figure\", id, fig);\n",
       "        return;\n",
       "    }\n",
       "\n",
       "    var output_index = fig.cell_info[2]\n",
       "    var cell = fig.cell_info[0];\n",
       "\n",
       "};\n",
       "\n",
       "mpl.figure.prototype.handle_close = function(fig, msg) {\n",
       "    fig.root.unbind('remove')\n",
       "\n",
       "    // Update the output cell to use the data from the current canvas.\n",
       "    fig.push_to_output();\n",
       "    var dataURL = fig.canvas.toDataURL();\n",
       "    // Re-enable the keyboard manager in IPython - without this line, in FF,\n",
       "    // the notebook keyboard shortcuts fail.\n",
       "    IPython.keyboard_manager.enable()\n",
       "    $(fig.parent_element).html('<img src=\"' + dataURL + '\">');\n",
       "    fig.close_ws(fig, msg);\n",
       "}\n",
       "\n",
       "mpl.figure.prototype.close_ws = function(fig, msg){\n",
       "    fig.send_message('closing', msg);\n",
       "    // fig.ws.close()\n",
       "}\n",
       "\n",
       "mpl.figure.prototype.push_to_output = function(remove_interactive) {\n",
       "    // Turn the data on the canvas into data in the output cell.\n",
       "    var dataURL = this.canvas.toDataURL();\n",
       "    this.cell_info[1]['text/html'] = '<img src=\"' + dataURL + '\">';\n",
       "}\n",
       "\n",
       "mpl.figure.prototype.updated_canvas_event = function() {\n",
       "    // Tell IPython that the notebook contents must change.\n",
       "    IPython.notebook.set_dirty(true);\n",
       "    this.send_message(\"ack\", {});\n",
       "    var fig = this;\n",
       "    // Wait a second, then push the new image to the DOM so\n",
       "    // that it is saved nicely (might be nice to debounce this).\n",
       "    setTimeout(function () { fig.push_to_output() }, 1000);\n",
       "}\n",
       "\n",
       "mpl.figure.prototype._init_toolbar = function() {\n",
       "    var fig = this;\n",
       "\n",
       "    var nav_element = $('<div/>')\n",
       "    nav_element.attr('style', 'width: 100%');\n",
       "    this.root.append(nav_element);\n",
       "\n",
       "    // Define a callback function for later on.\n",
       "    function toolbar_event(event) {\n",
       "        return fig.toolbar_button_onclick(event['data']);\n",
       "    }\n",
       "    function toolbar_mouse_event(event) {\n",
       "        return fig.toolbar_button_onmouseover(event['data']);\n",
       "    }\n",
       "\n",
       "    for(var toolbar_ind in mpl.toolbar_items){\n",
       "        var name = mpl.toolbar_items[toolbar_ind][0];\n",
       "        var tooltip = mpl.toolbar_items[toolbar_ind][1];\n",
       "        var image = mpl.toolbar_items[toolbar_ind][2];\n",
       "        var method_name = mpl.toolbar_items[toolbar_ind][3];\n",
       "\n",
       "        if (!name) { continue; };\n",
       "\n",
       "        var button = $('<button class=\"btn btn-default\" href=\"#\" title=\"' + name + '\"><i class=\"fa ' + image + ' fa-lg\"></i></button>');\n",
       "        button.click(method_name, toolbar_event);\n",
       "        button.mouseover(tooltip, toolbar_mouse_event);\n",
       "        nav_element.append(button);\n",
       "    }\n",
       "\n",
       "    // Add the status bar.\n",
       "    var status_bar = $('<span class=\"mpl-message\" style=\"text-align:right; float: right;\"/>');\n",
       "    nav_element.append(status_bar);\n",
       "    this.message = status_bar[0];\n",
       "\n",
       "    // Add the close button to the window.\n",
       "    var buttongrp = $('<div class=\"btn-group inline pull-right\"></div>');\n",
       "    var button = $('<button class=\"btn btn-mini btn-primary\" href=\"#\" title=\"Stop Interaction\"><i class=\"fa fa-power-off icon-remove icon-large\"></i></button>');\n",
       "    button.click(function (evt) { fig.handle_close(fig, {}); } );\n",
       "    button.mouseover('Stop Interaction', toolbar_mouse_event);\n",
       "    buttongrp.append(button);\n",
       "    var titlebar = this.root.find($('.ui-dialog-titlebar'));\n",
       "    titlebar.prepend(buttongrp);\n",
       "}\n",
       "\n",
       "mpl.figure.prototype._root_extra_style = function(el){\n",
       "    var fig = this\n",
       "    el.on(\"remove\", function(){\n",
       "\tfig.close_ws(fig, {});\n",
       "    });\n",
       "}\n",
       "\n",
       "mpl.figure.prototype._canvas_extra_style = function(el){\n",
       "    // this is important to make the div 'focusable\n",
       "    el.attr('tabindex', 0)\n",
       "    // reach out to IPython and tell the keyboard manager to turn it's self\n",
       "    // off when our div gets focus\n",
       "\n",
       "    // location in version 3\n",
       "    if (IPython.notebook.keyboard_manager) {\n",
       "        IPython.notebook.keyboard_manager.register_events(el);\n",
       "    }\n",
       "    else {\n",
       "        // location in version 2\n",
       "        IPython.keyboard_manager.register_events(el);\n",
       "    }\n",
       "\n",
       "}\n",
       "\n",
       "mpl.figure.prototype._key_event_extra = function(event, name) {\n",
       "    var manager = IPython.notebook.keyboard_manager;\n",
       "    if (!manager)\n",
       "        manager = IPython.keyboard_manager;\n",
       "\n",
       "    // Check for shift+enter\n",
       "    if (event.shiftKey && event.which == 13) {\n",
       "        this.canvas_div.blur();\n",
       "        event.shiftKey = false;\n",
       "        // Send a \"J\" for go to next cell\n",
       "        event.which = 74;\n",
       "        event.keyCode = 74;\n",
       "        manager.command_mode();\n",
       "        manager.handle_keydown(event);\n",
       "    }\n",
       "}\n",
       "\n",
       "mpl.figure.prototype.handle_save = function(fig, msg) {\n",
       "    fig.ondownload(fig, null);\n",
       "}\n",
       "\n",
       "\n",
       "mpl.find_output_cell = function(html_output) {\n",
       "    // Return the cell and output element which can be found *uniquely* in the notebook.\n",
       "    // Note - this is a bit hacky, but it is done because the \"notebook_saving.Notebook\"\n",
       "    // IPython event is triggered only after the cells have been serialised, which for\n",
       "    // our purposes (turning an active figure into a static one), is too late.\n",
       "    var cells = IPython.notebook.get_cells();\n",
       "    var ncells = cells.length;\n",
       "    for (var i=0; i<ncells; i++) {\n",
       "        var cell = cells[i];\n",
       "        if (cell.cell_type === 'code'){\n",
       "            for (var j=0; j<cell.output_area.outputs.length; j++) {\n",
       "                var data = cell.output_area.outputs[j];\n",
       "                if (data.data) {\n",
       "                    // IPython >= 3 moved mimebundle to data attribute of output\n",
       "                    data = data.data;\n",
       "                }\n",
       "                if (data['text/html'] == html_output) {\n",
       "                    return [cell, data, j];\n",
       "                }\n",
       "            }\n",
       "        }\n",
       "    }\n",
       "}\n",
       "\n",
       "// Register the function which deals with the matplotlib target/channel.\n",
       "// The kernel may be null if the page has been refreshed.\n",
       "if (IPython.notebook.kernel != null) {\n",
       "    IPython.notebook.kernel.comm_manager.register_target('matplotlib', mpl.mpl_figure_comm);\n",
       "}\n"
      ],
      "text/plain": [
       "<IPython.core.display.Javascript object>"
      ]
     },
     "metadata": {},
     "output_type": "display_data"
    },
    {
     "data": {
      "text/html": [
       "<div id='28d85076-73e7-45f6-a80b-6a3152221dad'></div>"
      ],
      "text/plain": [
       "<IPython.core.display.HTML object>"
      ]
     },
     "metadata": {},
     "output_type": "display_data"
    }
   ],
   "source": [
    "fig = plt.figure(figsize = (12,6))\n",
    "ax = plt.subplot(111)\n",
    "\n",
    "ax.set_xlabel('Atomic Number / A')\n",
    "ax.set_ylabel('Binding Energy per Nucleon (MeV) / (B/A)')\n",
    "\n",
    "ax.plot(read_data[0],read_data[2],'bx')\n",
    "ax.set_xlim([0,max(read_data[0])])\n",
    "\n",
    "line, = ax.plot([],[],'r-')\n",
    "\n",
    "interact(widget_update, b_v = widgets.Checkbox(description='Volume Term',value=True),\n",
    "                        b_s = widgets.Checkbox(description='Surface Area Term',value=False),\n",
    "                        b_c = widgets.Checkbox(description='Coulomb Term',value=False),\n",
    "                        b_a = widgets.Checkbox(description='Asymmetry Term',value=False),\n",
    "                        b_p = widgets.Checkbox(description='Parity Term',value=False),\n",
    "                        exclude = widgets.IntSlider(description='Exclude first n points',\n",
    "                        min=0,max=50))"
   ]
  },
  {
   "cell_type": "markdown",
   "metadata": {},
   "source": [
    "From Part II Particle and Nuclear Physics (in MeV):\n",
    "\n",
    "<center>$a_v = 15.8$, $a_s = 18.0$, $a_c = 0.72$, $a_a = 23.5$, $a_p = 33.5$</center>\n"
   ]
  },
  {
   "cell_type": "code",
   "execution_count": 4,
   "metadata": {
    "collapsed": false
   },
   "outputs": [
    {
     "data": {
      "application/javascript": [
       "/* Put everything inside the global mpl namespace */\n",
       "window.mpl = {};\n",
       "\n",
       "mpl.get_websocket_type = function() {\n",
       "    if (typeof(WebSocket) !== 'undefined') {\n",
       "        return WebSocket;\n",
       "    } else if (typeof(MozWebSocket) !== 'undefined') {\n",
       "        return MozWebSocket;\n",
       "    } else {\n",
       "        alert('Your browser does not have WebSocket support.' +\n",
       "              'Please try Chrome, Safari or Firefox ≥ 6. ' +\n",
       "              'Firefox 4 and 5 are also supported but you ' +\n",
       "              'have to enable WebSockets in about:config.');\n",
       "    };\n",
       "}\n",
       "\n",
       "mpl.figure = function(figure_id, websocket, ondownload, parent_element) {\n",
       "    this.id = figure_id;\n",
       "\n",
       "    this.ws = websocket;\n",
       "\n",
       "    this.supports_binary = (this.ws.binaryType != undefined);\n",
       "\n",
       "    if (!this.supports_binary) {\n",
       "        var warnings = document.getElementById(\"mpl-warnings\");\n",
       "        if (warnings) {\n",
       "            warnings.style.display = 'block';\n",
       "            warnings.textContent = (\n",
       "                \"This browser does not support binary websocket messages. \" +\n",
       "                    \"Performance may be slow.\");\n",
       "        }\n",
       "    }\n",
       "\n",
       "    this.imageObj = new Image();\n",
       "\n",
       "    this.context = undefined;\n",
       "    this.message = undefined;\n",
       "    this.canvas = undefined;\n",
       "    this.rubberband_canvas = undefined;\n",
       "    this.rubberband_context = undefined;\n",
       "    this.format_dropdown = undefined;\n",
       "\n",
       "    this.image_mode = 'full';\n",
       "\n",
       "    this.root = $('<div/>');\n",
       "    this._root_extra_style(this.root)\n",
       "    this.root.attr('style', 'display: inline-block');\n",
       "\n",
       "    $(parent_element).append(this.root);\n",
       "\n",
       "    this._init_header(this);\n",
       "    this._init_canvas(this);\n",
       "    this._init_toolbar(this);\n",
       "\n",
       "    var fig = this;\n",
       "\n",
       "    this.waiting = false;\n",
       "\n",
       "    this.ws.onopen =  function () {\n",
       "            fig.send_message(\"supports_binary\", {value: fig.supports_binary});\n",
       "            fig.send_message(\"send_image_mode\", {});\n",
       "            fig.send_message(\"refresh\", {});\n",
       "        }\n",
       "\n",
       "    this.imageObj.onload = function() {\n",
       "            if (fig.image_mode == 'full') {\n",
       "                // Full images could contain transparency (where diff images\n",
       "                // almost always do), so we need to clear the canvas so that\n",
       "                // there is no ghosting.\n",
       "                fig.context.clearRect(0, 0, fig.canvas.width, fig.canvas.height);\n",
       "            }\n",
       "            fig.context.drawImage(fig.imageObj, 0, 0);\n",
       "        };\n",
       "\n",
       "    this.imageObj.onunload = function() {\n",
       "        this.ws.close();\n",
       "    }\n",
       "\n",
       "    this.ws.onmessage = this._make_on_message_function(this);\n",
       "\n",
       "    this.ondownload = ondownload;\n",
       "}\n",
       "\n",
       "mpl.figure.prototype._init_header = function() {\n",
       "    var titlebar = $(\n",
       "        '<div class=\"ui-dialog-titlebar ui-widget-header ui-corner-all ' +\n",
       "        'ui-helper-clearfix\"/>');\n",
       "    var titletext = $(\n",
       "        '<div class=\"ui-dialog-title\" style=\"width: 100%; ' +\n",
       "        'text-align: center; padding: 3px;\"/>');\n",
       "    titlebar.append(titletext)\n",
       "    this.root.append(titlebar);\n",
       "    this.header = titletext[0];\n",
       "}\n",
       "\n",
       "\n",
       "\n",
       "mpl.figure.prototype._canvas_extra_style = function(canvas_div) {\n",
       "\n",
       "}\n",
       "\n",
       "\n",
       "mpl.figure.prototype._root_extra_style = function(canvas_div) {\n",
       "\n",
       "}\n",
       "\n",
       "mpl.figure.prototype._init_canvas = function() {\n",
       "    var fig = this;\n",
       "\n",
       "    var canvas_div = $('<div/>');\n",
       "\n",
       "    canvas_div.attr('style', 'position: relative; clear: both; outline: 0');\n",
       "\n",
       "    function canvas_keyboard_event(event) {\n",
       "        return fig.key_event(event, event['data']);\n",
       "    }\n",
       "\n",
       "    canvas_div.keydown('key_press', canvas_keyboard_event);\n",
       "    canvas_div.keyup('key_release', canvas_keyboard_event);\n",
       "    this.canvas_div = canvas_div\n",
       "    this._canvas_extra_style(canvas_div)\n",
       "    this.root.append(canvas_div);\n",
       "\n",
       "    var canvas = $('<canvas/>');\n",
       "    canvas.addClass('mpl-canvas');\n",
       "    canvas.attr('style', \"left: 0; top: 0; z-index: 0; outline: 0\")\n",
       "\n",
       "    this.canvas = canvas[0];\n",
       "    this.context = canvas[0].getContext(\"2d\");\n",
       "\n",
       "    var rubberband = $('<canvas/>');\n",
       "    rubberband.attr('style', \"position: absolute; left: 0; top: 0; z-index: 1;\")\n",
       "\n",
       "    var pass_mouse_events = true;\n",
       "\n",
       "    canvas_div.resizable({\n",
       "        start: function(event, ui) {\n",
       "            pass_mouse_events = false;\n",
       "        },\n",
       "        resize: function(event, ui) {\n",
       "            fig.request_resize(ui.size.width, ui.size.height);\n",
       "        },\n",
       "        stop: function(event, ui) {\n",
       "            pass_mouse_events = true;\n",
       "            fig.request_resize(ui.size.width, ui.size.height);\n",
       "        },\n",
       "    });\n",
       "\n",
       "    function mouse_event_fn(event) {\n",
       "        if (pass_mouse_events)\n",
       "            return fig.mouse_event(event, event['data']);\n",
       "    }\n",
       "\n",
       "    rubberband.mousedown('button_press', mouse_event_fn);\n",
       "    rubberband.mouseup('button_release', mouse_event_fn);\n",
       "    // Throttle sequential mouse events to 1 every 20ms.\n",
       "    rubberband.mousemove('motion_notify', mouse_event_fn);\n",
       "\n",
       "    rubberband.mouseenter('figure_enter', mouse_event_fn);\n",
       "    rubberband.mouseleave('figure_leave', mouse_event_fn);\n",
       "\n",
       "    canvas_div.on(\"wheel\", function (event) {\n",
       "        event = event.originalEvent;\n",
       "        event['data'] = 'scroll'\n",
       "        if (event.deltaY < 0) {\n",
       "            event.step = 1;\n",
       "        } else {\n",
       "            event.step = -1;\n",
       "        }\n",
       "        mouse_event_fn(event);\n",
       "    });\n",
       "\n",
       "    canvas_div.append(canvas);\n",
       "    canvas_div.append(rubberband);\n",
       "\n",
       "    this.rubberband = rubberband;\n",
       "    this.rubberband_canvas = rubberband[0];\n",
       "    this.rubberband_context = rubberband[0].getContext(\"2d\");\n",
       "    this.rubberband_context.strokeStyle = \"#000000\";\n",
       "\n",
       "    this._resize_canvas = function(width, height) {\n",
       "        // Keep the size of the canvas, canvas container, and rubber band\n",
       "        // canvas in synch.\n",
       "        canvas_div.css('width', width)\n",
       "        canvas_div.css('height', height)\n",
       "\n",
       "        canvas.attr('width', width);\n",
       "        canvas.attr('height', height);\n",
       "\n",
       "        rubberband.attr('width', width);\n",
       "        rubberband.attr('height', height);\n",
       "    }\n",
       "\n",
       "    // Set the figure to an initial 600x600px, this will subsequently be updated\n",
       "    // upon first draw.\n",
       "    this._resize_canvas(600, 600);\n",
       "\n",
       "    // Disable right mouse context menu.\n",
       "    $(this.rubberband_canvas).bind(\"contextmenu\",function(e){\n",
       "        return false;\n",
       "    });\n",
       "\n",
       "    function set_focus () {\n",
       "        canvas.focus();\n",
       "        canvas_div.focus();\n",
       "    }\n",
       "\n",
       "    window.setTimeout(set_focus, 100);\n",
       "}\n",
       "\n",
       "mpl.figure.prototype._init_toolbar = function() {\n",
       "    var fig = this;\n",
       "\n",
       "    var nav_element = $('<div/>')\n",
       "    nav_element.attr('style', 'width: 100%');\n",
       "    this.root.append(nav_element);\n",
       "\n",
       "    // Define a callback function for later on.\n",
       "    function toolbar_event(event) {\n",
       "        return fig.toolbar_button_onclick(event['data']);\n",
       "    }\n",
       "    function toolbar_mouse_event(event) {\n",
       "        return fig.toolbar_button_onmouseover(event['data']);\n",
       "    }\n",
       "\n",
       "    for(var toolbar_ind in mpl.toolbar_items) {\n",
       "        var name = mpl.toolbar_items[toolbar_ind][0];\n",
       "        var tooltip = mpl.toolbar_items[toolbar_ind][1];\n",
       "        var image = mpl.toolbar_items[toolbar_ind][2];\n",
       "        var method_name = mpl.toolbar_items[toolbar_ind][3];\n",
       "\n",
       "        if (!name) {\n",
       "            // put a spacer in here.\n",
       "            continue;\n",
       "        }\n",
       "        var button = $('<button/>');\n",
       "        button.addClass('ui-button ui-widget ui-state-default ui-corner-all ' +\n",
       "                        'ui-button-icon-only');\n",
       "        button.attr('role', 'button');\n",
       "        button.attr('aria-disabled', 'false');\n",
       "        button.click(method_name, toolbar_event);\n",
       "        button.mouseover(tooltip, toolbar_mouse_event);\n",
       "\n",
       "        var icon_img = $('<span/>');\n",
       "        icon_img.addClass('ui-button-icon-primary ui-icon');\n",
       "        icon_img.addClass(image);\n",
       "        icon_img.addClass('ui-corner-all');\n",
       "\n",
       "        var tooltip_span = $('<span/>');\n",
       "        tooltip_span.addClass('ui-button-text');\n",
       "        tooltip_span.html(tooltip);\n",
       "\n",
       "        button.append(icon_img);\n",
       "        button.append(tooltip_span);\n",
       "\n",
       "        nav_element.append(button);\n",
       "    }\n",
       "\n",
       "    var fmt_picker_span = $('<span/>');\n",
       "\n",
       "    var fmt_picker = $('<select/>');\n",
       "    fmt_picker.addClass('mpl-toolbar-option ui-widget ui-widget-content');\n",
       "    fmt_picker_span.append(fmt_picker);\n",
       "    nav_element.append(fmt_picker_span);\n",
       "    this.format_dropdown = fmt_picker[0];\n",
       "\n",
       "    for (var ind in mpl.extensions) {\n",
       "        var fmt = mpl.extensions[ind];\n",
       "        var option = $(\n",
       "            '<option/>', {selected: fmt === mpl.default_extension}).html(fmt);\n",
       "        fmt_picker.append(option)\n",
       "    }\n",
       "\n",
       "    // Add hover states to the ui-buttons\n",
       "    $( \".ui-button\" ).hover(\n",
       "        function() { $(this).addClass(\"ui-state-hover\");},\n",
       "        function() { $(this).removeClass(\"ui-state-hover\");}\n",
       "    );\n",
       "\n",
       "    var status_bar = $('<span class=\"mpl-message\"/>');\n",
       "    nav_element.append(status_bar);\n",
       "    this.message = status_bar[0];\n",
       "}\n",
       "\n",
       "mpl.figure.prototype.request_resize = function(x_pixels, y_pixels) {\n",
       "    // Request matplotlib to resize the figure. Matplotlib will then trigger a resize in the client,\n",
       "    // which will in turn request a refresh of the image.\n",
       "    this.send_message('resize', {'width': x_pixels, 'height': y_pixels});\n",
       "}\n",
       "\n",
       "mpl.figure.prototype.send_message = function(type, properties) {\n",
       "    properties['type'] = type;\n",
       "    properties['figure_id'] = this.id;\n",
       "    this.ws.send(JSON.stringify(properties));\n",
       "}\n",
       "\n",
       "mpl.figure.prototype.send_draw_message = function() {\n",
       "    if (!this.waiting) {\n",
       "        this.waiting = true;\n",
       "        this.ws.send(JSON.stringify({type: \"draw\", figure_id: this.id}));\n",
       "    }\n",
       "}\n",
       "\n",
       "\n",
       "mpl.figure.prototype.handle_save = function(fig, msg) {\n",
       "    var format_dropdown = fig.format_dropdown;\n",
       "    var format = format_dropdown.options[format_dropdown.selectedIndex].value;\n",
       "    fig.ondownload(fig, format);\n",
       "}\n",
       "\n",
       "\n",
       "mpl.figure.prototype.handle_resize = function(fig, msg) {\n",
       "    var size = msg['size'];\n",
       "    if (size[0] != fig.canvas.width || size[1] != fig.canvas.height) {\n",
       "        fig._resize_canvas(size[0], size[1]);\n",
       "        fig.send_message(\"refresh\", {});\n",
       "    };\n",
       "}\n",
       "\n",
       "mpl.figure.prototype.handle_rubberband = function(fig, msg) {\n",
       "    var x0 = msg['x0'];\n",
       "    var y0 = fig.canvas.height - msg['y0'];\n",
       "    var x1 = msg['x1'];\n",
       "    var y1 = fig.canvas.height - msg['y1'];\n",
       "    x0 = Math.floor(x0) + 0.5;\n",
       "    y0 = Math.floor(y0) + 0.5;\n",
       "    x1 = Math.floor(x1) + 0.5;\n",
       "    y1 = Math.floor(y1) + 0.5;\n",
       "    var min_x = Math.min(x0, x1);\n",
       "    var min_y = Math.min(y0, y1);\n",
       "    var width = Math.abs(x1 - x0);\n",
       "    var height = Math.abs(y1 - y0);\n",
       "\n",
       "    fig.rubberband_context.clearRect(\n",
       "        0, 0, fig.canvas.width, fig.canvas.height);\n",
       "\n",
       "    fig.rubberband_context.strokeRect(min_x, min_y, width, height);\n",
       "}\n",
       "\n",
       "mpl.figure.prototype.handle_figure_label = function(fig, msg) {\n",
       "    // Updates the figure title.\n",
       "    fig.header.textContent = msg['label'];\n",
       "}\n",
       "\n",
       "mpl.figure.prototype.handle_cursor = function(fig, msg) {\n",
       "    var cursor = msg['cursor'];\n",
       "    switch(cursor)\n",
       "    {\n",
       "    case 0:\n",
       "        cursor = 'pointer';\n",
       "        break;\n",
       "    case 1:\n",
       "        cursor = 'default';\n",
       "        break;\n",
       "    case 2:\n",
       "        cursor = 'crosshair';\n",
       "        break;\n",
       "    case 3:\n",
       "        cursor = 'move';\n",
       "        break;\n",
       "    }\n",
       "    fig.rubberband_canvas.style.cursor = cursor;\n",
       "}\n",
       "\n",
       "mpl.figure.prototype.handle_message = function(fig, msg) {\n",
       "    fig.message.textContent = msg['message'];\n",
       "}\n",
       "\n",
       "mpl.figure.prototype.handle_draw = function(fig, msg) {\n",
       "    // Request the server to send over a new figure.\n",
       "    fig.send_draw_message();\n",
       "}\n",
       "\n",
       "mpl.figure.prototype.handle_image_mode = function(fig, msg) {\n",
       "    fig.image_mode = msg['mode'];\n",
       "}\n",
       "\n",
       "mpl.figure.prototype.updated_canvas_event = function() {\n",
       "    // Called whenever the canvas gets updated.\n",
       "    this.send_message(\"ack\", {});\n",
       "}\n",
       "\n",
       "// A function to construct a web socket function for onmessage handling.\n",
       "// Called in the figure constructor.\n",
       "mpl.figure.prototype._make_on_message_function = function(fig) {\n",
       "    return function socket_on_message(evt) {\n",
       "        if (evt.data instanceof Blob) {\n",
       "            /* FIXME: We get \"Resource interpreted as Image but\n",
       "             * transferred with MIME type text/plain:\" errors on\n",
       "             * Chrome.  But how to set the MIME type?  It doesn't seem\n",
       "             * to be part of the websocket stream */\n",
       "            evt.data.type = \"image/png\";\n",
       "\n",
       "            /* Free the memory for the previous frames */\n",
       "            if (fig.imageObj.src) {\n",
       "                (window.URL || window.webkitURL).revokeObjectURL(\n",
       "                    fig.imageObj.src);\n",
       "            }\n",
       "\n",
       "            fig.imageObj.src = (window.URL || window.webkitURL).createObjectURL(\n",
       "                evt.data);\n",
       "            fig.updated_canvas_event();\n",
       "            fig.waiting = false;\n",
       "            return;\n",
       "        }\n",
       "        else if (typeof evt.data === 'string' && evt.data.slice(0, 21) == \"data:image/png;base64\") {\n",
       "            fig.imageObj.src = evt.data;\n",
       "            fig.updated_canvas_event();\n",
       "            fig.waiting = false;\n",
       "            return;\n",
       "        }\n",
       "\n",
       "        var msg = JSON.parse(evt.data);\n",
       "        var msg_type = msg['type'];\n",
       "\n",
       "        // Call the  \"handle_{type}\" callback, which takes\n",
       "        // the figure and JSON message as its only arguments.\n",
       "        try {\n",
       "            var callback = fig[\"handle_\" + msg_type];\n",
       "        } catch (e) {\n",
       "            console.log(\"No handler for the '\" + msg_type + \"' message type: \", msg);\n",
       "            return;\n",
       "        }\n",
       "\n",
       "        if (callback) {\n",
       "            try {\n",
       "                // console.log(\"Handling '\" + msg_type + \"' message: \", msg);\n",
       "                callback(fig, msg);\n",
       "            } catch (e) {\n",
       "                console.log(\"Exception inside the 'handler_\" + msg_type + \"' callback:\", e, e.stack, msg);\n",
       "            }\n",
       "        }\n",
       "    };\n",
       "}\n",
       "\n",
       "// from http://stackoverflow.com/questions/1114465/getting-mouse-location-in-canvas\n",
       "mpl.findpos = function(e) {\n",
       "    //this section is from http://www.quirksmode.org/js/events_properties.html\n",
       "    var targ;\n",
       "    if (!e)\n",
       "        e = window.event;\n",
       "    if (e.target)\n",
       "        targ = e.target;\n",
       "    else if (e.srcElement)\n",
       "        targ = e.srcElement;\n",
       "    if (targ.nodeType == 3) // defeat Safari bug\n",
       "        targ = targ.parentNode;\n",
       "\n",
       "    // jQuery normalizes the pageX and pageY\n",
       "    // pageX,Y are the mouse positions relative to the document\n",
       "    // offset() returns the position of the element relative to the document\n",
       "    var x = e.pageX - $(targ).offset().left;\n",
       "    var y = e.pageY - $(targ).offset().top;\n",
       "\n",
       "    return {\"x\": x, \"y\": y};\n",
       "};\n",
       "\n",
       "/*\n",
       " * return a copy of an object with only non-object keys\n",
       " * we need this to avoid circular references\n",
       " * http://stackoverflow.com/a/24161582/3208463\n",
       " */\n",
       "function simpleKeys (original) {\n",
       "  return Object.keys(original).reduce(function (obj, key) {\n",
       "    if (typeof original[key] !== 'object')\n",
       "        obj[key] = original[key]\n",
       "    return obj;\n",
       "  }, {});\n",
       "}\n",
       "\n",
       "mpl.figure.prototype.mouse_event = function(event, name) {\n",
       "    var canvas_pos = mpl.findpos(event)\n",
       "\n",
       "    if (name === 'button_press')\n",
       "    {\n",
       "        this.canvas.focus();\n",
       "        this.canvas_div.focus();\n",
       "    }\n",
       "\n",
       "    var x = canvas_pos.x;\n",
       "    var y = canvas_pos.y;\n",
       "\n",
       "    this.send_message(name, {x: x, y: y, button: event.button,\n",
       "                             step: event.step,\n",
       "                             guiEvent: simpleKeys(event)});\n",
       "\n",
       "    /* This prevents the web browser from automatically changing to\n",
       "     * the text insertion cursor when the button is pressed.  We want\n",
       "     * to control all of the cursor setting manually through the\n",
       "     * 'cursor' event from matplotlib */\n",
       "    event.preventDefault();\n",
       "    return false;\n",
       "}\n",
       "\n",
       "mpl.figure.prototype._key_event_extra = function(event, name) {\n",
       "    // Handle any extra behaviour associated with a key event\n",
       "}\n",
       "\n",
       "mpl.figure.prototype.key_event = function(event, name) {\n",
       "\n",
       "    // Prevent repeat events\n",
       "    if (name == 'key_press')\n",
       "    {\n",
       "        if (event.which === this._key)\n",
       "            return;\n",
       "        else\n",
       "            this._key = event.which;\n",
       "    }\n",
       "    if (name == 'key_release')\n",
       "        this._key = null;\n",
       "\n",
       "    var value = '';\n",
       "    if (event.ctrlKey && event.which != 17)\n",
       "        value += \"ctrl+\";\n",
       "    if (event.altKey && event.which != 18)\n",
       "        value += \"alt+\";\n",
       "    if (event.shiftKey && event.which != 16)\n",
       "        value += \"shift+\";\n",
       "\n",
       "    value += 'k';\n",
       "    value += event.which.toString();\n",
       "\n",
       "    this._key_event_extra(event, name);\n",
       "\n",
       "    this.send_message(name, {key: value,\n",
       "                             guiEvent: simpleKeys(event)});\n",
       "    return false;\n",
       "}\n",
       "\n",
       "mpl.figure.prototype.toolbar_button_onclick = function(name) {\n",
       "    if (name == 'download') {\n",
       "        this.handle_save(this, null);\n",
       "    } else {\n",
       "        this.send_message(\"toolbar_button\", {name: name});\n",
       "    }\n",
       "};\n",
       "\n",
       "mpl.figure.prototype.toolbar_button_onmouseover = function(tooltip) {\n",
       "    this.message.textContent = tooltip;\n",
       "};\n",
       "mpl.toolbar_items = [[\"Home\", \"Reset original view\", \"fa fa-home icon-home\", \"home\"], [\"Back\", \"Back to  previous view\", \"fa fa-arrow-left icon-arrow-left\", \"back\"], [\"Forward\", \"Forward to next view\", \"fa fa-arrow-right icon-arrow-right\", \"forward\"], [\"\", \"\", \"\", \"\"], [\"Pan\", \"Pan axes with left mouse, zoom with right\", \"fa fa-arrows icon-move\", \"pan\"], [\"Zoom\", \"Zoom to rectangle\", \"fa fa-square-o icon-check-empty\", \"zoom\"], [\"\", \"\", \"\", \"\"], [\"Download\", \"Download plot\", \"fa fa-floppy-o icon-save\", \"download\"]];\n",
       "\n",
       "mpl.extensions = [\"eps\", \"pdf\", \"png\", \"ps\", \"raw\", \"svg\"];\n",
       "\n",
       "mpl.default_extension = \"png\";var comm_websocket_adapter = function(comm) {\n",
       "    // Create a \"websocket\"-like object which calls the given IPython comm\n",
       "    // object with the appropriate methods. Currently this is a non binary\n",
       "    // socket, so there is still some room for performance tuning.\n",
       "    var ws = {};\n",
       "\n",
       "    ws.close = function() {\n",
       "        comm.close()\n",
       "    };\n",
       "    ws.send = function(m) {\n",
       "        //console.log('sending', m);\n",
       "        comm.send(m);\n",
       "    };\n",
       "    // Register the callback with on_msg.\n",
       "    comm.on_msg(function(msg) {\n",
       "        //console.log('receiving', msg['content']['data'], msg);\n",
       "        // Pass the mpl event to the overriden (by mpl) onmessage function.\n",
       "        ws.onmessage(msg['content']['data'])\n",
       "    });\n",
       "    return ws;\n",
       "}\n",
       "\n",
       "mpl.mpl_figure_comm = function(comm, msg) {\n",
       "    // This is the function which gets called when the mpl process\n",
       "    // starts-up an IPython Comm through the \"matplotlib\" channel.\n",
       "\n",
       "    var id = msg.content.data.id;\n",
       "    // Get hold of the div created by the display call when the Comm\n",
       "    // socket was opened in Python.\n",
       "    var element = $(\"#\" + id);\n",
       "    var ws_proxy = comm_websocket_adapter(comm)\n",
       "\n",
       "    function ondownload(figure, format) {\n",
       "        window.open(figure.imageObj.src);\n",
       "    }\n",
       "\n",
       "    var fig = new mpl.figure(id, ws_proxy,\n",
       "                           ondownload,\n",
       "                           element.get(0));\n",
       "\n",
       "    // Call onopen now - mpl needs it, as it is assuming we've passed it a real\n",
       "    // web socket which is closed, not our websocket->open comm proxy.\n",
       "    ws_proxy.onopen();\n",
       "\n",
       "    fig.parent_element = element.get(0);\n",
       "    fig.cell_info = mpl.find_output_cell(\"<div id='\" + id + \"'></div>\");\n",
       "    if (!fig.cell_info) {\n",
       "        console.error(\"Failed to find cell for figure\", id, fig);\n",
       "        return;\n",
       "    }\n",
       "\n",
       "    var output_index = fig.cell_info[2]\n",
       "    var cell = fig.cell_info[0];\n",
       "\n",
       "};\n",
       "\n",
       "mpl.figure.prototype.handle_close = function(fig, msg) {\n",
       "    fig.root.unbind('remove')\n",
       "\n",
       "    // Update the output cell to use the data from the current canvas.\n",
       "    fig.push_to_output();\n",
       "    var dataURL = fig.canvas.toDataURL();\n",
       "    // Re-enable the keyboard manager in IPython - without this line, in FF,\n",
       "    // the notebook keyboard shortcuts fail.\n",
       "    IPython.keyboard_manager.enable()\n",
       "    $(fig.parent_element).html('<img src=\"' + dataURL + '\">');\n",
       "    fig.close_ws(fig, msg);\n",
       "}\n",
       "\n",
       "mpl.figure.prototype.close_ws = function(fig, msg){\n",
       "    fig.send_message('closing', msg);\n",
       "    // fig.ws.close()\n",
       "}\n",
       "\n",
       "mpl.figure.prototype.push_to_output = function(remove_interactive) {\n",
       "    // Turn the data on the canvas into data in the output cell.\n",
       "    var dataURL = this.canvas.toDataURL();\n",
       "    this.cell_info[1]['text/html'] = '<img src=\"' + dataURL + '\">';\n",
       "}\n",
       "\n",
       "mpl.figure.prototype.updated_canvas_event = function() {\n",
       "    // Tell IPython that the notebook contents must change.\n",
       "    IPython.notebook.set_dirty(true);\n",
       "    this.send_message(\"ack\", {});\n",
       "    var fig = this;\n",
       "    // Wait a second, then push the new image to the DOM so\n",
       "    // that it is saved nicely (might be nice to debounce this).\n",
       "    setTimeout(function () { fig.push_to_output() }, 1000);\n",
       "}\n",
       "\n",
       "mpl.figure.prototype._init_toolbar = function() {\n",
       "    var fig = this;\n",
       "\n",
       "    var nav_element = $('<div/>')\n",
       "    nav_element.attr('style', 'width: 100%');\n",
       "    this.root.append(nav_element);\n",
       "\n",
       "    // Define a callback function for later on.\n",
       "    function toolbar_event(event) {\n",
       "        return fig.toolbar_button_onclick(event['data']);\n",
       "    }\n",
       "    function toolbar_mouse_event(event) {\n",
       "        return fig.toolbar_button_onmouseover(event['data']);\n",
       "    }\n",
       "\n",
       "    for(var toolbar_ind in mpl.toolbar_items){\n",
       "        var name = mpl.toolbar_items[toolbar_ind][0];\n",
       "        var tooltip = mpl.toolbar_items[toolbar_ind][1];\n",
       "        var image = mpl.toolbar_items[toolbar_ind][2];\n",
       "        var method_name = mpl.toolbar_items[toolbar_ind][3];\n",
       "\n",
       "        if (!name) { continue; };\n",
       "\n",
       "        var button = $('<button class=\"btn btn-default\" href=\"#\" title=\"' + name + '\"><i class=\"fa ' + image + ' fa-lg\"></i></button>');\n",
       "        button.click(method_name, toolbar_event);\n",
       "        button.mouseover(tooltip, toolbar_mouse_event);\n",
       "        nav_element.append(button);\n",
       "    }\n",
       "\n",
       "    // Add the status bar.\n",
       "    var status_bar = $('<span class=\"mpl-message\" style=\"text-align:right; float: right;\"/>');\n",
       "    nav_element.append(status_bar);\n",
       "    this.message = status_bar[0];\n",
       "\n",
       "    // Add the close button to the window.\n",
       "    var buttongrp = $('<div class=\"btn-group inline pull-right\"></div>');\n",
       "    var button = $('<button class=\"btn btn-mini btn-primary\" href=\"#\" title=\"Stop Interaction\"><i class=\"fa fa-power-off icon-remove icon-large\"></i></button>');\n",
       "    button.click(function (evt) { fig.handle_close(fig, {}); } );\n",
       "    button.mouseover('Stop Interaction', toolbar_mouse_event);\n",
       "    buttongrp.append(button);\n",
       "    var titlebar = this.root.find($('.ui-dialog-titlebar'));\n",
       "    titlebar.prepend(buttongrp);\n",
       "}\n",
       "\n",
       "mpl.figure.prototype._root_extra_style = function(el){\n",
       "    var fig = this\n",
       "    el.on(\"remove\", function(){\n",
       "\tfig.close_ws(fig, {});\n",
       "    });\n",
       "}\n",
       "\n",
       "mpl.figure.prototype._canvas_extra_style = function(el){\n",
       "    // this is important to make the div 'focusable\n",
       "    el.attr('tabindex', 0)\n",
       "    // reach out to IPython and tell the keyboard manager to turn it's self\n",
       "    // off when our div gets focus\n",
       "\n",
       "    // location in version 3\n",
       "    if (IPython.notebook.keyboard_manager) {\n",
       "        IPython.notebook.keyboard_manager.register_events(el);\n",
       "    }\n",
       "    else {\n",
       "        // location in version 2\n",
       "        IPython.keyboard_manager.register_events(el);\n",
       "    }\n",
       "\n",
       "}\n",
       "\n",
       "mpl.figure.prototype._key_event_extra = function(event, name) {\n",
       "    var manager = IPython.notebook.keyboard_manager;\n",
       "    if (!manager)\n",
       "        manager = IPython.keyboard_manager;\n",
       "\n",
       "    // Check for shift+enter\n",
       "    if (event.shiftKey && event.which == 13) {\n",
       "        this.canvas_div.blur();\n",
       "        event.shiftKey = false;\n",
       "        // Send a \"J\" for go to next cell\n",
       "        event.which = 74;\n",
       "        event.keyCode = 74;\n",
       "        manager.command_mode();\n",
       "        manager.handle_keydown(event);\n",
       "    }\n",
       "}\n",
       "\n",
       "mpl.figure.prototype.handle_save = function(fig, msg) {\n",
       "    fig.ondownload(fig, null);\n",
       "}\n",
       "\n",
       "\n",
       "mpl.find_output_cell = function(html_output) {\n",
       "    // Return the cell and output element which can be found *uniquely* in the notebook.\n",
       "    // Note - this is a bit hacky, but it is done because the \"notebook_saving.Notebook\"\n",
       "    // IPython event is triggered only after the cells have been serialised, which for\n",
       "    // our purposes (turning an active figure into a static one), is too late.\n",
       "    var cells = IPython.notebook.get_cells();\n",
       "    var ncells = cells.length;\n",
       "    for (var i=0; i<ncells; i++) {\n",
       "        var cell = cells[i];\n",
       "        if (cell.cell_type === 'code'){\n",
       "            for (var j=0; j<cell.output_area.outputs.length; j++) {\n",
       "                var data = cell.output_area.outputs[j];\n",
       "                if (data.data) {\n",
       "                    // IPython >= 3 moved mimebundle to data attribute of output\n",
       "                    data = data.data;\n",
       "                }\n",
       "                if (data['text/html'] == html_output) {\n",
       "                    return [cell, data, j];\n",
       "                }\n",
       "            }\n",
       "        }\n",
       "    }\n",
       "}\n",
       "\n",
       "// Register the function which deals with the matplotlib target/channel.\n",
       "// The kernel may be null if the page has been refreshed.\n",
       "if (IPython.notebook.kernel != null) {\n",
       "    IPython.notebook.kernel.comm_manager.register_target('matplotlib', mpl.mpl_figure_comm);\n",
       "}\n"
      ],
      "text/plain": [
       "<IPython.core.display.Javascript object>"
      ]
     },
     "metadata": {},
     "output_type": "display_data"
    },
    {
     "data": {
      "text/html": [
       "<img src=\"data:image/png;base64,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\">"
      ],
      "text/plain": [
       "<IPython.core.display.HTML object>"
      ]
     },
     "metadata": {},
     "output_type": "display_data"
    },
    {
     "data": {
      "text/plain": [
       "[<matplotlib.lines.Line2D at 0x7f7e3e5affd0>]"
      ]
     },
     "execution_count": 4,
     "metadata": {},
     "output_type": "execute_result"
    }
   ],
   "source": [
    "def semf(X, Y, a_v, a_s, a_c, a_a, a_p):\n",
    "    model = np.zeros_like(X)\n",
    "    vol = a_v\n",
    "    sa = -a_s*X**(-1./3.)\n",
    "    es = -a_c*Y*(Y-1)*X**(-4./3.)\n",
    "    asy = -a_a*((X-2*Y)**2)*X**(-2)\n",
    "    \n",
    "    N = X-Y\n",
    "    parity = np.zeros_like(X)\n",
    "    for i in range(len(parity)):\n",
    "        if N[i] % 2 == 0 and Y[i] % 2 == 0:\n",
    "            parity[i] = a_p*X[i]**(-3./4.)\n",
    "        elif N[i] % 2 == 1 and Y[i] % 2 == 1:\n",
    "            parity[i] = -a_p*X[i]**(-3./4.)\n",
    "        else:\n",
    "            parity[i] = 0.0\n",
    "\n",
    "    model = vol+sa+es+asy+parity/X\n",
    "    return model\n",
    "\n",
    "fig2 = plt.figure(figsize = (12,6))\n",
    "ax2 = plt.subplot(111)\n",
    "\n",
    "ax2.set_xlabel('Atomic Number / A')\n",
    "ax2.set_ylabel('Binding Energy per Nucleon (MeV) / (B/A)')\n",
    "\n",
    "ax2.plot(read_data[0],read_data[2],'bx')\n",
    "ax2.set_xlim([0,max(read_data[0])])\n",
    "\n",
    "p0 = [15.8,18.0,0.72,23.5,33.5]\n",
    "model_ln = semf(read_data[0], read_data[1], p0[0], p0[1], p0[2], p0[3], p0[4])\n",
    "\n",
    "ax2.plot(read_data[0],model_ln,'r-')"
   ]
  },
  {
   "cell_type": "code",
   "execution_count": null,
   "metadata": {
    "collapsed": true
   },
   "outputs": [],
   "source": []
  }
 ],
 "metadata": {
  "kernelspec": {
   "display_name": "Python 2",
   "language": "python",
   "name": "python2"
  },
  "language_info": {
   "codemirror_mode": {
    "name": "ipython",
    "version": 2
   },
   "file_extension": ".py",
   "mimetype": "text/x-python",
   "name": "python",
   "nbconvert_exporter": "python",
   "pygments_lexer": "ipython2",
   "version": "2.7.11"
  },
  "widgets": {
   "state": {
    "038ef6c7e0e942a794eeef5bcff3cb3a": {
     "views": []
    },
    "06db3f00db1c4fa1819d4b9f7cf6fe67": {
     "views": []
    },
    "073a8aa03b134b79a17b445ec74c9ea2": {
     "views": []
    },
    "0780fea543794705b314025a4a726f1b": {
     "views": []
    },
    "07d8f374074649b2822eabf699c985e2": {
     "views": []
    },
    "094d4aacbb8e44e8ad76e3d8300c67b5": {
     "views": []
    },
    "0aacca382a5244a7b99ea4c8cb4c49f0": {
     "views": []
    },
    "0b93af3350774e26857ce5bc81116fa3": {
     "views": []
    },
    "0b9a31501d3f40c8b2aba34708a9a824": {
     "views": []
    },
    "0c0db48addb34186bd76f6f7944d1cd7": {
     "views": []
    },
    "0cb23d3ddaf5450aa210a85593ccc263": {
     "views": []
    },
    "12e67993db3c4e69a18df90a384227ef": {
     "views": []
    },
    "12f0e4f255bc4e27b08c6b404aee9b2a": {
     "views": []
    },
    "17032e9b007d4db486f285c4beeed55e": {
     "views": []
    },
    "18c81295bd7a46c09487fc1ff9b79a20": {
     "views": []
    },
    "192fbaaa6f034a01877fcc160c1d40a1": {
     "views": []
    },
    "1bf41565964e49f2b074f04a50eb202e": {
     "views": []
    },
    "1ce43745c2c5466a898c2dbffccf4a9b": {
     "views": []
    },
    "1f399f865750487da056e6ea05367a58": {
     "views": []
    },
    "1f922e10b9da47b7860beaf65e911cc0": {
     "views": []
    },
    "20e123630e534ac38b404707d3fd0204": {
     "views": []
    },
    "2257dd120d8b43a9855868f40ec018cc": {
     "views": []
    },
    "2452fc3c1d5046f9a9118b78c1ed33fa": {
     "views": []
    },
    "2518ff8fc60248658deb66d3e6ce2476": {
     "views": []
    },
    "259107b285cc4f7589ee458780ffba6d": {
     "views": []
    },
    "27f4652916aa4dcf8fb5087479a02962": {
     "views": []
    },
    "285a109fb08c47d785933674e81b58d6": {
     "views": []
    },
    "28d9645959ec4c38a105d2764d45239c": {
     "views": []
    },
    "28eed39e6a45429fbf0bfdfd165f5939": {
     "views": []
    },
    "2ac71839a4bd4023ae8dbbbf7e25c567": {
     "views": []
    },
    "2b3c6cf452e840e0864a839c19e72721": {
     "views": []
    },
    "2be2c0bfa2334e848f6d1d0bbf63a89c": {
     "views": []
    },
    "2d4907e01fe24bb6b266bc6c15908a7f": {
     "views": []
    },
    "2fb902eb5dde4ce1b6c0587bc4cb9d62": {
     "views": []
    },
    "32c5c584b31a4327bdce424d3be11cb1": {
     "views": []
    },
    "347c42c70d4d42efbee7c913c06fe97b": {
     "views": []
    },
    "34b1c191d0dd40a39e91671703cc2015": {
     "views": []
    },
    "355dc8299dd149bcbce7a301117b0a68": {
     "views": []
    },
    "35fe435bc9a74074935b6857bdcaf1f1": {
     "views": []
    },
    "37df598e72754133bac5590fc95d71a7": {
     "views": []
    },
    "3ab3081ef8f4412c8ddf7397266b2807": {
     "views": []
    },
    "3cd6fdcb54ef41aaa79977f4248eea64": {
     "views": []
    },
    "3ce79f5d91f2455b9853f379a584ace2": {
     "views": []
    },
    "3d2639679c8640e19273324b9b1d159b": {
     "views": []
    },
    "3d74abba0ffc470abc5c0f0d2b8bd1b3": {
     "views": []
    },
    "3e113a5dccfa407fbecf32b1addae226": {
     "views": []
    },
    "3f4ac64c65c94b74a37cd7f64a1ae89e": {
     "views": []
    },
    "404f689201554c2e88135bd3a214aeab": {
     "views": []
    },
    "406b841b461641c4ba5338b6e21d5f68": {
     "views": []
    },
    "41905c87836540068a81fd4ae56f1cb9": {
     "views": []
    },
    "41acf81f639f4bb1a8af33a741bc8083": {
     "views": []
    },
    "486c03b86ab8460bb8fceedb7f4de793": {
     "views": []
    },
    "4cf90b932baa4abd844d0bec566203a1": {
     "views": []
    },
    "4d54abb97ec0476cbe785ed1bf2ee857": {
     "views": []
    },
    "4dfb90b35b284672a6e315cfe2703c08": {
     "views": []
    },
    "4ed079c516e641cb96d63d372d2a7638": {
     "views": []
    },
    "4eda00dfb81c473d832380213a496bc5": {
     "views": []
    },
    "4fafefe3757d499cb5a5eb0798099de0": {
     "views": []
    },
    "5058cffc6c664b33ba27e098c48b0ec7": {
     "views": []
    },
    "5075c6da253d4eb2bdce2cb867ecdd29": {
     "views": []
    },
    "522d914827994ed09739cf22463d88d4": {
     "views": []
    },
    "52cfd1459c8b4b24ac0b98ae470c5184": {
     "views": []
    },
    "53173021e2834205832a9122f67445d9": {
     "views": []
    },
    "53ff87581e5e47d49b4c96659b1b36b5": {
     "views": []
    },
    "54b28926673a4ca1aa3f90fd4e01acf5": {
     "views": []
    },
    "55b679704cf34f5782ea43638be2ee96": {
     "views": []
    },
    "561897a40d1b45249f914473656ac4bc": {
     "views": []
    },
    "5709fb2e775d466594aa14878691e64c": {
     "views": []
    },
    "573653e3ee504b3994cfb0cd7c325e0e": {
     "views": []
    },
    "579f32b3761b4421a228f7c2bb763a47": {
     "views": []
    },
    "583c07a5897b493d96e352be8ffb85a1": {
     "views": []
    },
    "5aa0eb96ef9b4f2ba819ec9e6cac4679": {
     "views": []
    },
    "5b04a32b75984d5ebfc3978b9e4fb799": {
     "views": []
    },
    "5b3fc0b4bd434b3ca71e0a3f1003ec54": {
     "views": []
    },
    "5d490c9fca6a4c318d95e82e741f4e49": {
     "views": []
    },
    "5db082d818184a789f9f46959e356d74": {
     "views": []
    },
    "5ddbf3534e974e8a973c00707c741366": {
     "views": []
    },
    "6081bbeaeee34b468027373b98ef6663": {
     "views": []
    },
    "60d3871a4c374392bce473af9019a737": {
     "views": []
    },
    "613003cc246d472393e2634425117491": {
     "views": []
    },
    "61ea04422a1e43ddad4db827a590c99b": {
     "views": []
    },
    "627aa2a72d7444e3aab847723e9d0911": {
     "views": []
    },
    "644c63dc8ca1429c9c1bf3067babbdde": {
     "views": []
    },
    "6543292f29e44e4c81745269fe380f37": {
     "views": []
    },
    "6614d62a967d435b9492e0c2fb51b9c0": {
     "views": []
    },
    "6758d8a109e94c49a0f37f8248a33b3c": {
     "views": []
    },
    "67c05e6cdad2451490e4051c44ab8351": {
     "views": []
    },
    "6a225b782ffe45ec9b60393d9d6ca9f8": {
     "views": []
    },
    "6f7788a19317414fb3e69ea3f7b8133a": {
     "views": []
    },
    "71fe84de063e4436af387fd227bdf2c9": {
     "views": []
    },
    "72163eeaab414351ad556f9dc8c19f91": {
     "views": []
    },
    "726630c990a248de8adb378694ddf87f": {
     "views": []
    },
    "72cd3a073c014d7eb841f790083d0fad": {
     "views": []
    },
    "730d218ba7b04ed5b0bf991187ef499d": {
     "views": []
    },
    "7411e0027ecc4a5fb8f4b701e67f52c1": {
     "views": []
    },
    "743fb6e1ad224d45a875c2cbc06bde28": {
     "views": []
    },
    "7473d8a8c69143dc9f5e1adda8fdab02": {
     "views": []
    },
    "755960f7dc504b928db6c2ec54527c87": {
     "views": []
    },
    "75fce0fee25d429fa6bba5c4c52bf5f4": {
     "views": []
    },
    "77570e75656049e1a615fcf5f2588524": {
     "views": []
    },
    "778b6558ddea479f8909fe15dda044c1": {
     "views": []
    },
    "77b11d9d0d0449b5a8acffe3ff783ab0": {
     "views": []
    },
    "7aa88ce7db564c3782c80c651f76b32c": {
     "views": []
    },
    "7ab4c5f9587241cfa5c00bdbcfa5825c": {
     "views": []
    },
    "7b03033409e1459980ef488f68a2eb48": {
     "views": []
    },
    "7bbe343f65f1416aa044de94b940b82f": {
     "views": []
    },
    "7c5e941c5ea04989a2c61a6668b63ad6": {
     "views": []
    },
    "7ccf9d16efc7462dbf57406454a6c4ef": {
     "views": []
    },
    "7d4f0723ec714febbc58863301e26265": {
     "views": []
    },
    "7e2af88b074745b5af14f779c3d83375": {
     "views": []
    },
    "80cc396c20d44e4f9fc8caadc39647c9": {
     "views": []
    },
    "83ca51e45de24ef4bc7192df36221142": {
     "views": []
    },
    "886f942d4a22454eae3cca86610532a0": {
     "views": []
    },
    "88f974099e694208bdf6ea50f0e9f493": {
     "views": []
    },
    "895e98f38f91418c807106cbc15675c9": {
     "views": []
    },
    "8ac6c631d4ca4df5a08eef029c9ace9d": {
     "views": []
    },
    "8b048dca16644cd8ac71786bc9c7ca0a": {
     "views": []
    },
    "8b709ec8e98b42bd8a6045da715b8456": {
     "views": []
    },
    "8b96c06a1c174aada15ccf1310018b40": {
     "views": []
    },
    "8be9d5cd5dd74cc09c698a905e5c5c3a": {
     "views": []
    },
    "8c05829ce62e4a13aac3677740b8f436": {
     "views": []
    },
    "8eb52d9dad4848e1ad5222190cec2afe": {
     "views": []
    },
    "90182195203841beacec293a65a34b57": {
     "views": []
    },
    "90d800b744ae40f98c5f1235b59ff0fc": {
     "views": []
    },
    "90e8741754074e0f89c097058bb0d5a2": {
     "views": []
    },
    "9136a65460024729bebb9624548a318e": {
     "views": []
    },
    "96a1e315ee2e4defa6433905d71dd740": {
     "views": []
    },
    "971e3ef436344f29806b3bb8c28d5e15": {
     "views": []
    },
    "9bd139c4d9df46e08a07a9ad9dc78ac5": {
     "views": []
    },
    "9d92b56842db46bb9fca70d5bc3e2b7a": {
     "views": []
    },
    "9dcaa44ce7c742aa9379f90973b26797": {
     "views": []
    },
    "9f5198b195964a6fabec63ed59aa135d": {
     "views": []
    },
    "a0747413cb57464480671b9ab585819d": {
     "views": []
    },
    "a19bca63b2004ee09b8600545e2c02c3": {
     "views": []
    },
    "a28ff53999de461b97cee0db3b6d1fef": {
     "views": []
    },
    "a612bd9d657b4bf9a4250d54416876b1": {
     "views": []
    },
    "a759269327f44e4eba29c40bdd8e3136": {
     "views": [
      {
       "cell_index": 5
      }
     ]
    },
    "a95d7afb309747c5b3b798466092b63a": {
     "views": []
    },
    "aa02efdbc3064ffab9b4c62b885cf2e1": {
     "views": []
    },
    "ad108b7825814caeb9bfdf49a7be98f5": {
     "views": []
    },
    "ad7195e35d35402c9f52e005d54f03a4": {
     "views": []
    },
    "adc4ef8e595840638357264902d2a27f": {
     "views": []
    },
    "ae0843e7e4974cc29db1d2ddf046bccd": {
     "views": []
    },
    "af4923b1ff8d4dfcb5bb5b630fa2b763": {
     "views": []
    },
    "af7229f630b242edab9e7ea0a32bd280": {
     "views": []
    },
    "af88441e98a847e98bea7fcc86b78ddb": {
     "views": []
    },
    "b106aef15cbd4126846632b6d65b92b6": {
     "views": []
    },
    "b26888cbc2af46dfa1c6210022c32363": {
     "views": []
    },
    "b369d4668b354e13a7c8cba567b59024": {
     "views": []
    },
    "b3b08d17fa9e411b80b6ac918d8b480d": {
     "views": []
    },
    "b433ee10771a432b9c5b118da0731f00": {
     "views": []
    },
    "b5db4af67e934d4cb4c8afffe0514cd2": {
     "views": []
    },
    "b77fae7c465747889ee57ddc20a76b32": {
     "views": []
    },
    "b7a02dd9bfa24194b523f9f3fe510f73": {
     "views": []
    },
    "b83b71f4fee647239575df11e7f4f34f": {
     "views": []
    },
    "ba22bb09299b4a619f93754bd588fd4d": {
     "views": []
    },
    "bc5dadfe19f54e0a972a2ac51ab38a95": {
     "views": []
    },
    "bcaf09bf9cee4a23b621283f0aa34073": {
     "views": []
    },
    "bcc63848867c49a8b4e4d9e3d03ae4af": {
     "views": []
    },
    "be07750c984c4a969160617817eed5f6": {
     "views": []
    },
    "c00ae6574b07407990fd777c3ba8cbc1": {
     "views": []
    },
    "c0e5a065da5a479aa8908b0a2f59afdd": {
     "views": []
    },
    "c16d22d398db458382980f7b20d9ee64": {
     "views": []
    },
    "c2fe21994e364831935ef555a204cf3d": {
     "views": []
    },
    "c4fe76b091484f09b9c795ae0ca4bf5c": {
     "views": []
    },
    "c56f2bf5c2744a9b9b7827e6865d2ba0": {
     "views": []
    },
    "c59383e2a8314c099c250ca55e2260c9": {
     "views": []
    },
    "c77fe51a9f0846eb87f30cff6f34c83c": {
     "views": []
    },
    "c79fe40a2b2d4dc4a4b8a1a9a364f561": {
     "views": []
    },
    "ca92dfc38d954085ba52e4f7a0d2f6cb": {
     "views": []
    },
    "cb1fb25aeeac43d49777f0034ba6142c": {
     "views": []
    },
    "cc7821cbfdcc4bdba165c7bc7eda0d40": {
     "views": []
    },
    "ce4f5c9468fe4ee6a7b3232fe5200392": {
     "views": []
    },
    "ced3b98f6d2e4be4aee12c6eab708f85": {
     "views": []
    },
    "d3d09de46a564075a196fbf1736120f0": {
     "views": []
    },
    "d4bf643216e74ebba7ae2b2fba1847ce": {
     "views": []
    },
    "d4dfdb450f1345f586dc98a2bdc1d192": {
     "views": []
    },
    "d7474683eb2f467fa7bf65dcd981001b": {
     "views": []
    },
    "d91a3ba3780f488e9fba4e77612ad36e": {
     "views": []
    },
    "da9d8657741b48d280b95645285dcba9": {
     "views": []
    },
    "de3f0593d00f43998f1558f63508f520": {
     "views": []
    },
    "e14c4a1bcbd84060a7060ee61c6a2287": {
     "views": []
    },
    "e1c411e9e75e4d1bacd9f841c79fd124": {
     "views": []
    },
    "e2cef7f06c404884ade43fe0729e3029": {
     "views": []
    },
    "e2e294785bfd4da8815b81917211873e": {
     "views": []
    },
    "e422b8c2486f400580fdfdd17753e88a": {
     "views": []
    },
    "e4d4eeb6a37b43c696cf0bbfbad073e1": {
     "views": []
    },
    "e50e782316db4226b6d6ff7ef41cfc5e": {
     "views": []
    },
    "e692db55a95f44219ea8691d2a04aadc": {
     "views": []
    },
    "e8a521c76f904c80a0f62e32fbcb46a7": {
     "views": []
    },
    "ea8dce1fe0d04027bed06591538fb92f": {
     "views": []
    },
    "eb3f9545e28c4fc3a3fc55968d871535": {
     "views": []
    },
    "eba82b96c8774d48b69450dde9e754b1": {
     "views": []
    },
    "ee2f960821e248a2abeef12a978d6ab9": {
     "views": []
    },
    "f1846f4ad80b4203b2955d0500923f7b": {
     "views": []
    },
    "f18fbfbb171847119ce0d4673b2412cf": {
     "views": []
    },
    "f1e415f6e8984e42af4cfee6dab8b971": {
     "views": []
    },
    "f355ebbd16794f56a38a0088caf2290f": {
     "views": []
    },
    "f3e0ac29a25c42e8bcdf686898cfff82": {
     "views": []
    },
    "f3e11e3fafba4cc0bcd0e762c5c440d6": {
     "views": []
    },
    "f53162d5d57a4169aa64f66715d84af2": {
     "views": []
    },
    "f5880845f3f54495bf1abf0fbb1adc98": {
     "views": []
    },
    "f5a0f375be144d9c83412e6a23441d61": {
     "views": []
    },
    "f66f95b6e3b542cda2012cf082a5154c": {
     "views": []
    },
    "f7374e4a7cbc495c92d1c0f5363d6be5": {
     "views": []
    },
    "f7865bf2d4f14350a3e26adf919928f1": {
     "views": []
    },
    "f854a85721ac42d69c10598261dd3f8f": {
     "views": []
    },
    "f9fcedd1f42749d0817a7e945498fff4": {
     "views": []
    },
    "fc26c1420ad84c32ac72c297ba5d92af": {
     "views": []
    },
    "fedb92a3f8684eb6b811594154fd8f16": {
     "views": []
    }
   },
   "version": "1.1.2"
  }
 },
 "nbformat": 4,
 "nbformat_minor": 0
}
