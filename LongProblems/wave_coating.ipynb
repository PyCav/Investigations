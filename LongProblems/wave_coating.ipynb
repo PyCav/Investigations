{
 "cells": [
  {
   "cell_type": "markdown",
   "metadata": {},
   "source": [
    "<center><b>Wave Incident on Layered Material</b></center>\n",
    "<center>Solution to Q15 of Oscillations, Waves & Optics</center>\n",
    "\n",
    "A plane wave of unit amplitude, $e^{i\\omega t - ik_1 x}$ propagates in the $+x$ direction of a region of impedance $Z_1$ which fills the region $x < 0$. It is incident normally on a layer of material of thickness $l$ and impedance $Z_2$ which fills the region $0 < x < l$. Some of it is, in general, reflected so that the total disturbance in $x < 0$ is:\n",
    "\n",
    "<center>$\\psi_1 = e^{i\\omega t - ik_1 x}+re^{i\\omega t + ik_1 x}$</center>\n",
    "\n",
    "where $r$ is the complex amplitude of the reflected wave. In steady state, region 2 in general contains forward and backward travelling waves of complex amplitude $a$ and $b$:\n",
    "\n",
    "<center>$\\psi_2 = ae^{i\\omega t - ik_2 x}+be^{i\\omega t + ik_2 x}$</center>\n",
    "\n",
    "The layer lies on an infinite substrate of impedance $Z_3$, which fills the region $x > l$. In this region, the transmitted wave can be written:\n",
    "\n",
    "<center>$\\psi_3 = t e^{i\\omega t - ik_3 x}$</center>"
   ]
  },
  {
   "cell_type": "code",
   "execution_count": 1,
   "metadata": {
    "collapsed": false
   },
   "outputs": [],
   "source": [
    "import numpy as np\n",
    "import matplotlib.pyplot as plt\n",
    "%matplotlib notebook\n",
    "\n",
    "from IPython.display import display\n",
    "import ipywidgets as widgets\n",
    "from ipywidgets import interact"
   ]
  },
  {
   "cell_type": "markdown",
   "metadata": {},
   "source": [
    "By solving the boundary conditions at $x = 0$ and $x = l$ (exercise), one finds the matrix equation:\n",
    "\n",
    "<center>$\\begin{pmatrix}\n",
    "-1 & 1 & 1 & 0 \\\\\n",
    "1 & Z_1/Z_2 & -Z_1/Z_2 & 0 \\\\\n",
    "0 & e^{-ik_2 l} & e^{ik_2 l} & -1 \\\\\n",
    "0 & e^{-ik_2 l} & -e^{ik_2 l} & -Z_2/Z_3 \\\\\n",
    "\\end{pmatrix}$\n",
    "$\\begin{pmatrix}\n",
    "r\\\\\n",
    "a \\\\\n",
    "b \\\\\n",
    "t \\\\\n",
    "\\end{pmatrix}$\n",
    "$= \\begin{pmatrix}\n",
    "1 \\\\\n",
    "1 \\\\\n",
    "0 \\\\\n",
    "0 \\\\\n",
    "\\end{pmatrix}$</center>\n",
    "\n",
    "An inverse for this matrix can be found numerically and hence $(r,a,b,t)$ found by premultiplication by the matrix inverse"
   ]
  },
  {
   "cell_type": "code",
   "execution_count": 2,
   "metadata": {
    "collapsed": true
   },
   "outputs": [],
   "source": [
    "def matrix_solve(Z_1,Z_2,Z_3,k_2,l):\n",
    "    vec_list = []\n",
    "    for i in range(len(l)):\n",
    "        exp = np.e**(1j*k_2*l[i])\n",
    "        Y = np.array((1.,1.,0.,0.))\n",
    "        X = np.array(((-1.,1.,1.,0.),(1.,Z_1/Z_2,-Z_1/Z_2,0),(0.,exp**-1,exp,-1.),(0.,exp**-1,-exp,-Z_2/Z_3)))\n",
    "        X_inv = np.linalg.inv(X)\n",
    "        vec_list.append(X_inv.dot(Y))\n",
    "    return vec_list"
   ]
  },
  {
   "cell_type": "markdown",
   "metadata": {},
   "source": [
    "All there remains to do is set up a way to plot the reflection/transmission amplitude and phase as a function of layer thickness.\n",
    "\n",
    "Reflection terms will be plotted in red and transmission in blue. Impedances and $k_2$ can be changed by sliders\n",
    "\n",
    "For what impedances and thicknesses is there no reflection? c.f. anti-reflection coatings"
   ]
  },
  {
   "cell_type": "code",
   "execution_count": 4,
   "metadata": {
    "collapsed": false
   },
   "outputs": [
    {
     "data": {
      "application/javascript": [
       "/* Put everything inside the global mpl namespace */\n",
       "window.mpl = {};\n",
       "\n",
       "mpl.get_websocket_type = function() {\n",
       "    if (typeof(WebSocket) !== 'undefined') {\n",
       "        return WebSocket;\n",
       "    } else if (typeof(MozWebSocket) !== 'undefined') {\n",
       "        return MozWebSocket;\n",
       "    } else {\n",
       "        alert('Your browser does not have WebSocket support.' +\n",
       "              'Please try Chrome, Safari or Firefox ≥ 6. ' +\n",
       "              'Firefox 4 and 5 are also supported but you ' +\n",
       "              'have to enable WebSockets in about:config.');\n",
       "    };\n",
       "}\n",
       "\n",
       "mpl.figure = function(figure_id, websocket, ondownload, parent_element) {\n",
       "    this.id = figure_id;\n",
       "\n",
       "    this.ws = websocket;\n",
       "\n",
       "    this.supports_binary = (this.ws.binaryType != undefined);\n",
       "\n",
       "    if (!this.supports_binary) {\n",
       "        var warnings = document.getElementById(\"mpl-warnings\");\n",
       "        if (warnings) {\n",
       "            warnings.style.display = 'block';\n",
       "            warnings.textContent = (\n",
       "                \"This browser does not support binary websocket messages. \" +\n",
       "                    \"Performance may be slow.\");\n",
       "        }\n",
       "    }\n",
       "\n",
       "    this.imageObj = new Image();\n",
       "\n",
       "    this.context = undefined;\n",
       "    this.message = undefined;\n",
       "    this.canvas = undefined;\n",
       "    this.rubberband_canvas = undefined;\n",
       "    this.rubberband_context = undefined;\n",
       "    this.format_dropdown = undefined;\n",
       "\n",
       "    this.image_mode = 'full';\n",
       "\n",
       "    this.root = $('<div/>');\n",
       "    this._root_extra_style(this.root)\n",
       "    this.root.attr('style', 'display: inline-block');\n",
       "\n",
       "    $(parent_element).append(this.root);\n",
       "\n",
       "    this._init_header(this);\n",
       "    this._init_canvas(this);\n",
       "    this._init_toolbar(this);\n",
       "\n",
       "    var fig = this;\n",
       "\n",
       "    this.waiting = false;\n",
       "\n",
       "    this.ws.onopen =  function () {\n",
       "            fig.send_message(\"supports_binary\", {value: fig.supports_binary});\n",
       "            fig.send_message(\"send_image_mode\", {});\n",
       "            fig.send_message(\"refresh\", {});\n",
       "        }\n",
       "\n",
       "    this.imageObj.onload = function() {\n",
       "            if (fig.image_mode == 'full') {\n",
       "                // Full images could contain transparency (where diff images\n",
       "                // almost always do), so we need to clear the canvas so that\n",
       "                // there is no ghosting.\n",
       "                fig.context.clearRect(0, 0, fig.canvas.width, fig.canvas.height);\n",
       "            }\n",
       "            fig.context.drawImage(fig.imageObj, 0, 0);\n",
       "        };\n",
       "\n",
       "    this.imageObj.onunload = function() {\n",
       "        this.ws.close();\n",
       "    }\n",
       "\n",
       "    this.ws.onmessage = this._make_on_message_function(this);\n",
       "\n",
       "    this.ondownload = ondownload;\n",
       "}\n",
       "\n",
       "mpl.figure.prototype._init_header = function() {\n",
       "    var titlebar = $(\n",
       "        '<div class=\"ui-dialog-titlebar ui-widget-header ui-corner-all ' +\n",
       "        'ui-helper-clearfix\"/>');\n",
       "    var titletext = $(\n",
       "        '<div class=\"ui-dialog-title\" style=\"width: 100%; ' +\n",
       "        'text-align: center; padding: 3px;\"/>');\n",
       "    titlebar.append(titletext)\n",
       "    this.root.append(titlebar);\n",
       "    this.header = titletext[0];\n",
       "}\n",
       "\n",
       "\n",
       "\n",
       "mpl.figure.prototype._canvas_extra_style = function(canvas_div) {\n",
       "\n",
       "}\n",
       "\n",
       "\n",
       "mpl.figure.prototype._root_extra_style = function(canvas_div) {\n",
       "\n",
       "}\n",
       "\n",
       "mpl.figure.prototype._init_canvas = function() {\n",
       "    var fig = this;\n",
       "\n",
       "    var canvas_div = $('<div/>');\n",
       "\n",
       "    canvas_div.attr('style', 'position: relative; clear: both; outline: 0');\n",
       "\n",
       "    function canvas_keyboard_event(event) {\n",
       "        return fig.key_event(event, event['data']);\n",
       "    }\n",
       "\n",
       "    canvas_div.keydown('key_press', canvas_keyboard_event);\n",
       "    canvas_div.keyup('key_release', canvas_keyboard_event);\n",
       "    this.canvas_div = canvas_div\n",
       "    this._canvas_extra_style(canvas_div)\n",
       "    this.root.append(canvas_div);\n",
       "\n",
       "    var canvas = $('<canvas/>');\n",
       "    canvas.addClass('mpl-canvas');\n",
       "    canvas.attr('style', \"left: 0; top: 0; z-index: 0; outline: 0\")\n",
       "\n",
       "    this.canvas = canvas[0];\n",
       "    this.context = canvas[0].getContext(\"2d\");\n",
       "\n",
       "    var rubberband = $('<canvas/>');\n",
       "    rubberband.attr('style', \"position: absolute; left: 0; top: 0; z-index: 1;\")\n",
       "\n",
       "    var pass_mouse_events = true;\n",
       "\n",
       "    canvas_div.resizable({\n",
       "        start: function(event, ui) {\n",
       "            pass_mouse_events = false;\n",
       "        },\n",
       "        resize: function(event, ui) {\n",
       "            fig.request_resize(ui.size.width, ui.size.height);\n",
       "        },\n",
       "        stop: function(event, ui) {\n",
       "            pass_mouse_events = true;\n",
       "            fig.request_resize(ui.size.width, ui.size.height);\n",
       "        },\n",
       "    });\n",
       "\n",
       "    function mouse_event_fn(event) {\n",
       "        if (pass_mouse_events)\n",
       "            return fig.mouse_event(event, event['data']);\n",
       "    }\n",
       "\n",
       "    rubberband.mousedown('button_press', mouse_event_fn);\n",
       "    rubberband.mouseup('button_release', mouse_event_fn);\n",
       "    // Throttle sequential mouse events to 1 every 20ms.\n",
       "    rubberband.mousemove('motion_notify', mouse_event_fn);\n",
       "\n",
       "    rubberband.mouseenter('figure_enter', mouse_event_fn);\n",
       "    rubberband.mouseleave('figure_leave', mouse_event_fn);\n",
       "\n",
       "    canvas_div.on(\"wheel\", function (event) {\n",
       "        event = event.originalEvent;\n",
       "        event['data'] = 'scroll'\n",
       "        if (event.deltaY < 0) {\n",
       "            event.step = 1;\n",
       "        } else {\n",
       "            event.step = -1;\n",
       "        }\n",
       "        mouse_event_fn(event);\n",
       "    });\n",
       "\n",
       "    canvas_div.append(canvas);\n",
       "    canvas_div.append(rubberband);\n",
       "\n",
       "    this.rubberband = rubberband;\n",
       "    this.rubberband_canvas = rubberband[0];\n",
       "    this.rubberband_context = rubberband[0].getContext(\"2d\");\n",
       "    this.rubberband_context.strokeStyle = \"#000000\";\n",
       "\n",
       "    this._resize_canvas = function(width, height) {\n",
       "        // Keep the size of the canvas, canvas container, and rubber band\n",
       "        // canvas in synch.\n",
       "        canvas_div.css('width', width)\n",
       "        canvas_div.css('height', height)\n",
       "\n",
       "        canvas.attr('width', width);\n",
       "        canvas.attr('height', height);\n",
       "\n",
       "        rubberband.attr('width', width);\n",
       "        rubberband.attr('height', height);\n",
       "    }\n",
       "\n",
       "    // Set the figure to an initial 600x600px, this will subsequently be updated\n",
       "    // upon first draw.\n",
       "    this._resize_canvas(600, 600);\n",
       "\n",
       "    // Disable right mouse context menu.\n",
       "    $(this.rubberband_canvas).bind(\"contextmenu\",function(e){\n",
       "        return false;\n",
       "    });\n",
       "\n",
       "    function set_focus () {\n",
       "        canvas.focus();\n",
       "        canvas_div.focus();\n",
       "    }\n",
       "\n",
       "    window.setTimeout(set_focus, 100);\n",
       "}\n",
       "\n",
       "mpl.figure.prototype._init_toolbar = function() {\n",
       "    var fig = this;\n",
       "\n",
       "    var nav_element = $('<div/>')\n",
       "    nav_element.attr('style', 'width: 100%');\n",
       "    this.root.append(nav_element);\n",
       "\n",
       "    // Define a callback function for later on.\n",
       "    function toolbar_event(event) {\n",
       "        return fig.toolbar_button_onclick(event['data']);\n",
       "    }\n",
       "    function toolbar_mouse_event(event) {\n",
       "        return fig.toolbar_button_onmouseover(event['data']);\n",
       "    }\n",
       "\n",
       "    for(var toolbar_ind in mpl.toolbar_items) {\n",
       "        var name = mpl.toolbar_items[toolbar_ind][0];\n",
       "        var tooltip = mpl.toolbar_items[toolbar_ind][1];\n",
       "        var image = mpl.toolbar_items[toolbar_ind][2];\n",
       "        var method_name = mpl.toolbar_items[toolbar_ind][3];\n",
       "\n",
       "        if (!name) {\n",
       "            // put a spacer in here.\n",
       "            continue;\n",
       "        }\n",
       "        var button = $('<button/>');\n",
       "        button.addClass('ui-button ui-widget ui-state-default ui-corner-all ' +\n",
       "                        'ui-button-icon-only');\n",
       "        button.attr('role', 'button');\n",
       "        button.attr('aria-disabled', 'false');\n",
       "        button.click(method_name, toolbar_event);\n",
       "        button.mouseover(tooltip, toolbar_mouse_event);\n",
       "\n",
       "        var icon_img = $('<span/>');\n",
       "        icon_img.addClass('ui-button-icon-primary ui-icon');\n",
       "        icon_img.addClass(image);\n",
       "        icon_img.addClass('ui-corner-all');\n",
       "\n",
       "        var tooltip_span = $('<span/>');\n",
       "        tooltip_span.addClass('ui-button-text');\n",
       "        tooltip_span.html(tooltip);\n",
       "\n",
       "        button.append(icon_img);\n",
       "        button.append(tooltip_span);\n",
       "\n",
       "        nav_element.append(button);\n",
       "    }\n",
       "\n",
       "    var fmt_picker_span = $('<span/>');\n",
       "\n",
       "    var fmt_picker = $('<select/>');\n",
       "    fmt_picker.addClass('mpl-toolbar-option ui-widget ui-widget-content');\n",
       "    fmt_picker_span.append(fmt_picker);\n",
       "    nav_element.append(fmt_picker_span);\n",
       "    this.format_dropdown = fmt_picker[0];\n",
       "\n",
       "    for (var ind in mpl.extensions) {\n",
       "        var fmt = mpl.extensions[ind];\n",
       "        var option = $(\n",
       "            '<option/>', {selected: fmt === mpl.default_extension}).html(fmt);\n",
       "        fmt_picker.append(option)\n",
       "    }\n",
       "\n",
       "    // Add hover states to the ui-buttons\n",
       "    $( \".ui-button\" ).hover(\n",
       "        function() { $(this).addClass(\"ui-state-hover\");},\n",
       "        function() { $(this).removeClass(\"ui-state-hover\");}\n",
       "    );\n",
       "\n",
       "    var status_bar = $('<span class=\"mpl-message\"/>');\n",
       "    nav_element.append(status_bar);\n",
       "    this.message = status_bar[0];\n",
       "}\n",
       "\n",
       "mpl.figure.prototype.request_resize = function(x_pixels, y_pixels) {\n",
       "    // Request matplotlib to resize the figure. Matplotlib will then trigger a resize in the client,\n",
       "    // which will in turn request a refresh of the image.\n",
       "    this.send_message('resize', {'width': x_pixels, 'height': y_pixels});\n",
       "}\n",
       "\n",
       "mpl.figure.prototype.send_message = function(type, properties) {\n",
       "    properties['type'] = type;\n",
       "    properties['figure_id'] = this.id;\n",
       "    this.ws.send(JSON.stringify(properties));\n",
       "}\n",
       "\n",
       "mpl.figure.prototype.send_draw_message = function() {\n",
       "    if (!this.waiting) {\n",
       "        this.waiting = true;\n",
       "        this.ws.send(JSON.stringify({type: \"draw\", figure_id: this.id}));\n",
       "    }\n",
       "}\n",
       "\n",
       "\n",
       "mpl.figure.prototype.handle_save = function(fig, msg) {\n",
       "    var format_dropdown = fig.format_dropdown;\n",
       "    var format = format_dropdown.options[format_dropdown.selectedIndex].value;\n",
       "    fig.ondownload(fig, format);\n",
       "}\n",
       "\n",
       "\n",
       "mpl.figure.prototype.handle_resize = function(fig, msg) {\n",
       "    var size = msg['size'];\n",
       "    if (size[0] != fig.canvas.width || size[1] != fig.canvas.height) {\n",
       "        fig._resize_canvas(size[0], size[1]);\n",
       "        fig.send_message(\"refresh\", {});\n",
       "    };\n",
       "}\n",
       "\n",
       "mpl.figure.prototype.handle_rubberband = function(fig, msg) {\n",
       "    var x0 = msg['x0'];\n",
       "    var y0 = fig.canvas.height - msg['y0'];\n",
       "    var x1 = msg['x1'];\n",
       "    var y1 = fig.canvas.height - msg['y1'];\n",
       "    x0 = Math.floor(x0) + 0.5;\n",
       "    y0 = Math.floor(y0) + 0.5;\n",
       "    x1 = Math.floor(x1) + 0.5;\n",
       "    y1 = Math.floor(y1) + 0.5;\n",
       "    var min_x = Math.min(x0, x1);\n",
       "    var min_y = Math.min(y0, y1);\n",
       "    var width = Math.abs(x1 - x0);\n",
       "    var height = Math.abs(y1 - y0);\n",
       "\n",
       "    fig.rubberband_context.clearRect(\n",
       "        0, 0, fig.canvas.width, fig.canvas.height);\n",
       "\n",
       "    fig.rubberband_context.strokeRect(min_x, min_y, width, height);\n",
       "}\n",
       "\n",
       "mpl.figure.prototype.handle_figure_label = function(fig, msg) {\n",
       "    // Updates the figure title.\n",
       "    fig.header.textContent = msg['label'];\n",
       "}\n",
       "\n",
       "mpl.figure.prototype.handle_cursor = function(fig, msg) {\n",
       "    var cursor = msg['cursor'];\n",
       "    switch(cursor)\n",
       "    {\n",
       "    case 0:\n",
       "        cursor = 'pointer';\n",
       "        break;\n",
       "    case 1:\n",
       "        cursor = 'default';\n",
       "        break;\n",
       "    case 2:\n",
       "        cursor = 'crosshair';\n",
       "        break;\n",
       "    case 3:\n",
       "        cursor = 'move';\n",
       "        break;\n",
       "    }\n",
       "    fig.rubberband_canvas.style.cursor = cursor;\n",
       "}\n",
       "\n",
       "mpl.figure.prototype.handle_message = function(fig, msg) {\n",
       "    fig.message.textContent = msg['message'];\n",
       "}\n",
       "\n",
       "mpl.figure.prototype.handle_draw = function(fig, msg) {\n",
       "    // Request the server to send over a new figure.\n",
       "    fig.send_draw_message();\n",
       "}\n",
       "\n",
       "mpl.figure.prototype.handle_image_mode = function(fig, msg) {\n",
       "    fig.image_mode = msg['mode'];\n",
       "}\n",
       "\n",
       "mpl.figure.prototype.updated_canvas_event = function() {\n",
       "    // Called whenever the canvas gets updated.\n",
       "    this.send_message(\"ack\", {});\n",
       "}\n",
       "\n",
       "// A function to construct a web socket function for onmessage handling.\n",
       "// Called in the figure constructor.\n",
       "mpl.figure.prototype._make_on_message_function = function(fig) {\n",
       "    return function socket_on_message(evt) {\n",
       "        if (evt.data instanceof Blob) {\n",
       "            /* FIXME: We get \"Resource interpreted as Image but\n",
       "             * transferred with MIME type text/plain:\" errors on\n",
       "             * Chrome.  But how to set the MIME type?  It doesn't seem\n",
       "             * to be part of the websocket stream */\n",
       "            evt.data.type = \"image/png\";\n",
       "\n",
       "            /* Free the memory for the previous frames */\n",
       "            if (fig.imageObj.src) {\n",
       "                (window.URL || window.webkitURL).revokeObjectURL(\n",
       "                    fig.imageObj.src);\n",
       "            }\n",
       "\n",
       "            fig.imageObj.src = (window.URL || window.webkitURL).createObjectURL(\n",
       "                evt.data);\n",
       "            fig.updated_canvas_event();\n",
       "            fig.waiting = false;\n",
       "            return;\n",
       "        }\n",
       "        else if (typeof evt.data === 'string' && evt.data.slice(0, 21) == \"data:image/png;base64\") {\n",
       "            fig.imageObj.src = evt.data;\n",
       "            fig.updated_canvas_event();\n",
       "            fig.waiting = false;\n",
       "            return;\n",
       "        }\n",
       "\n",
       "        var msg = JSON.parse(evt.data);\n",
       "        var msg_type = msg['type'];\n",
       "\n",
       "        // Call the  \"handle_{type}\" callback, which takes\n",
       "        // the figure and JSON message as its only arguments.\n",
       "        try {\n",
       "            var callback = fig[\"handle_\" + msg_type];\n",
       "        } catch (e) {\n",
       "            console.log(\"No handler for the '\" + msg_type + \"' message type: \", msg);\n",
       "            return;\n",
       "        }\n",
       "\n",
       "        if (callback) {\n",
       "            try {\n",
       "                // console.log(\"Handling '\" + msg_type + \"' message: \", msg);\n",
       "                callback(fig, msg);\n",
       "            } catch (e) {\n",
       "                console.log(\"Exception inside the 'handler_\" + msg_type + \"' callback:\", e, e.stack, msg);\n",
       "            }\n",
       "        }\n",
       "    };\n",
       "}\n",
       "\n",
       "// from http://stackoverflow.com/questions/1114465/getting-mouse-location-in-canvas\n",
       "mpl.findpos = function(e) {\n",
       "    //this section is from http://www.quirksmode.org/js/events_properties.html\n",
       "    var targ;\n",
       "    if (!e)\n",
       "        e = window.event;\n",
       "    if (e.target)\n",
       "        targ = e.target;\n",
       "    else if (e.srcElement)\n",
       "        targ = e.srcElement;\n",
       "    if (targ.nodeType == 3) // defeat Safari bug\n",
       "        targ = targ.parentNode;\n",
       "\n",
       "    // jQuery normalizes the pageX and pageY\n",
       "    // pageX,Y are the mouse positions relative to the document\n",
       "    // offset() returns the position of the element relative to the document\n",
       "    var x = e.pageX - $(targ).offset().left;\n",
       "    var y = e.pageY - $(targ).offset().top;\n",
       "\n",
       "    return {\"x\": x, \"y\": y};\n",
       "};\n",
       "\n",
       "/*\n",
       " * return a copy of an object with only non-object keys\n",
       " * we need this to avoid circular references\n",
       " * http://stackoverflow.com/a/24161582/3208463\n",
       " */\n",
       "function simpleKeys (original) {\n",
       "  return Object.keys(original).reduce(function (obj, key) {\n",
       "    if (typeof original[key] !== 'object')\n",
       "        obj[key] = original[key]\n",
       "    return obj;\n",
       "  }, {});\n",
       "}\n",
       "\n",
       "mpl.figure.prototype.mouse_event = function(event, name) {\n",
       "    var canvas_pos = mpl.findpos(event)\n",
       "\n",
       "    if (name === 'button_press')\n",
       "    {\n",
       "        this.canvas.focus();\n",
       "        this.canvas_div.focus();\n",
       "    }\n",
       "\n",
       "    var x = canvas_pos.x;\n",
       "    var y = canvas_pos.y;\n",
       "\n",
       "    this.send_message(name, {x: x, y: y, button: event.button,\n",
       "                             step: event.step,\n",
       "                             guiEvent: simpleKeys(event)});\n",
       "\n",
       "    /* This prevents the web browser from automatically changing to\n",
       "     * the text insertion cursor when the button is pressed.  We want\n",
       "     * to control all of the cursor setting manually through the\n",
       "     * 'cursor' event from matplotlib */\n",
       "    event.preventDefault();\n",
       "    return false;\n",
       "}\n",
       "\n",
       "mpl.figure.prototype._key_event_extra = function(event, name) {\n",
       "    // Handle any extra behaviour associated with a key event\n",
       "}\n",
       "\n",
       "mpl.figure.prototype.key_event = function(event, name) {\n",
       "\n",
       "    // Prevent repeat events\n",
       "    if (name == 'key_press')\n",
       "    {\n",
       "        if (event.which === this._key)\n",
       "            return;\n",
       "        else\n",
       "            this._key = event.which;\n",
       "    }\n",
       "    if (name == 'key_release')\n",
       "        this._key = null;\n",
       "\n",
       "    var value = '';\n",
       "    if (event.ctrlKey && event.which != 17)\n",
       "        value += \"ctrl+\";\n",
       "    if (event.altKey && event.which != 18)\n",
       "        value += \"alt+\";\n",
       "    if (event.shiftKey && event.which != 16)\n",
       "        value += \"shift+\";\n",
       "\n",
       "    value += 'k';\n",
       "    value += event.which.toString();\n",
       "\n",
       "    this._key_event_extra(event, name);\n",
       "\n",
       "    this.send_message(name, {key: value,\n",
       "                             guiEvent: simpleKeys(event)});\n",
       "    return false;\n",
       "}\n",
       "\n",
       "mpl.figure.prototype.toolbar_button_onclick = function(name) {\n",
       "    if (name == 'download') {\n",
       "        this.handle_save(this, null);\n",
       "    } else {\n",
       "        this.send_message(\"toolbar_button\", {name: name});\n",
       "    }\n",
       "};\n",
       "\n",
       "mpl.figure.prototype.toolbar_button_onmouseover = function(tooltip) {\n",
       "    this.message.textContent = tooltip;\n",
       "};\n",
       "mpl.toolbar_items = [[\"Home\", \"Reset original view\", \"fa fa-home icon-home\", \"home\"], [\"Back\", \"Back to  previous view\", \"fa fa-arrow-left icon-arrow-left\", \"back\"], [\"Forward\", \"Forward to next view\", \"fa fa-arrow-right icon-arrow-right\", \"forward\"], [\"\", \"\", \"\", \"\"], [\"Pan\", \"Pan axes with left mouse, zoom with right\", \"fa fa-arrows icon-move\", \"pan\"], [\"Zoom\", \"Zoom to rectangle\", \"fa fa-square-o icon-check-empty\", \"zoom\"], [\"\", \"\", \"\", \"\"], [\"Download\", \"Download plot\", \"fa fa-floppy-o icon-save\", \"download\"]];\n",
       "\n",
       "mpl.extensions = [\"eps\", \"pdf\", \"png\", \"ps\", \"raw\", \"svg\"];\n",
       "\n",
       "mpl.default_extension = \"png\";var comm_websocket_adapter = function(comm) {\n",
       "    // Create a \"websocket\"-like object which calls the given IPython comm\n",
       "    // object with the appropriate methods. Currently this is a non binary\n",
       "    // socket, so there is still some room for performance tuning.\n",
       "    var ws = {};\n",
       "\n",
       "    ws.close = function() {\n",
       "        comm.close()\n",
       "    };\n",
       "    ws.send = function(m) {\n",
       "        //console.log('sending', m);\n",
       "        comm.send(m);\n",
       "    };\n",
       "    // Register the callback with on_msg.\n",
       "    comm.on_msg(function(msg) {\n",
       "        //console.log('receiving', msg['content']['data'], msg);\n",
       "        // Pass the mpl event to the overriden (by mpl) onmessage function.\n",
       "        ws.onmessage(msg['content']['data'])\n",
       "    });\n",
       "    return ws;\n",
       "}\n",
       "\n",
       "mpl.mpl_figure_comm = function(comm, msg) {\n",
       "    // This is the function which gets called when the mpl process\n",
       "    // starts-up an IPython Comm through the \"matplotlib\" channel.\n",
       "\n",
       "    var id = msg.content.data.id;\n",
       "    // Get hold of the div created by the display call when the Comm\n",
       "    // socket was opened in Python.\n",
       "    var element = $(\"#\" + id);\n",
       "    var ws_proxy = comm_websocket_adapter(comm)\n",
       "\n",
       "    function ondownload(figure, format) {\n",
       "        window.open(figure.imageObj.src);\n",
       "    }\n",
       "\n",
       "    var fig = new mpl.figure(id, ws_proxy,\n",
       "                           ondownload,\n",
       "                           element.get(0));\n",
       "\n",
       "    // Call onopen now - mpl needs it, as it is assuming we've passed it a real\n",
       "    // web socket which is closed, not our websocket->open comm proxy.\n",
       "    ws_proxy.onopen();\n",
       "\n",
       "    fig.parent_element = element.get(0);\n",
       "    fig.cell_info = mpl.find_output_cell(\"<div id='\" + id + \"'></div>\");\n",
       "    if (!fig.cell_info) {\n",
       "        console.error(\"Failed to find cell for figure\", id, fig);\n",
       "        return;\n",
       "    }\n",
       "\n",
       "    var output_index = fig.cell_info[2]\n",
       "    var cell = fig.cell_info[0];\n",
       "\n",
       "};\n",
       "\n",
       "mpl.figure.prototype.handle_close = function(fig, msg) {\n",
       "    fig.root.unbind('remove')\n",
       "\n",
       "    // Update the output cell to use the data from the current canvas.\n",
       "    fig.push_to_output();\n",
       "    var dataURL = fig.canvas.toDataURL();\n",
       "    // Re-enable the keyboard manager in IPython - without this line, in FF,\n",
       "    // the notebook keyboard shortcuts fail.\n",
       "    IPython.keyboard_manager.enable()\n",
       "    $(fig.parent_element).html('<img src=\"' + dataURL + '\">');\n",
       "    fig.close_ws(fig, msg);\n",
       "}\n",
       "\n",
       "mpl.figure.prototype.close_ws = function(fig, msg){\n",
       "    fig.send_message('closing', msg);\n",
       "    // fig.ws.close()\n",
       "}\n",
       "\n",
       "mpl.figure.prototype.push_to_output = function(remove_interactive) {\n",
       "    // Turn the data on the canvas into data in the output cell.\n",
       "    var dataURL = this.canvas.toDataURL();\n",
       "    this.cell_info[1]['text/html'] = '<img src=\"' + dataURL + '\">';\n",
       "}\n",
       "\n",
       "mpl.figure.prototype.updated_canvas_event = function() {\n",
       "    // Tell IPython that the notebook contents must change.\n",
       "    IPython.notebook.set_dirty(true);\n",
       "    this.send_message(\"ack\", {});\n",
       "    var fig = this;\n",
       "    // Wait a second, then push the new image to the DOM so\n",
       "    // that it is saved nicely (might be nice to debounce this).\n",
       "    setTimeout(function () { fig.push_to_output() }, 1000);\n",
       "}\n",
       "\n",
       "mpl.figure.prototype._init_toolbar = function() {\n",
       "    var fig = this;\n",
       "\n",
       "    var nav_element = $('<div/>')\n",
       "    nav_element.attr('style', 'width: 100%');\n",
       "    this.root.append(nav_element);\n",
       "\n",
       "    // Define a callback function for later on.\n",
       "    function toolbar_event(event) {\n",
       "        return fig.toolbar_button_onclick(event['data']);\n",
       "    }\n",
       "    function toolbar_mouse_event(event) {\n",
       "        return fig.toolbar_button_onmouseover(event['data']);\n",
       "    }\n",
       "\n",
       "    for(var toolbar_ind in mpl.toolbar_items){\n",
       "        var name = mpl.toolbar_items[toolbar_ind][0];\n",
       "        var tooltip = mpl.toolbar_items[toolbar_ind][1];\n",
       "        var image = mpl.toolbar_items[toolbar_ind][2];\n",
       "        var method_name = mpl.toolbar_items[toolbar_ind][3];\n",
       "\n",
       "        if (!name) { continue; };\n",
       "\n",
       "        var button = $('<button class=\"btn btn-default\" href=\"#\" title=\"' + name + '\"><i class=\"fa ' + image + ' fa-lg\"></i></button>');\n",
       "        button.click(method_name, toolbar_event);\n",
       "        button.mouseover(tooltip, toolbar_mouse_event);\n",
       "        nav_element.append(button);\n",
       "    }\n",
       "\n",
       "    // Add the status bar.\n",
       "    var status_bar = $('<span class=\"mpl-message\" style=\"text-align:right; float: right;\"/>');\n",
       "    nav_element.append(status_bar);\n",
       "    this.message = status_bar[0];\n",
       "\n",
       "    // Add the close button to the window.\n",
       "    var buttongrp = $('<div class=\"btn-group inline pull-right\"></div>');\n",
       "    var button = $('<button class=\"btn btn-mini btn-primary\" href=\"#\" title=\"Stop Interaction\"><i class=\"fa fa-power-off icon-remove icon-large\"></i></button>');\n",
       "    button.click(function (evt) { fig.handle_close(fig, {}); } );\n",
       "    button.mouseover('Stop Interaction', toolbar_mouse_event);\n",
       "    buttongrp.append(button);\n",
       "    var titlebar = this.root.find($('.ui-dialog-titlebar'));\n",
       "    titlebar.prepend(buttongrp);\n",
       "}\n",
       "\n",
       "mpl.figure.prototype._root_extra_style = function(el){\n",
       "    var fig = this\n",
       "    el.on(\"remove\", function(){\n",
       "\tfig.close_ws(fig, {});\n",
       "    });\n",
       "}\n",
       "\n",
       "mpl.figure.prototype._canvas_extra_style = function(el){\n",
       "    // this is important to make the div 'focusable\n",
       "    el.attr('tabindex', 0)\n",
       "    // reach out to IPython and tell the keyboard manager to turn it's self\n",
       "    // off when our div gets focus\n",
       "\n",
       "    // location in version 3\n",
       "    if (IPython.notebook.keyboard_manager) {\n",
       "        IPython.notebook.keyboard_manager.register_events(el);\n",
       "    }\n",
       "    else {\n",
       "        // location in version 2\n",
       "        IPython.keyboard_manager.register_events(el);\n",
       "    }\n",
       "\n",
       "}\n",
       "\n",
       "mpl.figure.prototype._key_event_extra = function(event, name) {\n",
       "    var manager = IPython.notebook.keyboard_manager;\n",
       "    if (!manager)\n",
       "        manager = IPython.keyboard_manager;\n",
       "\n",
       "    // Check for shift+enter\n",
       "    if (event.shiftKey && event.which == 13) {\n",
       "        this.canvas_div.blur();\n",
       "        event.shiftKey = false;\n",
       "        // Send a \"J\" for go to next cell\n",
       "        event.which = 74;\n",
       "        event.keyCode = 74;\n",
       "        manager.command_mode();\n",
       "        manager.handle_keydown(event);\n",
       "    }\n",
       "}\n",
       "\n",
       "mpl.figure.prototype.handle_save = function(fig, msg) {\n",
       "    fig.ondownload(fig, null);\n",
       "}\n",
       "\n",
       "\n",
       "mpl.find_output_cell = function(html_output) {\n",
       "    // Return the cell and output element which can be found *uniquely* in the notebook.\n",
       "    // Note - this is a bit hacky, but it is done because the \"notebook_saving.Notebook\"\n",
       "    // IPython event is triggered only after the cells have been serialised, which for\n",
       "    // our purposes (turning an active figure into a static one), is too late.\n",
       "    var cells = IPython.notebook.get_cells();\n",
       "    var ncells = cells.length;\n",
       "    for (var i=0; i<ncells; i++) {\n",
       "        var cell = cells[i];\n",
       "        if (cell.cell_type === 'code'){\n",
       "            for (var j=0; j<cell.output_area.outputs.length; j++) {\n",
       "                var data = cell.output_area.outputs[j];\n",
       "                if (data.data) {\n",
       "                    // IPython >= 3 moved mimebundle to data attribute of output\n",
       "                    data = data.data;\n",
       "                }\n",
       "                if (data['text/html'] == html_output) {\n",
       "                    return [cell, data, j];\n",
       "                }\n",
       "            }\n",
       "        }\n",
       "    }\n",
       "}\n",
       "\n",
       "// Register the function which deals with the matplotlib target/channel.\n",
       "// The kernel may be null if the page has been refreshed.\n",
       "if (IPython.notebook.kernel != null) {\n",
       "    IPython.notebook.kernel.comm_manager.register_target('matplotlib', mpl.mpl_figure_comm);\n",
       "}\n"
      ],
      "text/plain": [
       "<IPython.core.display.Javascript object>"
      ]
     },
     "metadata": {},
     "output_type": "display_data"
    },
    {
     "data": {
      "text/html": [
       "<img src=\"data:image/png;base64,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\">"
      ],
      "text/plain": [
       "<IPython.core.display.HTML object>"
      ]
     },
     "metadata": {},
     "output_type": "display_data"
    }
   ],
   "source": [
    "l = np.linspace(0.,1.,200)\n",
    "\n",
    "# Initialising plot\n",
    "fig = plt.figure(figsize = (12,12))\n",
    "ax1 = plt.subplot(211)\n",
    "ax1.set_xlim((0.,1.))\n",
    "ax1.set_xlabel('Distance / m')\n",
    "ax1.set_ylim((0.,3.))\n",
    "ax1.set_ylabel('Amplitude')\n",
    "ax2 = plt.subplot(212)\n",
    "ax2.set_xlim((0.,1.))\n",
    "ax2.set_xlabel('Distance / m')\n",
    "ax2.set_ylim((-np.pi,np.pi))\n",
    "ax2.set_ylabel('Phase')\n",
    "lines = (ax1.plot([],[],'r')[0],ax1.plot([],[],'b')[0],ax2.plot([],[],'r')[0],ax2.plot([],[],'b')[0])\n",
    "\n",
    "def main(Z_1,Z_2,Z_3,k_2):\n",
    "\n",
    "    vec_list = matrix_solve(Z_1,Z_2,Z_3,k_2,l)\n",
    "\n",
    "    def data_unpack(vec_list):\n",
    "        r_amp = [np.absolute(x[0]) for x in vec_list]\n",
    "        t_amp = [np.absolute(x[3]) for x in vec_list]\n",
    "        r_phase = [np.angle(x[0]) for x in vec_list]\n",
    "        t_phase = [np.angle(x[3]) for x in vec_list]\n",
    "        return r_amp,t_amp,r_phase,t_phase\n",
    "    \n",
    "    r_amp,t_amp,r_phase,t_phase = data_unpack(vec_list)\n",
    "\n",
    "    lines[0].set_data(l,r_amp)\n",
    "    lines[1].set_data(l,t_amp)\n",
    "    lines[2].set_data(l,r_phase)\n",
    "    lines[3].set_data(l,t_phase)\n",
    "    display(fig)\n",
    "\n",
    "interact(main,Z_1 = (0.1,10.),Z_2 = (0.1,10.),Z_3 = (0.1,10.),k_2 = (0.,10.));"
   ]
  },
  {
   "cell_type": "code",
   "execution_count": null,
   "metadata": {
    "collapsed": true
   },
   "outputs": [],
   "source": []
  }
 ],
 "metadata": {
  "kernelspec": {
   "display_name": "Python 2",
   "language": "python",
   "name": "python2"
  },
  "language_info": {
   "codemirror_mode": {
    "name": "ipython",
    "version": 2
   },
   "file_extension": ".py",
   "mimetype": "text/x-python",
   "name": "python",
   "nbconvert_exporter": "python",
   "pygments_lexer": "ipython2",
   "version": "2.7.11"
  },
  "widgets": {
   "state": {
    "008ce49239804447a1aa9a06ccd440ef": {
     "views": []
    },
    "03dc103fd41b461c96dae09fcc3b3c1a": {
     "views": []
    },
    "04744108a8ac47cf9c4c28d3eb64f0cc": {
     "views": []
    },
    "04a1230a75a443d48beaf5600f45de9a": {
     "views": []
    },
    "07f21ed2d0be41bc8d813c9bbfa7b8c4": {
     "views": []
    },
    "097c703e1f38496c8dd9dafcb259e2b8": {
     "views": []
    },
    "0c2e63abcf624f4b924d867178b4ef0a": {
     "views": []
    },
    "0ce5b67c326248c7bad1227ae0103217": {
     "views": []
    },
    "0ee63a90dc344a4ba6ef0d1a090fb36e": {
     "views": []
    },
    "155811807ad74610a7581098a38415e9": {
     "views": []
    },
    "178ea43bd5184b439d9cd43ba59779e1": {
     "views": []
    },
    "190654f63fb44a549c82658bdacfaf84": {
     "views": []
    },
    "19408305653b4d138bdedf3e0ef3c802": {
     "views": []
    },
    "1a59149e19c946a9a58ee54ec311a941": {
     "views": []
    },
    "1bf3feceb65947878ba58b076aabcece": {
     "views": []
    },
    "1ebe14d11ea745dbb143a16de52526ae": {
     "views": []
    },
    "1f92429f860d429a8101d9d8e607141e": {
     "views": []
    },
    "210304eb500d4c65a6a22d84b1dc21ff": {
     "views": []
    },
    "2215d39c68a746948b0f333f62c221fd": {
     "views": []
    },
    "23229839a76a4844be2ff510ab3e8f39": {
     "views": []
    },
    "2a57464b21c641afa1b710820a055820": {
     "views": []
    },
    "2c0d169064d44c90a071bad757f7fa4a": {
     "views": []
    },
    "2e361c9f4dd94bd1999a7e32d8fe6579": {
     "views": []
    },
    "2e3d76f5365543c6888b6135c422cfb5": {
     "views": []
    },
    "3043938a97ad49ccb8a6f956038e8d3e": {
     "views": []
    },
    "30cacb10bc4742ff96cae47bfc491068": {
     "views": []
    },
    "345b9259d20b4aa28d430acba5fc56a2": {
     "views": []
    },
    "3580f82e396d4db0b8a9b5d98a665f2f": {
     "views": []
    },
    "35875ed2168e43d5a0fbe7baf76991f7": {
     "views": []
    },
    "364b043725814f2e9ec74d827031466b": {
     "views": []
    },
    "3901e803390042fe8bf9de592a3ef9d1": {
     "views": []
    },
    "3f9e1f1d8dad4d54b38a8f84e048f316": {
     "views": []
    },
    "4330269064e44051a93652ce9874e9a6": {
     "views": []
    },
    "45245189e001441a80a275e401d744cc": {
     "views": []
    },
    "452c9ee8ec924b6cbb6eebb545d45c7b": {
     "views": []
    },
    "48b79e286330498db6ab01dbe3bc8436": {
     "views": []
    },
    "48c77ff0e0ce49a7aef47d58f0467088": {
     "views": []
    },
    "49b238ad8b0f48e59a90a0b870df83d8": {
     "views": []
    },
    "4cfaece6769a4ed1821f3d1c6c46669c": {
     "views": []
    },
    "4df83c4ddfdd405da627f8113a80659b": {
     "views": []
    },
    "4e18479b99ff4ba6ab4dc7dd4925d72a": {
     "views": []
    },
    "4ea56124f5074dd8853dcd7011db0ef3": {
     "views": []
    },
    "5054ced29db14b71b297bc84f803f39d": {
     "views": []
    },
    "50a8e368b4724181ba1fabdcd2ef3f5f": {
     "views": []
    },
    "51d863dae4b6422b85dfa05e997b35f6": {
     "views": []
    },
    "5430492b697a424f9835085fd671522d": {
     "views": []
    },
    "545a1f9b01d34343828c71a8114ece7c": {
     "views": []
    },
    "565c329418a34f6fb9a5a6b11898d541": {
     "views": []
    },
    "574b6678491f434d9b37887a360cfc36": {
     "views": []
    },
    "57b6887d805c4b95b17840022efc84cc": {
     "views": []
    },
    "593837f90d4246c89e09520a3206731d": {
     "views": []
    },
    "5a5cd8a83af8453a94f080e2132e22cc": {
     "views": []
    },
    "5acd81c86fd64bfbacb1465dcf312115": {
     "views": []
    },
    "60d5a61f8c7542a4a37a0eac267eb39f": {
     "views": []
    },
    "64e0612eef6f4aabb8ea3861a909883a": {
     "views": []
    },
    "67a955b4f3d6419d96c8c108fa8d06e0": {
     "views": []
    },
    "69fa6d23f5824b95970115fe1db4ce35": {
     "views": [
      {
       "cell_index": 5
      }
     ]
    },
    "6b5185bb888b48fc9443456d9676265b": {
     "views": []
    },
    "6c92a275818846f49cc290e49ba88580": {
     "views": []
    },
    "70ca5ec510ba42228a677c4d97e85a89": {
     "views": []
    },
    "72531b7a843a4d53b1bbd637379103c1": {
     "views": []
    },
    "74f15cfabeb54d22b2c06e12c9aa1f50": {
     "views": []
    },
    "75d988d4f22b4ab9aff18f07f975930c": {
     "views": []
    },
    "76558004c03a423bb75c8f9a5855fd4e": {
     "views": []
    },
    "773a77ef84054b77b20e72d1b13ef773": {
     "views": []
    },
    "77c4e12f77294440a70d1d970d9dd977": {
     "views": []
    },
    "7a0ee618876543f68d6cb7d1f76c36b7": {
     "views": []
    },
    "7d6308bf4028476fb7beb97e3427911c": {
     "views": []
    },
    "80a5fa27b9bf4ef2819c10f6eb8fdc8d": {
     "views": []
    },
    "8213ab4f34d542cc9071fd9fcb30d729": {
     "views": []
    },
    "8325ac92c959469898f0688ac9669291": {
     "views": []
    },
    "86059f203d86490baa86a602f0232450": {
     "views": []
    },
    "8c625464a6204fb78519c8b988b8576b": {
     "views": []
    },
    "8e109f8ba7ba4817b484459f6aac6ffa": {
     "views": []
    },
    "968c3ac1d7ba4c1e836805863a26a0ce": {
     "views": []
    },
    "99da58bd8f2045a2b2d1f6e0041e10fb": {
     "views": []
    },
    "a374c6e214f64925b84bc9805026dc7c": {
     "views": []
    },
    "a6714107870a4c8d9a6f1544f5c125b4": {
     "views": []
    },
    "ab79f37eb92a4701be10bb992f29da1d": {
     "views": []
    },
    "abfc92628f774085998562698b2b0d45": {
     "views": []
    },
    "ac4873796c6b47e8adfe3bc23004c344": {
     "views": []
    },
    "ac585a4f4184436db782cbcb958d33eb": {
     "views": []
    },
    "ada1199f04a34861a119bd08446ccef1": {
     "views": []
    },
    "af6f35c5310c4f3384dd0454634bd74b": {
     "views": []
    },
    "b346a882d7fb47729e5f9178ce942ba1": {
     "views": []
    },
    "b3d1d750667848e993790e5849fdd32d": {
     "views": []
    },
    "b5660352b7e34e05ae902efdd197071c": {
     "views": []
    },
    "b76d00b2cd804120baa4155560b7921f": {
     "views": []
    },
    "bb82afcb662248bfac93fee588a2a949": {
     "views": []
    },
    "bcd4bc48dfbc4427932e49e002ff0f7c": {
     "views": []
    },
    "be1f818f1d7c437c9a7d87be18696ca5": {
     "views": []
    },
    "bf8721524b144927a71b4940f03cc06b": {
     "views": []
    },
    "c0ad4afa8e9d423581c6886d58cea657": {
     "views": []
    },
    "c11549eadcb240329a806a79276d580c": {
     "views": []
    },
    "c17bffeacd444de5b9784be80b2361de": {
     "views": []
    },
    "c2b9187fc2854c77b5c16c92cd72e441": {
     "views": []
    },
    "c4b1eec7511d41668da4d07dd4c63b80": {
     "views": []
    },
    "c4e0a2a803c3472389692070c5ba401a": {
     "views": []
    },
    "c7fa2da67a8f42a8bd5f14e1dd9369d9": {
     "views": []
    },
    "c978f7e51c9f42b39f40318b5e87ed82": {
     "views": []
    },
    "cb461ae05eab464490b923b7470357e7": {
     "views": []
    },
    "d0affa3588f14be1a2d3275a12cb3053": {
     "views": []
    },
    "d0e55b4909b4425e90ec1f9030921dc9": {
     "views": []
    },
    "d0e8379aca534f509c0b8dd706d1f77c": {
     "views": []
    },
    "d34afeb237324508a6d8ff9adb5c1c08": {
     "views": []
    },
    "d6c5f3fa0bc14403b1dd697b35f14b00": {
     "views": []
    },
    "d7ddcda9ea954c169e53b81557728349": {
     "views": []
    },
    "db0d5d9acaeb4147a133ff0e3c16f8e2": {
     "views": []
    },
    "dba384fe85dd4662a001a582f4bf1635": {
     "views": []
    },
    "dc82d7cdac9e4393aafa11e42a17c536": {
     "views": []
    },
    "dfaf5f35abce457fa5d9c530e77ff75b": {
     "views": []
    },
    "dfff9a094f11401e8930d4b6e2667dc2": {
     "views": []
    },
    "e0b142b8986f491cadd48881048a4678": {
     "views": []
    },
    "e16dda30da62445ea3e4ab615421fc05": {
     "views": []
    },
    "e18aaca61a7b4550ad73aaf2f2e9c81e": {
     "views": []
    },
    "e1be1b91fd174cb9afd4ccbaa0aed66e": {
     "views": []
    },
    "e2fea722b0164328939e22ae0d6e9115": {
     "views": []
    },
    "e49e7d7c7ffc436ea73b6a8fa99d6a97": {
     "views": []
    },
    "e716244ce50f44709998d9d3438b7997": {
     "views": []
    },
    "e8bffdc27c3343e495b8897b71cbb501": {
     "views": []
    },
    "ec71910b0bc34d4da1a9d88d435ca4e5": {
     "views": []
    },
    "edcad5bff2894d9f8991a3bf9dbdcf12": {
     "views": []
    },
    "ef5c5693862f49b8844405445e6b1577": {
     "views": []
    },
    "efa431eb18ea4678bcc50ed280cdeb25": {
     "views": []
    },
    "f8940b28d2de4ebeb73da3556851b1a8": {
     "views": []
    },
    "faf5350d8f304bb7a65b0726af0beb16": {
     "views": []
    },
    "fbfc424b912e4148ab893cf46363b21e": {
     "views": []
    },
    "fcb90f7f7e2b4984a822b48851a12a41": {
     "views": []
    },
    "fce770c006244f59ac60bf2c11fd77bf": {
     "views": []
    },
    "fe292ed64cc8464282d19bee6f5a080e": {
     "views": []
    },
    "fe29f1d866944322b4127dba08ed57f8": {
     "views": []
    },
    "fe4a692300d84d71b3fb17cf3e5fe478": {
     "views": []
    }
   },
   "version": "1.1.2"
  }
 },
 "nbformat": 4,
 "nbformat_minor": 0
}
