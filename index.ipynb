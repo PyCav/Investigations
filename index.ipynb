{
 "cells": [
  {
   "cell_type": "markdown",
   "metadata": {},
   "source": [
    "# PyCav Investigations Binder\n",
    "\n",
    "\n",
    "## Projects\n",
    "\n",
    "[Tidal Tails](./Projects/Tidal Tails/TidalTails.ipynb): 2D N-body simulation of tidal tails form due to gravitationally interacting galaxies\n",
    "\n",
    "## Long Problems\n",
    "\n",
    "[Waves at Coated Interface](./LongProblems/wave_coating.ipynb): Steady state solution to wave incident on coated interface with variable impedances\n",
    "\n",
    "[Singular Value Decomposition](./LongProblems/Singular Value Decomposition.ipynb): 2D Ising Ferromagnet, nearest neighbour interactions\n",
    "\n",
    "## Short Problems\n",
    "\n",
    "\n",
    "\n",
    "## Data Analysis\n",
    "\n",
    "[Least Squares Model Fitting](./DataAnalysis/least_sq_fit_exercise.ipynb): Gives example of SciPy curve_fit function and then sets an exercise for the student. Also [solution](./DataAnalysis/least_sq_fit_solution.ipynb) available\n",
    "\n",
    "## Experimental\n",
    "\n",
    "\n"
   ]
  }
 ],
 "metadata": {
  "kernelspec": {
   "display_name": "Python 3",
   "language": "python",
   "name": "python3"
  },
  "language_info": {
   "codemirror_mode": {
    "name": "ipython",
    "version": 3
   },
   "file_extension": ".py",
   "mimetype": "text/x-python",
   "name": "python",
   "nbconvert_exporter": "python",
   "pygments_lexer": "ipython3",
   "version": "3.5.1"
  },
  "widgets": {
   "state": {},
   "version": "1.1.2"
  }
 },
 "nbformat": 4,
 "nbformat_minor": 0
}
