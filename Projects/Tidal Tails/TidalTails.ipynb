{
 "cells": [
  {
   "cell_type": "markdown",
   "metadata": {},
   "source": [
    "<center><b>Part II Computational Physics: Tidal Tails of Interacting Galaxies</b></center>\n",
    "<img src=\"http://i.stack.imgur.com/wNXV4.jpg\" style=\"width:304px;height:228px;\">\n",
    "<center>A simple 2D $N$-body simulation of interacting galaxies considering two heavy masses and a number of light test masses.</center>\n",
    "\n",
    "A tidal tail is a thin, elongated region of matter that extends into space from a galaxy. Since the time scale for formation of these objects is very long, the numerical solution must be appropiately scaled. Using a set of units such that the heavy masses have masses of 1 unit and G = 1 solved this issue. A Verlet integrator was chosen as it is symplectic and hence conserves energy and momentum well. This is very important in gravitational problems as the energy defines the trajectory of interacting masses. The Verlet algorithm is as follows:\n",
    "1. Calculate the position vector after one time step using another integration method such as 4th order Runge-Kutta\n",
    "2. Use the following equation for the nth step:\n",
    "<center>$\\mathbf{r}_{n+1} = 2\\mathbf{r}_n-\\mathbf{r}_{n-1}+\\Delta t^2 \\mathbf{a}(\\mathbf{r}_n)$</center>\n",
    "\n",
    "where $\\mathbf{a}(\\mathbf{r}_n)$ is the acceleration of the particle at its position $\\mathbf{r}_n$ due to gravitational interaction with surrounding masses.\n",
    "\n",
    "This notebook presents a Python script used to observe tidal tail formation in this simplified model"
   ]
  },
  {
   "cell_type": "code",
   "execution_count": null,
   "metadata": {
    "collapsed": true
   },
   "outputs": [],
   "source": [
    "import numpy as np\n",
    "import matplotlib.pyplot as plt\n",
    "import plotset as ps\n",
    "import sys, getopt\n",
    "import time"
   ]
  },
  {
   "cell_type": "markdown",
   "metadata": {},
   "source": [
    "Since the test masses are light, they do not affect the dynamics of the galactic centres. Hence the $j$th test particle (mass 1 and position $\\mathbf{r}_j$) has an acceleration given by:\n",
    "<center>$\\mathbf{a}_j = -\\sum_{i}\\frac{M_i}{|\\mathbf{r}_j-\\mathbf{R}_i|^3}\\left(\\mathbf{r}_j-\\mathbf{R}_i\\right)$</center>\n",
    "The sum is over the galactic centre masses, indexed with i. This is calculated in the function <i>atest</i> below\n",
    "\n",
    "The galactic centres only experience the gravity of the other centre so no sum is required. This is calculated in the function <i>agalaxy</i> below"
   ]
  },
  {
   "cell_type": "code",
   "execution_count": null,
   "metadata": {
    "collapsed": true
   },
   "outputs": [],
   "source": [
    "# Gravitational Accelerations\n",
    "def atest(r,R,M):\n",
    "\t\"\"\"Gravitational accleration of test masses\"\"\"\n",
    "\tn = len(M)\n",
    "\taccel = 0\n",
    "\tfor i in range(0,n):\n",
    "\t\tmag = (sum((r-R[i,:])**2))**0.5\n",
    "\t\taccel += -M[i]*(r-R[i,:])/mag**3\n",
    "\treturn accel\n",
    "\n",
    "def agalaxy(r,R,M):\n",
    "\t\"\"\"Gravitational accleration of a galaxy due to the other\"\"\"\n",
    "\tmag = (sum((r-R)**2))**0.5\n",
    "\taccel = -M*(r-R)/mag**3\n",
    "\treturn accel"
   ]
  },
  {
   "cell_type": "markdown",
   "metadata": {},
   "source": [
    "In order to start Verlet integration both $r(t = t_0)$ and $r(t = t_0+h)$ are required. Hence a single step of another numerical integrator is required. Both Euler and Runge-Kutta were tested and RK4 was chosen on the basis that it reduced the error when considering the circular orbits of the test particles about a single galactic centre.\n",
    "\n",
    "Below the Runge-Kutta algorithm is written in the function <i>RKstep</i>"
   ]
  },
  {
   "cell_type": "code",
   "execution_count": null,
   "metadata": {
    "collapsed": true
   },
   "outputs": [],
   "source": [
    "# Runge-Kutta Method\n",
    "def RKstep(h,v,r,R,M,a):\n",
    "\t# Runge-Kutta Algorithm\n",
    "\tr_1 = r\n",
    "\tv_1 = v\n",
    "\ta_1 = a(r,R,M)\n",
    "\n",
    "\tr_2 = r + 0.5*v_1*h\n",
    "\tv_2 = v + 0.5*a_1*h\n",
    "\ta_2 = a(r_2,R,M)\n",
    "\n",
    "\tr_3 = r + 0.5*v_2*h\n",
    "\tv_3 = v + 0.5*a_2*h\n",
    "\ta_3 = a(r_3,R,M)\n",
    "\n",
    "\tr_4 = r + v_3*h\n",
    "\tv_4 = v + a_3*h\n",
    "\t# a4 = a(r_4,R,M)\n",
    "\n",
    "\tr_f = r + (h/6)*(v_1+2*v_2+2*v_3+v_4)\n",
    "\t# Do not require velocities in simulation so steps removed for efficiency\n",
    "\t# v_f = v + (h/6)*(a_1+2*a_2+2*a_3+a_4)\n",
    "\treturn r_f"
   ]
  },
  {
   "cell_type": "markdown",
   "metadata": {},
   "source": [
    "An object based approach was chosen since the system involved physical objects interacting with each other and thus transformed well into programming objects. This approach also proved easier to update and debug since the code was more intuitive.\n",
    "\n",
    "The first object was the <i>Particle</i>. It contains methods to call the initial step, be it RK4 or Euler; call a Verlet step and finally to return the value of the current position vector.\n",
    "\n",
    "There was only need to store the current position (<i>R</i>) and the previous time step position (<i>R$_{old}$</i>) in order to perform the Verlet integration. This greatly improved performance as large position arrays were not stored."
   ]
  },
  {
   "cell_type": "code",
   "execution_count": null,
   "metadata": {
    "collapsed": true
   },
   "outputs": [],
   "source": [
    "class Particle(object):\n",
    "\n",
    "\tdef __init__(self,r,v):\n",
    "\t\t\"\"\"Defines initial parameters (position, velocity)\"\"\"\n",
    "\t\tself.R = r\n",
    "\t\tself.V = v\n",
    "\n",
    "\tdef initialstep(self,h,galaxy_M,galaxy_r,RK4step):\n",
    "\t\t\"\"\"Initial step taking to obtain r_(1) from initial values\"\"\"\n",
    "\t\n",
    "\t\tif not RK4step:\n",
    "\t\t\t# Using Taylor expansion about t = 0 to 2nd order\n",
    "\t\t\tself.Rnew = self.R + h*self.V + 0.5*atest(self.R,galaxy_r,galaxy_M)*h**2\n",
    "\t\telse:\n",
    "\t\t\tself.Rnew = RKstep(h,self.V,self.R,galaxy_r,galaxy_M,atest)\n",
    "\n",
    "\t\tself.Rold = self.R\n",
    "\t\tself.R = self.Rnew\n",
    "\n",
    "\tdef verletstep(self,h,galaxy_M,galaxy_r):\n",
    "\t\t\"\"\"Verlet Integration algorithm\"\"\"\n",
    "\n",
    "\t\t# Note: Must be performed after a single call of the initialstep function\n",
    "\n",
    "\t\tself.Rnew = 2*self.R-self.Rold+(h**2)*atest(self.R,galaxy_r,galaxy_M)\n",
    "\n",
    "\t\tself.Rold = self.R\n",
    "\t\tself.R = self.Rnew\n",
    "\n",
    "\t\t# Do not need velocity in simulation so comment out to increase speed\n",
    "\n",
    "\t\t# self.V = (self.Rnew-self.Rold)/(2*h)\n",
    "\n",
    "\tdef returnvalues(self):\n",
    "\t\t\"\"\"Returns position vector for plotting purposes\"\"\"\n",
    "\t\treturn self.R"
   ]
  },
  {
   "cell_type": "markdown",
   "metadata": {},
   "source": [
    "The second object was the <i>Galaxy</i>. This has another attribute, the mass of the object <i>M</i>, and another method, <i>createring</i>, compared to the <i>Particle</i> object. The integrator steps now call the <i>agalaxy</i> function, which requires the mass of the other galaxy (given by its <i>M</i> attribute). \n",
    "\n",
    "The <i>createring</i> method creates rings of equally spaced test particles at the given radii and particle number. The test particles are then given the required velocity to achieve circular motion, rotating clockwise or anti-clockwise depending on the <i>co</i> boolean input. A list of <i>Particle</i> objects is created and returned to be used by the main program."
   ]
  },
  {
   "cell_type": "code",
   "execution_count": null,
   "metadata": {
    "collapsed": true
   },
   "outputs": [],
   "source": [
    "class Galaxy(object):\n",
    "\n",
    "\tdef __init__(self,m,r,v):\n",
    "\t\t\"\"\"Defines initial parameters (position, velocity) and the mass of the object\"\"\"\n",
    "\t\tself.M = m\n",
    "\t\tself.R = r\n",
    "\t\tself.V = v\n",
    "\n",
    "\tdef initialstep(self,h,galaxy_M,galaxy_r,RK4step):\n",
    "\t\t\"\"\"Initial step taking to obtain r_(1) from initial values\"\"\"\n",
    "\n",
    "\t\tif not RK4step:\n",
    "\t\t\tself.Rnew = self.R + h*self.V + 0.5*agalaxy(self.R,galaxy_r,galaxy_M)*h**2\n",
    "\t\telse:\n",
    "\t\t\tself.Rnew = RKstep(h,self.V,self.R,galaxy_r,galaxy_M,agalaxy)\n",
    "\n",
    "\t\tself.Rold = self.R\n",
    "\t\tself.R = self.Rnew\n",
    "\n",
    "\tdef verletstep(self,h,galaxy_M,galaxy_r):\n",
    "\t\t\"\"\"Verlet Integration algorithm\"\"\"\n",
    "\n",
    "\t\t# Note: Must be performed after a single call of the initialstep function\n",
    "\n",
    "\t\tself.Rnew = 2*self.R-self.Rold+(h**2)*agalaxy(self.R,galaxy_r,galaxy_M)\n",
    "\n",
    "\t\tself.Rold = self.R\n",
    "\t\tself.R = self.Rnew\n",
    "\n",
    "\t\t# Do not need velocity in simulation so comment out to increase speed\n",
    "\n",
    "\t\t# self.V = (self.Rnew-self.Rold)/(2*h)\n",
    "\n",
    "\tdef createring(self,n_particles, radius, co):\n",
    "\t\t\"\"\" Create a ring of test particles at given radius and density \"\"\"\"\n",
    "\t\tif co:\n",
    "\t\t\tsign = -1\n",
    "\t\telse:\n",
    "\t\t\tsign = 1\n",
    "\t\tparticles = []\n",
    "\t\tfor j in range(0,len(radius)):\n",
    "\t\t\tR = np.zeros((2,n_particles[j]))\n",
    "\t\t\tV = np.zeros((2,n_particles[j]))\n",
    "\t\t\tv_init = radius[j]**(-0.5)\n",
    "\t\t\tangle = 2*np.pi/n_particles[j]\n",
    "\t\t\tfor i in range(0,n_particles[j]):\n",
    "\t\t\t\tR[:,i] = [self.R[0]+radius[j]*np.cos(i*angle),self.R[1]+radius[j]*np.sin(i*angle)]\n",
    "\t\t\t\tV[:,i] = [self.V[0]-sign*v_init*np.sin(i*angle),self.V[1]+sign*v_init*np.cos(i*angle)]\n",
    "\t\t\tfor k in range(0,n_particles[j]):\n",
    "\t\t\t\tparticles.append(Particle(R[:,k],V[:,k]))\n",
    "\t\treturn particles\n",
    "\n",
    "\tdef returnvalues(self):\n",
    "\t\treturn self.R"
   ]
  },
  {
   "cell_type": "markdown",
   "metadata": {},
   "source": [
    "The orbit of the second galaxy (for a fixed first galaxy) can be defined by its distance of closest approach, <i>f</i>, and its eccentricity <i>e</i>. From these, and a given starting angle, the initial position and velocity can be found using the appropriate shape equation (See Part IB Classical Dynamics):\n",
    "\n",
    "Parabolic $(e = 1)$:\n",
    "<center>$y^2 = 4f(f-x)$</center>\n",
    "Elliptical/Circular $(0 \\leq e < 1)$:\n",
    "<center>$\\left(\\frac{x+ae}{a}\\right)^2+\\left(\\frac{y}{b}\\right)^2 = 1$</center>\n",
    "Hyperbolic $(e > 1)$:\n",
    "<center>$\\left(\\frac{x+ae}{a}\\right)^2-\\left(\\frac{y}{Y}\\right)^2 = 1$</center>\n",
    "\n",
    "where $a$ is the semi-major axis ($< 0 $ for hyperbolic orbits), $b$ is the semi-minor axis and $Y^2 = -b^2$ giving real, positive $Y$ for $e > 1$.\n",
    "\n",
    "The <i>orbit</i> function takes $f,e$ and the initial angle of the perturbing mass and returns its initial position and velocity. This can then be passed to the <i>Galaxy</i> object during initialisation"
   ]
  },
  {
   "cell_type": "code",
   "execution_count": null,
   "metadata": {
    "collapsed": true
   },
   "outputs": [],
   "source": [
    "def orbit(f,e,angle):\n",
    "\t# Radial equation of orbits of eccentricity e\n",
    "\t# f is distance of closest approach\n",
    "\t# Define orbital parameters semi-latus rectum and semi-major axis\n",
    "\tr0 = f*(1+e)\n",
    "\n",
    "\tr = r0/(1+e*np.cos(angle))\n",
    "\tR = np.array((r*np.cos(angle),r*np.sin(angle)))\n",
    "\n",
    "\tif checkparabolic(e):\n",
    "\t\t# Parabola has E = 0\n",
    "\t\tv = (2/r)**0.5\n",
    "\t\t# dy/dx = -2f/y from equation of parabola\n",
    "\t\ttheta = np.arctan(-2*f/R[1])\n",
    "\telif e < 1 and e >= 0:\n",
    "\t\t# Ellipictal/circular orbit\n",
    "\t\t# energy E = -A/2a => find v\n",
    "\t\ta = r0/(1-e**2)\n",
    "\t\tv = (2/r-1/a)**0.5\n",
    "\t\t\n",
    "\t\t# Equation of ellipse ((x+ae)/a)**2+(y/b)**2 = 1\n",
    "\t\tb = r0*(1-e**2)**(-0.5)\n",
    "\t\tdydx = -((b/a)**2)*(R[0]+a*e)/R[1]\n",
    "\t\ttheta = np.arctan(dydx)\n",
    "\telif e > 1:\n",
    "\t\t# Hyperbolic orbit\n",
    "\t\t# energy E = -A/2a => find v\n",
    "\t\ta = r0/(1-e**2)\n",
    "\t\tv = (2/r-1/a)**0.5\n",
    "\n",
    "\t\t# Equation of hyperbola ((x+ea)/a)**2-(y/Y)**2 = 1\n",
    "\t\tY = r0*(e**2-1)**(-0.5)\n",
    "\t\tdydx = ((Y/a)**2)*(R[0]+a*e)/R[1]\n",
    "\t\ttheta = np.arctan(dydx)\n",
    "\telse:\n",
    "\t\tprint(\"\\nIncorrect value of eccentricity used, program terminated!\\n\")\n",
    "\t\tsys.exit()\n",
    "\tV = np.array((v*np.cos(theta),v*np.sin(theta)))\n",
    "\treturn R,V\n",
    "\n",
    "def checkparabolic(e):\n",
    "\t# Since e is entered as a float must check for region around e = 1\n",
    "\tif 1.001 > e > 0.999:\n",
    "\t\treturn True\n",
    "\telse:\n",
    "\t\treturn False"
   ]
  },
  {
   "cell_type": "markdown",
   "metadata": {},
   "source": [
    "Below is a simple function for handling integer input to produce strings of equal length. This means the plot files produced are automatically ordered correctly"
   ]
  },
  {
   "cell_type": "code",
   "execution_count": null,
   "metadata": {
    "collapsed": true
   },
   "outputs": [],
   "source": [
    "def numstr(i):\n",
    "\t# Function to make all number strings (0-999) be 3 figures long\n",
    "\tif i < 10:\n",
    "\t\tstring = '00' + str(i)\n",
    "\tif i < 100 and i >= 10:\n",
    "\t\tstring = '0' + str(i)\n",
    "\tif i >= 100:\n",
    "\t\tstring = str(i)\n",
    "\treturn string"
   ]
  },
  {
   "cell_type": "markdown",
   "metadata": {},
   "source": [
    "Function to return the index of the first particle within a ring at a given radius. For example, if given the index of a particle in the outer ring then the returned index would that of the first particle in that ring\n",
    "<img src=\"index.png\" style=\"width:220px;height:220px;\">\n",
    "This was used in estimating the error in the ODE integration by considering circular orbits positions compared to their initial position/radius."
   ]
  },
  {
   "cell_type": "code",
   "execution_count": null,
   "metadata": {
    "collapsed": true
   },
   "outputs": [],
   "source": [
    "def densitytoindex(len_r, densities,j):\n",
    "\t# Returns the index of the first particle in each ring of the orbiting test masses\n",
    "\tfor i in range(len_r):\n",
    "\t\tif j >= sum(densities[:i]) and j < sum(densities[:(i+1)]):\n",
    "\t\t\treturn sum(densities[:i])"
   ]
  },
  {
   "cell_type": "markdown",
   "metadata": {},
   "source": [
    "By removing the perturbing mass and tracking the position of the test particles in circular orbits, the error in the initial step and Verlet integration could be investigated. If the particles are perturbed from their initial position then they will undergo SHM about their initial radius. The function below was used to plot these particles radii as a function of time and to observe this SHM due to the errors introduced.\n",
    "<img src=\"radiustime_rk4.png\" style=\"width:540px;height:420px;\">\n",
    "This is the result for an RK4 initial step with a time step size h = 0.01. The different frequencies correspond to different ring radii"
   ]
  },
  {
   "cell_type": "code",
   "execution_count": null,
   "metadata": {
    "collapsed": true
   },
   "outputs": [],
   "source": [
    "def plottr(h, len_r, densities, rec_data, N, rec_n):\n",
    "\t# Produces a plot of change in radius against time\n",
    "\tt = h*np.linspace(0,N,N/rec_n)\n",
    "\tR = (rec_data[0,:,:]**2+rec_data[1,:,:]**2)**0.5\n",
    "\tfor j in range(len(rec_data[0,:,0])):\n",
    "\t\tindex = densitytoindex(len_r,densities,j)\n",
    "\t\tdeltaR = R[j,:]-R[index,0]\n",
    "\t\tplt.plot(t,deltaR, 'k-')\n",
    "\tylabelstr = u\"\\u0394\"+'r / arb. units'\n",
    "\tps.plotset(xlabel = 't / arb. units', ylabel = ylabelstr, minticks = True, sciaxis = 'y')\n",
    "\tboxstr = 'h = '+ str(h)\n",
    "\tplt.figtext(0.2, 0.8, boxstr, bbox = dict(facecolor = 'none', edgecolor = 'k', pad = 15.0))\n",
    "\tsavepath = ps.getPath() + '/plots/radiustime_nork4.png'\n",
    "\tplt.savefig(savepath)\n",
    "\tplt.clf()"
   ]
  },
  {
   "cell_type": "markdown",
   "metadata": {},
   "source": [
    "Given a value of eccentricity, <i>orbittype</i> returns a string of the name of the orbit type. This is used in the plot titles."
   ]
  },
  {
   "cell_type": "code",
   "execution_count": null,
   "metadata": {
    "collapsed": true
   },
   "outputs": [],
   "source": [
    "def orbittype(e):\n",
    "\t# Returns a string describing the type of orbit \n",
    "\tif checkparabolic(e):\n",
    "\t\treturn 'Parabolic'\n",
    "\telif e < 1 and e >= 0:\n",
    "\t\treturn 'Ellipictal'\n",
    "\telif e > 1:\n",
    "\t\treturn 'Hyperbolic'"
   ]
  },
  {
   "cell_type": "markdown",
   "metadata": {},
   "source": [
    "To observe the formation of tidal tails, the positions of the galactic centres and the test masses were plotted at the recorded time steps. This produced a series of plots which could be combined to form an animation of the tail formation. The test particles were plotted as black points, the central galactic centre as a red point and the perturbing mass trajectory as a blue line. Information about the orbit in question was displayed in the plot title and additional parameters in a log file in the plot directory. E.g.\n",
    "<img src=\"posplot.jpeg\" style=\"width:540px;height:420px;\">\n",
    "The <i>plotset</i> module handled the plot directory as well as other aspects of the plot such as limits etc."
   ]
  },
  {
   "cell_type": "code",
   "execution_count": null,
   "metadata": {
    "collapsed": true
   },
   "outputs": [],
   "source": [
    "def plotpos(rec_data1, rec_data2, N, rec_n, f, e, fixed, time, add_len = 5, frames = 1):\n",
    "\t# Creates a directory full of (N/frames*rec_n) plots showing the positions of all objects in the problem\n",
    "\t# Plots are in CoM frame of the initially stationary galaxy\n",
    "\tsavedir = ps.savedir()\n",
    "\tlimit = f + add_len\n",
    "\tfor i in range(int(N/(frames*rec_n))):\n",
    "\t\tk = frames*i\n",
    "\t\tfor j in range(len(rec_data1[0,:,0])):\n",
    "\t\t\tplt.plot(rec_data1[0,j,k],rec_data1[1,j,k], 'ko', markersize = 1)\n",
    "\t\tplt.plot(rec_data2[0,0,k],rec_data2[1,0,k],'ro')\n",
    "\t\tplt.plot(rec_data2[0,1,:k],rec_data2[1,1,:k],'b-')\n",
    "\t\tps.plotset(xlim = [rec_data2[0,0,k]-limit,rec_data2[0,0,k]+limit], \n",
    "                   ylim = [rec_data2[1,0,k]-limit,rec_data2[1,0,k]+limit], \n",
    "                   xlabel = 'x / arb. units', ylabel = 'y / arb. units', \n",
    "                   minticks = True, eqaspect = True)\n",
    "\t\ttitlestr = orbittype(e)+', e = '+str(e)+', f = '+str(f)\n",
    "\t\tplt.title(titlestr)\n",
    "\t\t# Lines used on my home PC to reduce file size, .jpg extension not supported at MCS\n",
    "\t\t# savepath = savedir + '/' + numstr(i) + '.jpg'\n",
    "\t\t# plt.savefig(savepath, quality = 50)\n",
    "\t\tsavepath = savedir + '/' + numstr(i) + '.png'\n",
    "\t\tplt.savefig(savepath)\n",
    "\t\tplt.clf()\n",
    "\t# Create a text file containing important parameters for reference\n",
    "\tfilepath = savedir + \"/log.txt\"\n",
    "\tf = open(filepath,\"w\")\n",
    "\targs = [fixed, N, rec_n, f, e, time]\n",
    "\ttextstr = '\\n\\nFixed =\\t\\t{0}\\nN =\\t\\t{1}\\nrec_n =\\t\\t{2}\\nf =\\t\\t{3}\\ne =\\t\\t{4}\\nT =\\t\\t{5}'.format(*args)\n",
    "\tf.write(textstr)\n",
    "\tf.close()"
   ]
  },
  {
   "cell_type": "markdown",
   "metadata": {},
   "source": [
    "This program has 9 key parameters which can be controlled via command line arguments using the <i>getopt</i> and <i>sys</i> libraries. \n",
    "\n",
    "These are as follows:\n",
    "\n",
    "h - time step size used in ODE integration\n",
    "\n",
    "N - the number of time steps taken\n",
    "\n",
    "rec_n - the number of steps taken before recording a data point for plotting\n",
    "\n",
    "RK4step - boolean determining whether the initial step is RK4 or Euler\n",
    "\n",
    "stationaryB - boolean determining whether the central galaxy is free to move or fixed\n",
    "\n",
    "e - the eccentricity of the perturbing mass\n",
    "\n",
    "f - the distance of closest approach of the perturbing mass\n",
    "\n",
    "i - initial angle of the perturbing mass orbit\n",
    "\n",
    "co - boolean determining whether the test particles corotate or contrarotate with the perturbing mass\n",
    "\n",
    "A <i>--help</i> command line argument can also be called to tell the user the correct usage of the other arguments.\n",
    "\n",
    "The selected values are then printed to the screen so if there is a mistake the program can be terminated by the user"
   ]
  },
  {
   "cell_type": "code",
   "execution_count": null,
   "metadata": {
    "collapsed": true
   },
   "outputs": [],
   "source": [
    "def commandlineargs():\n",
    "\t# Allowing command line arguments to change key parameters in analysis\n",
    "\n",
    "\t# Initial values\n",
    "\t# Step size\n",
    "\th = 0.01\n",
    "\t# Number of steps\n",
    "\tN = 20000\n",
    "\t# Number of steps taken before recording a data point\n",
    "\trec_n = 100\n",
    "\t# Central galaxy free to move\n",
    "\tstationaryB = False\n",
    "\t# Intial Step is a RK4 step\n",
    "\tRK4step = True\n",
    "\t# Perturbing mass in parabolic orbit\n",
    "\te = 1\n",
    "\t# Distance of closest approach\n",
    "\tf = 10\n",
    "\t# Initial angle of perturbing mass orbit\n",
    "\ti = 0.5\n",
    "\t# Initially antirotating wrt disturber\n",
    "\tco = False\n",
    "\n",
    "\topts, args = getopt.getopt(sys.argv[1:],\"sh:N:r:e:f:i:\",[\"help\",\"rk4off\",\"co\"])\n",
    "\tfor opt, arg in opts:\n",
    "\t\tif opt == \"--help\":\n",
    "\t\t\tprint(\"\"\"\n",
    "This program can take 8 different command line options:\n",
    "\n",
    "-s (takes no argument):\\t\\tUsed to fix the central mass position\n",
    "-h (takes float):\\t\\tChanges the step size used in the simulation\n",
    "-N (takes int):\\t\\t\\tChanges the number of steps taken\n",
    "-r (takes int):\\t\\t\\tChanges the number of steps taken before recording data\n",
    "-e (takes float):\\t\\tChanges the eccentricity of the perturbing mass orbit\n",
    "-f (takes float):\\t\\tChanges the distance of closest approach of the perturbing mass\n",
    "-i (takes float):\\t\\tStarting angle of orbit, enter fraction of pi\n",
    "--rk4off (takes no argument):\\tInitial step is a Euler step\n",
    "--co (takes no argument):\\tSets tests masses to be corotating with distrubing orbit\n",
    "\n",
    "\"\"\")\n",
    "\t\t\tsys.exit()\n",
    "\t\telif opt == '-s':\n",
    "\t\t\tstationaryB = True\n",
    "\t\telif opt == '-h':\n",
    "\t\t\th = float(arg)\n",
    "\t\telif opt == '-N':\n",
    "\t\t\tN = int(arg)\n",
    "\t\telif opt == '-r':\n",
    "\t\t\trec_n = int(arg)\n",
    "\t\telif opt == '-e':\n",
    "\t\t\te = float(arg)\n",
    "\t\telif opt == '-f':\n",
    "\t\t\tf = float(arg)\n",
    "\t\telif opt == '-i':\n",
    "\t\t\ti = float(arg)\n",
    "\t\telif opt == '--rk4off':\n",
    "\t\t\tRK4step = False\n",
    "\t\telif opt == '--co':\n",
    "\t\t\tco = True\n",
    "\n",
    "\tparams = [h, N, int(N/rec_n), stationaryB, e, f, i, RK4step, co]\n",
    "\tparamstr = '\\n\\nStep size:\\t\\t\\t{0}\\nNumber of iterations:\\t\\t{1}\\nNumber of data points:\\t\\t{2} \\nFixed central mass:\\t\\t{3}\\n\\\n",
    "Eccentricity:\\t\\t\\t{4}\\nClosest approach:\\t\\t{5}\\nStarting angle:\\t\\t\\t{6}\\u03C0\\nRK4 Step:\\t\\t\\t{7}\\nCorotating:\\t\\t\\t{8}\\n\\n'.format(*params)\n",
    "\tprint(paramstr)\n",
    "\treturn h, N, rec_n, e, f, i, stationaryB, RK4step, co"
   ]
  },
  {
   "cell_type": "markdown",
   "metadata": {},
   "source": [
    "These two functions were used to display the runtime of the program in a easily readable fashion"
   ]
  },
  {
   "cell_type": "code",
   "execution_count": null,
   "metadata": {
    "collapsed": true
   },
   "outputs": [],
   "source": [
    "def dubdig(t):\n",
    "\t# Returns a string which is 2 digits long for displaying times nicely\n",
    "\tif t < 10:\n",
    "\t\tt = '0'+str(t)\n",
    "\telse:\n",
    "\t\tt = str(t)\n",
    "\treturn t\n",
    "\n",
    "def sectotime(t):\n",
    "\t# Converts seconds to hours, minutes and seconds\n",
    "\thrs = int(t / 3600)\n",
    "\tt -= 3600*hrs\n",
    "\tmins = int(t/60)\n",
    "\tt -= 60*mins\n",
    "\ttime = [dubdig(hrs),dubdig(mins),dubdig(int(t))]\n",
    "\treturn time"
   ]
  },
  {
   "cell_type": "markdown",
   "metadata": {},
   "source": [
    "With all the above tools set in place, all that remains is calling the Verlet integration for the given number of time steps and recording the desired data. This is done by the function <i>main</i> below. The sequence of commands is as follows:\n",
    "1. Obtain parameter values from the given command line arguments\n",
    "2. Create the stationary and moving galaxy for the given orbital parameters\n",
    "3. Create the test particle ring about the stationary galaxy at the radii and densities defined in lists\n",
    "4. Perform the initial step on all objects\n",
    "5. Begin Verlet integration, recording the positions of particles every rec_n steps\n",
    "6. Begin the plotting phase of the program"
   ]
  },
  {
   "cell_type": "code",
   "execution_count": null,
   "metadata": {
    "collapsed": true
   },
   "outputs": [],
   "source": [
    "## Main ##\n",
    "def main():\n",
    "\t# Ability to set h, N and rec_n via command line arguments as well as fixing the position of the central galaxy\n",
    "\th, N, rec_n, e, f, iangle, fixed, RK4step, co = commandlineargs()\n",
    "\n",
    "\t# Records the intial wall time i.e. that measured by a stopwatch external to computer\n",
    "\tt0 = time.time()\n",
    "\t# Central stationary central mass\n",
    "\tR = np.zeros(2)\n",
    "\tV = np.array((0,0))\n",
    "\tstationaryG = Galaxy(1,R,V)\n",
    "\n",
    "\t# Moving mass\n",
    "\tR,V = orbit(f,e,iangle*np.pi)\n",
    "\tM = 1\n",
    "\tmovingG = Galaxy(M,R,V)\n",
    "\n",
    "\t# Position and density of test particles\n",
    "\tradii = [2,3,4,5,6,7,8]\n",
    "\tdensities = [12,18,24,30,36,42,48]\n",
    "\n",
    "\t# Creating test particles\n",
    "\tparticles = stationaryG.createring(densities,radii,co)\n",
    "\t\n",
    "\tgalaxy_masses = np.array((stationaryG.M,movingG.M))\n",
    "\tgalaxy_postions = np.array((stationaryG.R,movingG.R))\n",
    "\n",
    "\t# Taking initial steps for both test particles and masses\n",
    "\tfor x in particles:\n",
    "\t\tx.initialstep(h,galaxy_masses,galaxy_postions,RK4step)\n",
    "\tmovingG.initialstep(h,stationaryG.M,stationaryG.R,RK4step)\n",
    "\t# Need to use stationaryG.Rold since the other galaxy has already been moved for this time step\n",
    "\tif not fixed:\n",
    "\t\tstationaryG.initialstep(h,movingG.M,movingG.Rold,RK4step)\n",
    "\n",
    "\t# Creating arrays to store position vector data\n",
    "\trecord_testpositions = np.zeros((2,sum(densities),N/rec_n))\n",
    "\trecord_galaxyposition = np.zeros((2,2,N/rec_n))\n",
    "\n",
    "\t# Main loop\n",
    "\tprint(\"Performing simulation...\\n\")\n",
    "\titeratort = 0\n",
    "\n",
    "\tfor t in range(N):\n",
    "\t\titeratorx = 0\n",
    "\t\tgalaxy_postions = np.array((stationaryG.R,movingG.R))\n",
    "\t\t# Moving each test mass individually\n",
    "\t\tfor x in particles:\n",
    "\t\t\tx.verletstep(h,galaxy_masses,galaxy_postions)\n",
    "\t\t\tif(t%rec_n == 0):\n",
    "\t\t\t\tparticles_positions = x.returnvalues()\n",
    "\t\t\t\trecord_testpositions[:,iteratorx,iteratort] = particles_positions\n",
    "\t\t\titeratorx += 1\n",
    "\t\t# Stepping the two galaxies\n",
    "\t\tmovingG.verletstep(h,stationaryG.M,stationaryG.R)\n",
    "\t\t# Need to use stationaryG.Rold since the other galaxy has already been moved for this time step\n",
    "\t\tif not fixed:\n",
    "\t\t\tstationaryG.verletstep(h,movingG.M,movingG.Rold)\n",
    "\t\tif(t%rec_n == 0):\n",
    "\t\t\trecord_galaxyposition[:,0,iteratort] = stationaryG.R\n",
    "\t\t\trecord_galaxyposition[:,1,iteratort] = movingG.R\n",
    "\t\t\titeratort += 1\n",
    "\n",
    "\t# Finds the difference in wall times\n",
    "\tt_elapsed = time.time() - t0\n",
    "\tt_elapsed = sectotime(t_elapsed)\n",
    "\ttimestr = \"Runtime: \"+t_elapsed[0]+\" hrs \"+t_elapsed[1]+\" mins \"+t_elapsed[2]+\" secs\"\n",
    "\tprint('Completed simulation!\\n',timestr,'\\n\\n\\nPlotting...\\n\\n', sep = '')\n",
    "\n",
    "\tps.plotdir()\n",
    "\t# Uncomment to plot delta r wrt time\n",
    "\t# plottr(h, len(radii), densities, record_testpositions, N, rec_n)\n",
    "\tplotpos(record_testpositions, record_galaxyposition, N, rec_n, f, e, fixed, t_elapsed, add_len = 30)\n",
    "\n",
    "if __name__ == \"__main__\": main()"
   ]
  }
 ],
 "metadata": {
  "kernelspec": {
   "display_name": "Python 3",
   "language": "python",
   "name": "python3"
  },
  "language_info": {
   "codemirror_mode": {
    "name": "ipython",
    "version": 3
   },
   "file_extension": ".py",
   "mimetype": "text/x-python",
   "name": "python",
   "nbconvert_exporter": "python",
   "pygments_lexer": "ipython3",
   "version": "3.5.1"
  },
  "widgets": {
   "state": {},
   "version": "1.1.2"
  }
 },
 "nbformat": 4,
 "nbformat_minor": 0
}
