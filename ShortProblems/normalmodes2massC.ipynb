{
 "cells": [
  {
   "cell_type": "markdown",
   "metadata": {},
   "source": [
    "In this notebook, we will see how we can solve a (non-computational) NST part IB physics B Classical Dynamics question using computing. The question we will try is question 27c:\n",
    "![ ](https://github.com/PyCav/Images/blob/master/Dynamicsq27c.png?raw=true)"
   ]
  },
  {
   "cell_type": "markdown",
   "metadata": {},
   "source": [
    "First, we import some modules, including springs, a notebook containing modules for drawing springs and masses."
   ]
  },
  {
   "cell_type": "code",
   "execution_count": null,
   "metadata": {
    "collapsed": false
   },
   "outputs": [],
   "source": [
    "#NAME: Normal Modes Part 2 - Forced Response\n",
    "#DESCRIPTION: Plotting the amplitude response against frequency of applied force.\n",
    "\n",
    "from pycav.mechanics import *\n",
    "%matplotlib notebook\n",
    "import matplotlib.pyplot as plt\n",
    "import numpy as np"
   ]
  },
  {
   "cell_type": "markdown",
   "metadata": {},
   "source": [
    "We then make a number of particles and springs to connect them"
   ]
  },
  {
   "cell_type": "code",
   "execution_count": null,
   "metadata": {
    "collapsed": true
   },
   "outputs": [],
   "source": [
    "particles = []\n",
    "particles.append(Particle(pos = np.array([-15.,0.,0.]),\n",
    "                         v = np.array([0.,0.,0.]),\n",
    "                         inv_mass = 1.,\n",
    "                         fixed = True))\n",
    "particles.append(Particle(pos = np.array([-5.,0.,0.]),\n",
    "                         v = np.array([0.,0.,0.]),\n",
    "                         inv_mass = 1.,\n",
    "                         fixed = False))\n",
    "particles.append(Particle(pos = np.array([5.,0.,0.]),\n",
    "                         v = np.array([0.,0.,0.]),\n",
    "                         inv_mass = 1.,\n",
    "                         fixed = False))\n",
    "particles.append(Particle(pos = np.array([15.,0.,0.]),\n",
    "                         v = np.array([0.,0.,0.]),\n",
    "                         inv_mass = 1.,\n",
    "                         fixed = True))\n",
    "k = 1.\n",
    "K = 1.\n",
    "springs = []\n",
    "springs.append(Spring(particle_1 = particles [0],\n",
    "                     particle_2 = particles [1],\n",
    "                     k = k))\n",
    "springs.append(Spring(particle_1 = particles [1],\n",
    "                     particle_2 = particles [2],\n",
    "                     k = K))\n",
    "springs.append(Spring(particle_1 = particles [2],\n",
    "                     particle_2 = particles [3],\n",
    "                     k = k))"
   ]
  },
  {
   "cell_type": "markdown",
   "metadata": {},
   "source": [
    "We then create a sinusoidal force and add it to the second particle."
   ]
  },
  {
   "cell_type": "code",
   "execution_count": null,
   "metadata": {
    "collapsed": true
   },
   "outputs": [],
   "source": [
    "def create_sinusoidal_force(F,omega):\n",
    "    def sinusoidal_force(pos,t):\n",
    "        return [F*np.sin(omega*t),0,0]\n",
    "    return sinusoidal_force\n",
    "\n",
    "omega = 0.2\n",
    "F = 1\n",
    "particles[1].applied_force = create_sinusoidal_force(F,omega)"
   ]
  },
  {
   "cell_type": "markdown",
   "metadata": {},
   "source": [
    "We then group these objects together into a system, and try running the system with different values of omega repeatedly. The amplitudes are then recorded into a x1_history and x2_history array. Once this cell is done executing, execute the last cell to see the results and see how they compare with what we expect from an analytic solution, which has resonant peaks at  \n",
    "$$ \\\\ \\omega^{2} = \\frac{k}{m}$$\n",
    "and\n",
    "$$ \\\\ \\omega^{2} = \\frac{3k}{m}$$\n",
    "With k = 1, m = 1."
   ]
  },
  {
   "cell_type": "code",
   "execution_count": null,
   "metadata": {
    "collapsed": false
   },
   "outputs": [],
   "source": [
    "my_system = System(collides = False, interacts = False, visualize = True, particles = particles, springs = springs, record_amplitudes = True, display_forces = True)\n",
    "omega_history = []\n",
    "x1_history = []\n",
    "x2_history = []\n",
    "while omega < 5 :\n",
    "    particles[1].applied_force = create_sinusoidal_force(F,omega)\n",
    "    my_system.time = 0\n",
    "    my_system.run_for(30.)\n",
    "    omega_history.append(omega)\n",
    "    x1_history.append(particles[1].amplitude)\n",
    "    x2_history.append(particles[2].amplitude)\n",
    "    particles[1].pos = np.array([-5.,0.,0.])\n",
    "    particles[2].pos = np.array([5.,0.,0.])\n",
    "    particles[1].v = np.array([0.,0.,0.])\n",
    "    particles[2].v = np.array([0.,0.,0.])\n",
    "    for particle in particles:\n",
    "        particle.max_point = np.array([None])\n",
    "        particle.min_point = np.array([None])\n",
    "    omega += 0.2"
   ]
  },
  {
   "cell_type": "code",
   "execution_count": null,
   "metadata": {
    "collapsed": false
   },
   "outputs": [],
   "source": [
    "plt.plot(omega_history,x1_history,'r',label = 'x1')\n",
    "print(x2_history)\n",
    "plt.plot(omega_history,x2_history,'b',label = 'x2')\n",
    "plt.xlabel('omega')\n",
    "plt.ylabel('Amplitude')"
   ]
  },
  {
   "cell_type": "code",
   "execution_count": null,
   "metadata": {
    "collapsed": true
   },
   "outputs": [],
   "source": []
  }
 ],
 "metadata": {
  "anaconda-cloud": {},
  "kernelspec": {
   "display_name": "Python 3",
   "language": "python",
   "name": "python3"
  },
  "language_info": {
   "codemirror_mode": {
    "name": "ipython",
    "version": 3
   },
   "file_extension": ".py",
   "mimetype": "text/x-python",
   "name": "python",
   "nbconvert_exporter": "python",
   "pygments_lexer": "ipython3",
   "version": "3.5.1"
  }
 },
 "nbformat": 4,
 "nbformat_minor": 0
}
