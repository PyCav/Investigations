{
 "cells": [
  {
   "cell_type": "markdown",
   "metadata": {},
   "source": [
    "In this notebook, we will see how we can solve a (non-computational) NST part IB physics B Classical Dynamics question using computing. The question we will try is question 27a:\n",
    "![ ](https://github.com/PyCav/Images/blob/master/Dynamicsq27a.png?raw=true)"
   ]
  },
  {
   "cell_type": "markdown",
   "metadata": {},
   "source": [
    "First, we import some modules, including springs, a notebook containing modules for drawing springs and masses."
   ]
  },
  {
   "cell_type": "code",
   "execution_count": null,
   "metadata": {
    "collapsed": false
   },
   "outputs": [],
   "source": [
    "#NAME: Normal Modes\n",
    "#DESCRIPTION: Finding the frequencies of the normal modes of a two mass system.\n",
    "\n",
    "from pycav.mechanics import *\n",
    "%matplotlib notebook\n",
    "import matplotlib.pyplot as plt\n",
    "import numpy as np\n",
    "from vpython import *"
   ]
  },
  {
   "cell_type": "markdown",
   "metadata": {},
   "source": [
    "We then make a number of particles and springs to connect them"
   ]
  },
  {
   "cell_type": "code",
   "execution_count": null,
   "metadata": {
    "collapsed": false
   },
   "outputs": [],
   "source": [
    "particles = []\n",
    "particles.append(Particle(pos = np.array([-15.,0.,0.]),\n",
    "                         v = np.array([0.,0.,0.]),\n",
    "                         inv_mass = 1.,\n",
    "                         fixed = True))\n",
    "particles.append(Particle(pos = np.array([-5.,0.,0.]),\n",
    "                         v = np.array([5.,0.,0.]),\n",
    "                         inv_mass = 1.,\n",
    "                         fixed = False))\n",
    "particles.append(Particle(pos = np.array([5.,0.,0.]),\n",
    "                         v = np.array([-5.,0.,0.]),\n",
    "                         inv_mass = 1.,\n",
    "                         fixed = False))\n",
    "particles.append(Particle(pos = np.array([15.,0.,0.]),\n",
    "                         v = np.array([0.,0.,0.]),\n",
    "                         inv_mass = 1.,\n",
    "                         fixed = True))\n",
    "k = 1.\n",
    "K = 1.\n",
    "springs = []\n",
    "springs.append(Spring(particle_1 = particles [0],\n",
    "                     particle_2 = particles [1],\n",
    "                     k = k))\n",
    "springs.append(Spring(particle_1 = particles [1],\n",
    "                     particle_2 = particles [2],\n",
    "                     k = K))\n",
    "springs.append(Spring(particle_1 = particles [2],\n",
    "                     particle_2 = particles [3],\n",
    "                     k = k))"
   ]
  },
  {
   "cell_type": "markdown",
   "metadata": {},
   "source": [
    "We then group these objects together into a system, and try running the system with different values of K repeatedly. Once this cell is done executing, execute the last cell to see the results and see how they compare with the expected value of \n",
    "$$ \\\\ \\omega^{2} = \\frac{k + 2K}{m}$$\n",
    "With k = 1, m = 1."
   ]
  },
  {
   "cell_type": "code",
   "execution_count": null,
   "metadata": {
    "collapsed": false
   },
   "outputs": [],
   "source": [
    "my_system = System(collides = False, interacts = False, visualize = True, particles = particles, springs = springs, stop_on_cycle = True)\n",
    "K_history = []\n",
    "time_periods = []\n",
    "while K <15:\n",
    "    my_system.time = 0\n",
    "    my_system.run_for(10.)\n",
    "    K_history.append(K)\n",
    "    time_periods.append(my_system.time)\n",
    "    particles[1].pos = np.array([-5.,0.,0.])\n",
    "    particles[2].pos = np.array([5.,0.,0.])\n",
    "    particles[1].v = np.array([5.,0.,0.])\n",
    "    particles[2].v = np.array([-5.,0.,0.])\n",
    "    K += 1\n",
    "    springs[1].k = K"
   ]
  },
  {
   "cell_type": "code",
   "execution_count": null,
   "metadata": {
    "collapsed": false
   },
   "outputs": [],
   "source": [
    "omegasq = []\n",
    "for time_period in time_periods:\n",
    "    omegasq.append((2*np.pi/time_period)**2)\n",
    "plt.plot(K_history,omegasq)\n",
    "plt.ylabel('omega squared')\n",
    "plt.xlabel('K')\n",
    "fitted = np.polyfit(K_history,omegasq,1)\n",
    "print (\"omega^2=%.6fK+%.6f\"%(fitted[0],fitted[1]))"
   ]
  },
  {
   "cell_type": "code",
   "execution_count": null,
   "metadata": {
    "collapsed": false
   },
   "outputs": [],
   "source": [
    "import vpython\n",
    "help(vpython)"
   ]
  },
  {
   "cell_type": "code",
   "execution_count": null,
   "metadata": {
    "collapsed": false
   },
   "outputs": [],
   "source": [
    "import matplotlib\n",
    "help(matplotlib)"
   ]
  },
  {
   "cell_type": "code",
   "execution_count": null,
   "metadata": {
    "collapsed": true
   },
   "outputs": [],
   "source": []
  }
 ],
 "metadata": {
  "anaconda-cloud": {},
  "kernelspec": {
   "display_name": "Python 3",
   "language": "python",
   "name": "python3"
  },
  "language_info": {
   "codemirror_mode": {
    "name": "ipython",
    "version": 3
   },
   "file_extension": ".py",
   "mimetype": "text/x-python",
   "name": "python",
   "nbconvert_exporter": "python",
   "pygments_lexer": "ipython3",
   "version": "3.5.1"
  }
 },
 "nbformat": 4,
 "nbformat_minor": 0
}
