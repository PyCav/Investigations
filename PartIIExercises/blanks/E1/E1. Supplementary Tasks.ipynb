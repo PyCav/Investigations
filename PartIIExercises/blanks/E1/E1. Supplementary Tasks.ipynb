{
 "cells": [
  {
   "cell_type": "markdown",
   "metadata": {},
   "source": [
    "# E1. Supplementary Tasks"
   ]
  },
  {
   "cell_type": "markdown",
   "metadata": {},
   "source": [
    "#### Summary"
   ]
  },
  {
   "cell_type": "markdown",
   "metadata": {},
   "source": [
    "When you have completed the exercise, edit this cell to provide a summary of what you have achieved.\n",
    "\n",
    "Please also include your CRSid."
   ]
  },
  {
   "cell_type": "markdown",
   "metadata": {},
   "source": [
    "### Background Theory\n",
    "\n",
    "#### Fresnel Integrals\n",
    "One version of the Frensel integrals can be written\n",
    "\n",
    "\\begin{equation}\n",
    "    C(u) = \\int^{u}_{0}\\cos\\big(\\frac{\\pi x^2}{2}\\big)dx\n",
    "\\end{equation}\n",
    "\n",
    "and\n",
    "\n",
    "\\begin{equation}\n",
    "    S(u) = \\int^{u}_{0}\\sin\\big(\\frac{\\pi x^2}{2}\\big)dx\n",
    "\\end{equation}"
   ]
  },
  {
   "cell_type": "markdown",
   "metadata": {},
   "source": [
    "#### Near Field Complex Amplitude\n",
    "\n",
    "The complex amplitude in the near field on the axis of an open slit is given by\n",
    "\n",
    "\\begin{equation}\n",
    "    \\Psi \n",
    "    \\propto \n",
    "    \\int^{x_1}_{x_0} \n",
    "    \\Big( \n",
    "    \\cos\\big(\\frac{\\pi x^2}{\\lambda D}\\big)\n",
    "    + i\\sin\\big(\\frac{\\pi x^2}{\\lambda D}\\big)\n",
    "    \\Big)\n",
    "    dx\n",
    "\\end{equation}\n",
    "\n",
    "So you can use the Fresnel integrals directly by scaling the length dimensions by $\\sqrt{\\frac{2}{\\lambda D}}$. \n",
    "\n",
    "This result holds well for $D \\gg \\big(\\frac{d^4}{\\lambda}\\big)^\\frac{1}{3}$. The Fraunhofer limit applies when $D \\gg \\frac{d^2}{\\lambda}$."
   ]
  },
  {
   "cell_type": "markdown",
   "metadata": {},
   "source": [
    "### Tasks\n",
    "\n",
    "#### Supplementary Task 1\n",
    "\n",
    "Write a program to evaluate the Fresnel integrals <i>accurately</i> using the standard integration routine from **scipy**, and use this to make a plot of the Cornu spiral using **pyplot**.\n",
    "\n",
    "Do not use a Monte-Carlo routine. They are not efficient for low-dimensional integrals. Use a standard quadrature technique."
   ]
  },
  {
   "cell_type": "code",
   "execution_count": null,
   "metadata": {
    "collapsed": true
   },
   "outputs": [],
   "source": [
    "# Begin your answer for Supplementary Task 1 here."
   ]
  },
  {
   "cell_type": "markdown",
   "metadata": {},
   "source": [
    "#### Supplementary Task 2\n",
    "\n",
    "Use the previous work to calculate and plot the diffraction pattern of a slit of width $d = 10$ cm illuminated at normal incidence by plane monochromatic waves of wavelength $\\lambda = 1$ cm.\n",
    "\n",
    "The pattern is observed on a plane normal to the slide and the incoming waves.\n",
    "\n",
    "Calculate the pattern when the screen is at distances $D = 30,$ $50,$ and $100$ cm from the slit.\n",
    "\n",
    "Plot both the relative amplitude and phase of the pattern using **pyplot**. (The absolute amplitude and phase are not important here)."
   ]
  },
  {
   "cell_type": "code",
   "execution_count": null,
   "metadata": {
    "collapsed": true
   },
   "outputs": [],
   "source": [
    "# Begin your answer for Supplementary Task 2 here."
   ]
  }
 ],
 "metadata": {
  "kernelspec": {
   "display_name": "Python 3",
   "language": "python",
   "name": "python3"
  },
  "language_info": {
   "codemirror_mode": {
    "name": "ipython",
    "version": 3
   },
   "file_extension": ".py",
   "mimetype": "text/x-python",
   "name": "python",
   "nbconvert_exporter": "python",
   "pygments_lexer": "ipython3",
   "version": "3.5.1+"
  },
  "widgets": {
   "state": {},
   "version": "1.1.2"
  }
 },
 "nbformat": 4,
 "nbformat_minor": 0
}
