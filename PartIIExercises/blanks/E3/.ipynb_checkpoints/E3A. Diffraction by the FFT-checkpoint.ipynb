{
 "cells": [
  {
   "cell_type": "markdown",
   "metadata": {
    "slideshow": {
     "slide_type": "-"
    }
   },
   "source": [
    "# Exercise 3A\n",
    "##  Diffraction by the FFT"
   ]
  },
  {
   "cell_type": "markdown",
   "metadata": {},
   "source": [
    "#### Summary"
   ]
  },
  {
   "cell_type": "markdown",
   "metadata": {},
   "source": [
    "When you have completed the exercise, edit this cell (double click) to provide a summary of what you have achieved.\n",
    "\n",
    "Please also include your CRSid."
   ]
  },
  {
   "cell_type": "markdown",
   "metadata": {},
   "source": [
    "### Aims\n",
    "\n",
    "To write a program to calculate the near and far-field diffraction paterns of an arbitrary one-dimensional complex aperture using the Fast Fourier Transform technique.\n",
    "\n",
    "To test this program by using simple test apertures (a slit) for which the theoretical pattern is known.\n",
    "\n",
    "To investigate more complicated apertures for which analytical results are difficult to compute."
   ]
  },
  {
   "cell_type": "markdown",
   "metadata": {},
   "source": [
    "### Physics\n",
    "\n",
    "#### Setup\n",
    "Plane monochromatic waves of wavelength $\\lambda$, arrive at normal incidence on an aperture, which has a complex transmittance $A(x)$.\n",
    "\n",
    "The wave is diffracted, and the pattern is observed on a screen a distance $D$ from the aperture and parallel to it.\n",
    "\n",
    "We want to calculate the pattern when the screen is in the far-field of the aperture (Fraunhofer diffraction) and also in the near-field (Fresnel)."
   ]
  },
  {
   "cell_type": "markdown",
   "metadata": {},
   "source": [
    "<img src='geometry.png'>\n",
    "<center>Geometry for diffraction calculation. </center>"
   ]
  },
  {
   "cell_type": "markdown",
   "metadata": {},
   "source": [
    "Using Huygen's construction, we can write the disturbance at a point $P$ on the screen, a distance $y$ from the axis, as\n",
    "\n",
    "\\begin{equation}\n",
    "\\psi (y) \\propto \\int A(x)\\frac{e^{ikr}}{r} dx\n",
    "\\end{equation}\n",
    "where $k=\\frac{2\\pi}{\\lambda}$."
   ]
  },
  {
   "cell_type": "markdown",
   "metadata": {},
   "source": [
    "We have assumed that all angles are small:\n",
    "\n",
    "\\begin{equation}\n",
    "    x, y \\ll D\n",
    "\\end{equation}\n",
    "\n",
    "so that we are close to the straight-through axis and can therefore neglect terms like $\\cos \\theta$ which appear if we are off-axis."
   ]
  },
  {
   "cell_type": "markdown",
   "metadata": {},
   "source": [
    "We now expand the path length $r$ in powers of $\\frac{x}{r}$:\n",
    "\n",
    "\\begin{equation}\n",
    "    r^2 = D^2 + (y - x)^2\n",
    "\\end{equation}\n",
    "\n",
    "\\begin{equation}\n",
    "    r \\approx D + \\frac{y^2}{2D} - \\frac{xy}{D} + \\frac{x^2}{2D} + \\mathcal{O}\\bigg(\\frac{(y - x)^4}{D^3}\\bigg)\n",
    "\\end{equation}"
   ]
  },
  {
   "cell_type": "markdown",
   "metadata": {},
   "source": [
    "If we now neglect the variation of $r$ in the demoninator of the integral, setting $r \\approx D$, which is adequare for $x,y \\ll D$, then we can write:\n",
    "\n",
    "\\begin{equation}\n",
    "    \\psi (y) \\propto \n",
    "    \\frac{e^{ikD}}{D} \\ e^{\\frac{iky^2}{2D}}\n",
    "    \\int\n",
    "    A(x) \\ e^{\\frac{ikx^2}{2D}} \\ e^{-\\frac{ikxy}{D}}\n",
    "    dx\n",
    "\\end{equation}"
   ]
  },
  {
   "cell_type": "markdown",
   "metadata": {},
   "source": [
    "The diffraciton pattern is thus the Fourier transform of the modifed aperture function $A'$:\n",
    "\n",
    "\\begin{equation}\n",
    "    \\psi(y) \\propto\n",
    "    e^{\\frac{iky^2}{2D}}\n",
    "    \\int\n",
    "    A'(x)\n",
    "    e ^ {-\\frac{ikxy}{D}}\n",
    "    dx\n",
    "\\end{equation}\n",
    "\n",
    "with \n",
    "\n",
    "\\begin{equation}\n",
    "    A'(x) = A(x) \\ e^{\\frac{ikx^2}{2D}}\n",
    "\\end{equation}"
   ]
  },
  {
   "cell_type": "markdown",
   "metadata": {},
   "source": [
    "In the far-field limit, we have $\\frac{kx^2}{2D} \\ll \\pi$ so that $A' \\approx A$ for all values of $x$ in the aperature where $A(x)$ is non-zero, i.e. the familiar result:\n",
    "\n",
    "\\begin{equation}\n",
    "    d \\gg \\frac{x^2_{max}}{\\lambda}\n",
    "\\end{equation}"
   ]
  },
  {
   "cell_type": "markdown",
   "metadata": {},
   "source": [
    "The distance $\\frac{x^2_{max}}{\\lambda}$ is the Fresnel distance. In this case, the diffraction pattern is just the Fourier transform of the aperture function."
   ]
  },
  {
   "cell_type": "markdown",
   "metadata": {},
   "source": [
    "Note that we can calculate the near-field (Fresnel) pattern also if we include a step to modify the aperature function $A'(x)$ <i>before we take its Fourier transform</i>."
   ]
  },
  {
   "cell_type": "markdown",
   "metadata": {},
   "source": [
    "Also note that if we are only intesreted in the pattern's intensity, we can ignore the phase prefactors in $\\psi(y)$."
   ]
  },
  {
   "cell_type": "markdown",
   "metadata": {},
   "source": [
    "Finally, we can discretize the latter integral, by sampling the aperature evenly at positions $x_j$:\n",
    "\n",
    "\\begin{equation}\n",
    "    \\psi(y) \\propto\n",
    "    \\Delta\n",
    "    \\sum^{N-1}_{j=0}\n",
    "    A'(x_j) \\\n",
    "    e^{-\\frac{iyx_j}{D}}\n",
    "\\end{equation}\n",
    "\n",
    "where $\\Delta$ is the distance betwen the aperture sample positions $x_j$. One convienient definition of the sample points in $x$ is:\n",
    "\n",
    "\\begin{equation}\n",
    "    x_j =\n",
    "    \\bigg(j - \\frac{N}{2}\\bigg)\n",
    "    \\Delta\n",
    "\\end{equation}"
   ]
  },
  {
   "cell_type": "markdown",
   "metadata": {},
   "source": [
    "### Tasks\n",
    "\n",
    "#### Core Task 1\n",
    "\n",
    "Write a program that will calculate the diffraction pattern of a general 1-dimensional complex aperture in the **far field** of the aperture using FFT techniques.\n",
    "\n",
    "The program should calculate the intensity in the pattern accross the screen, which you should plot using **pyplot**.\n",
    "\n",
    "The program should find and you should plot the pattern using the correct y coordinates (in metres or microns for example). <i>Label your coordinates</i>.\n",
    "\n",
    "Test this program for the specific case of a slit in the centre of an otherwise blocked aperture: take the slit to have width $d$ in the centre of an aperture of total extent $L$. For definiteness, use $\\lambda = 500 nm, \\ d = 100 \\mu m, \\ D = 1.0m$ and $L = 5mm$.\n",
    "\n",
    "Overlay on your plot the theoretical value of the intensity pattern expected, using **pyplot** to plot the theoretical function."
   ]
  },
  {
   "cell_type": "code",
   "execution_count": null,
   "metadata": {
    "collapsed": true
   },
   "outputs": [],
   "source": [
    "# Code"
   ]
  },
  {
   "cell_type": "code",
   "execution_count": null,
   "metadata": {
    "collapsed": true
   },
   "outputs": [],
   "source": []
  }
 ],
 "metadata": {
  "kernelspec": {
   "display_name": "Python 3",
   "language": "python",
   "name": "python3"
  },
  "language_info": {
   "codemirror_mode": {
    "name": "ipython",
    "version": 3
   },
   "file_extension": ".py",
   "mimetype": "text/x-python",
   "name": "python",
   "nbconvert_exporter": "python",
   "pygments_lexer": "ipython3",
   "version": "3.5.1+"
  },
  "widgets": {
   "state": {},
   "version": "1.1.2"
  }
 },
 "nbformat": 4,
 "nbformat_minor": 0
}
