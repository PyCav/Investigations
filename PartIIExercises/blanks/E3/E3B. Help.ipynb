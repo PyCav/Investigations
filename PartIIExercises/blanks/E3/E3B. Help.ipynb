{
 "cells": [
  {
   "cell_type": "markdown",
   "metadata": {
    "slideshow": {
     "slide_type": "-"
    }
   },
   "source": [
    "# Exercise 3B\n",
    "##  Help"
   ]
  },
  {
   "cell_type": "markdown",
   "metadata": {},
   "source": [
    "There are several ways to approach this problem. Do some thinking before you start coding. \n",
    "\n",
    "First, you have to decide how to deal with the 3-dimensional vector fields, both for the position and magnetic field vectors. Most simply, you can have three arrays representing the Cartesian $x$, $y$ and $z$ components of the vectors. Or you could use a [class](https://docs.python.org/2/tutorial/classes.html) or structure that represents a point in 3-space, and use a vector of such points. A 4-dimensional array (or higher-dimensional as required) where three of the dimensions correspond to x, y and z respectively may be the way forward. The choice is yours."
   ]
  },
  {
   "cell_type": "markdown",
   "metadata": {},
   "source": [
    "You then need to think about how to represent the wire. I recommend that you write a program that is general, i.e. that can calculate the field due to an arbitrary wire. You could define the wire by a set of $N$ line segments defined by $N + 1$ points in space, each section of wire running from $(x_i, \\ y_i, \\ z_i)$ to $(x_{i+1}, \\ y_{i+1}, z_{i+1})$, i.e. from $\\textbf{r}_i$ to $\\textbf{r}_{i+1}$ using vectors."
   ]
  },
  {
   "cell_type": "markdown",
   "metadata": {},
   "source": [
    "You can now write a function that calculates the contribution $\\textbf{dB}$ from each section using equation Equation 13, and add them up to find the total field of the wire. \n",
    "\n",
    "You need to evaluate the [cross product](http://docs.scipy.org/doc/numpy/reference/generated/numpy.cross.html) of course. Be careful close to the wires where $\\textbf{r}$ gets small."
   ]
  },
  {
   "cell_type": "markdown",
   "metadata": {},
   "source": [
    "Now you need to create a wire which represents a single coil suitably, and evaluate the field it produces by stepping over a 2-d grid of point in the $x-y$ plane."
   ]
  },
  {
   "cell_type": "markdown",
   "metadata": {},
   "source": [
    "For plotting, I suggest you write 4 columns for the magnetic field:\n",
    "$B_x, \\ B_y, \\ B_z$ and the magnitude $\\left|\\textbf{B}\\right|$, so you now have 6 variables to plot in all.\n",
    "\n",
    "You can use [quiver](http://matplotlib.org/api/pyplot_api.html) in **pyplot** to make a 2-d plot of the vectors.\n",
    "\n",
    "Now add another coil and investigate Helmholtz coils."
   ]
  },
  {
   "cell_type": "markdown",
   "metadata": {},
   "source": [
    "$ \\ $"
   ]
  }
 ],
 "metadata": {
  "kernelspec": {
   "display_name": "Python 3",
   "language": "python",
   "name": "python3"
  },
  "language_info": {
   "codemirror_mode": {
    "name": "ipython",
    "version": 3
   },
   "file_extension": ".py",
   "mimetype": "text/x-python",
   "name": "python",
   "nbconvert_exporter": "python",
   "pygments_lexer": "ipython3",
   "version": "3.5.1+"
  },
  "widgets": {
   "state": {},
   "version": "1.1.2"
  }
 },
 "nbformat": 4,
 "nbformat_minor": 0
}
