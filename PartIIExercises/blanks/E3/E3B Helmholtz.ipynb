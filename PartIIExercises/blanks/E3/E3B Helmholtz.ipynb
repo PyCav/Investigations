{
 "cells": [
  {
   "cell_type": "markdown",
   "metadata": {
    "slideshow": {
     "slide_type": "-"
    }
   },
   "source": [
    "# E3B Helmholtz Coils and the Biot-Savart law"
   ]
  },
  {
   "cell_type": "markdown",
   "metadata": {},
   "source": [
    "#### Summary"
   ]
  },
  {
   "cell_type": "markdown",
   "metadata": {},
   "source": [
    "When you have completed the exercise, edit this cell (double click) to provide a summary of what you have achieved.\n",
    "\n",
    "Please also include your CRSid."
   ]
  },
  {
   "cell_type": "markdown",
   "metadata": {},
   "source": [
    "### Aims\n",
    "\n",
    "To write a program to calculate the magnetic field caused by Helmholtz coils.\n",
    "\n",
    "To check that your solution argrees with the on-axis anayltical result.\n",
    "\n",
    "To investigate with suitable plots the uniformity of the field near the centre of the system."
   ]
  },
  {
   "cell_type": "markdown",
   "metadata": {},
   "source": [
    "### Physics\n",
    "\n",
    "#### Setup\n",
    "The physics of this exercise is straightforward. You should know that a small length of wire $\\textbf{dl}$ carrying a current $I$ creates a magnetic field:\n",
    "\n",
    "\\begin{equation}\n",
    "    \\textbf{dB}\n",
    "    =\n",
    "    \\frac{\\mu_0}{4\\pi}\n",
    "    \\frac{I \\textbf{dl} \\wedge \\textbf{r}}{r^3}\n",
    "\\end{equation}\n",
    "\n",
    "at a location $\\textbf{r}$ with respect to the current element."
   ]
  },
  {
   "cell_type": "markdown",
   "metadata": {},
   "source": [
    "So by breaking up any wire into short elements, we can simply add up all the contributions to find the total magnetic field.\n",
    "\n",
    "Note that in this problem you are expected to simply do this. There are of course more accurate ways to compute integrals numerically - but this exercise is more about how to <i>organise</i> your code than how to evaluate integrals to high accuracy."
   ]
  },
  {
   "cell_type": "markdown",
   "metadata": {},
   "source": [
    "<img src='helmholtz.png' width='33%' height='33%'>\n",
    "\n",
    "<center>Diagram of two Helmholtz coils aligned on-axis</center>"
   ]
  },
  {
   "cell_type": "markdown",
   "metadata": {},
   "source": [
    "Recall that the axial field on axis of a single coil is given by,\n",
    "\n",
    "\\begin{equation}\n",
    "    B =\n",
    "    \\frac{\\mu_0 I}{2}\n",
    "    \\frac{R^2}{(R^2 + x^2)^\\frac{3}{2}}\n",
    "\\end{equation}"
   ]
  },
  {
   "cell_type": "markdown",
   "metadata": {},
   "source": [
    "Helmholtz coils produce a fairly uniform field close to the centre of the system. They consist of two co-ais coils carrying parallel and equal currents I. The separation D of the coils is set equal to their radii $R$.\n",
    "\n",
    "For coils aligned with the $x$ axis, we can place the coil centres at $(\\pm \\frac{R}{2}, 0, 0)$. For the purposes of this problem set $R = 1.0m$. It is convienient to set the current such that it has a (very large!) value of $\\frac{1}{\\mu_0}$ A, to get numbers which are easy to interpret (but with very high strength fields!).\n",
    "\n",
    "The field expected at the coil centres is then,\n",
    "\n",
    "\\begin{equation}\n",
    "    B =\n",
    "    \\bigg(\n",
    "    \\frac{4}{5}\n",
    "    \\bigg)^{\\frac{3}{2}}\n",
    "    \\frac{\\mu_0 I}{R}\n",
    "\\end{equation}"
   ]
  },
  {
   "cell_type": "markdown",
   "metadata": {},
   "source": [
    "### Tasks\n",
    "\n",
    "#### Core Task 1\n",
    "\n",
    "Write a program which computes the magnetic field from a single coil\n",
    "of radius $R = 1m$ carrying a current $I = \\frac{1}{\\mu_0}$ A. Put the coil centre at $(0, 0)$ and let the coil’s axis run in the $x$ direction."
   ]
  },
  {
   "cell_type": "markdown",
   "metadata": {},
   "source": [
    "Calculate the field in the $x$ − $y$ plane."
   ]
  },
  {
   "cell_type": "markdown",
   "metadata": {},
   "source": [
    "First check your field on axis ($y$ = $z$ = 0) agrees with theory by plotting your result against the theoretical one. Then calculate the field on a x − y grid, plot the results with **pyplot**.\n",
    "\n",
    "To compare theory with your calculation, you should plot the difference between theory and calculation along the $x$ axis, as well as the actual values.\n",
    "\n",
    "You will need to break the wire up into a series of straight line elements, and using the Biot-Savart law, you can then add up the total field. \n",
    "\n",
    "How many elements should you break your circle into? You should experiment with different values in your code. And how does the final accuracy of your calculation depend on this value?"
   ]
  },
  {
   "cell_type": "code",
   "execution_count": 2,
   "metadata": {
    "collapsed": true
   },
   "outputs": [],
   "source": [
    "#NAME: E3B Helmholtz Coils and the Biot-Savart Law\n",
    "#DESCRIPTION: Analysing the magnetic field produced by a Helmholtz coil.\n",
    "\n",
    "# Write your code for Core Task 1 here."
   ]
  },
  {
   "cell_type": "markdown",
   "metadata": {},
   "source": [
    "#### Core Task 2\n",
    "\n",
    "Now adapt your program to calculate the field from Helmholtz coils\n",
    "arranged as in the diagram. \n",
    "\n",
    "Plot field strength near the centre. How uniform is the field? \n",
    "\n",
    "The coil centres should be set to be $(\\pm 0.5 m, 0, 0)$ with the coils’ axes pointing in the x direction. \n",
    "\n",
    "Calculate and plot the magnetic field strength in the vicinity of $(0, 0, 0)$. \n",
    "\n",
    "Show that the field is quite uniform in this region. To quantify\n",
    "this uniformity, find the maximum percentage deviation of the field magnitude from that at $(0, 0, 0)$ within a cylinder which has diameter $10cm$, length $10cm$, and is coaxial with the coils. \n",
    "\n",
    "The centre of the cylinder should be at $(0, 0, 0)$. Because\n",
    "of the symmetry, it is of course sufficient to calculate and plot the field for $z = 0$, i.e. plot $B(x, y, 0)$, with $x$ and $y$ extending to $\\pm5 cm$."
   ]
  },
  {
   "cell_type": "code",
   "execution_count": null,
   "metadata": {
    "collapsed": true
   },
   "outputs": [],
   "source": [
    "# Write your code for Core Task 2 here."
   ]
  },
  {
   "cell_type": "markdown",
   "metadata": {},
   "source": [
    "#### Supplementary Task 1\n",
    "\n",
    "Investigate the field patterns if one of the currents is reversed."
   ]
  },
  {
   "cell_type": "code",
   "execution_count": null,
   "metadata": {
    "collapsed": true
   },
   "outputs": [],
   "source": [
    "# Write your code for Supplementary Task 1 here"
   ]
  },
  {
   "cell_type": "markdown",
   "metadata": {},
   "source": [
    "$ \\ $"
   ]
  }
 ],
 "metadata": {
  "kernelspec": {
   "display_name": "Python 3",
   "language": "python",
   "name": "python3"
  },
  "language_info": {
   "codemirror_mode": {
    "name": "ipython",
    "version": 3
   },
   "file_extension": ".py",
   "mimetype": "text/x-python",
   "name": "python",
   "nbconvert_exporter": "python",
   "pygments_lexer": "ipython3",
   "version": "3.5.1+"
  },
  "widgets": {
   "state": {},
   "version": "1.1.2"
  }
 },
 "nbformat": 4,
 "nbformat_minor": 0
}
