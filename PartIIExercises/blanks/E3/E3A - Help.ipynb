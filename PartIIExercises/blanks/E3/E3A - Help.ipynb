{
 "cells": [
  {
   "cell_type": "markdown",
   "metadata": {},
   "source": [
    "# Exercise 3A\n",
    "## Developing the Program"
   ]
  },
  {
   "cell_type": "markdown",
   "metadata": {},
   "source": [
    "### The Fast Fourier Transform"
   ]
  },
  {
   "cell_type": "markdown",
   "metadata": {},
   "source": [
    "Recall the definition of the Fast Fourier Transform (FFT):\n",
    "\n",
    "\\begin{equation}\n",
    "    H_j\n",
    "    =\n",
    "    \\sum^{N-1}_{m=0}\n",
    "    h_m \\\n",
    "    e^{2\\pi i \\frac{mj}{N}}\n",
    "\\end{equation}\n",
    "\n",
    "which maps $N$ time-domain samples $h_m$ into $N$ frequencies, which are\n",
    "\n",
    "\\begin{equation}\n",
    "    f_j\n",
    "    =\n",
    "    \\frac{j}{N\\Delta}\n",
    "\\end{equation}"
   ]
  },
  {
   "cell_type": "markdown",
   "metadata": {},
   "source": [
    "You can think of frequencies $\\frac{j}{N} \\times \\frac{1}{\\Delta}$, running from $j=0$ to $(N-1)$, with\n",
    "\n",
    "<ul>\n",
    "    <li>$j=0$ is zero frequency</li>\n",
    "    <li>For $1 \\leq n \\leq \\frac{N}{2}$, we have positive frequencies $\\frac{j}{N} \\times \\frac{1}{\\Delta}$</li>\n",
    "    <li>For $\\frac{N}{2} + 1 \\leq j \\leq (N - 1)$, we have <i>negative frequencies</i> which we compute as $\\big(\\frac{j}{N} - 1 \\big) \\times \\frac{1}{\\Delta}$. (Remember that the sequences are periodic).</li>\n",
    "</ul>"
   ]
  },
  {
   "cell_type": "markdown",
   "metadata": {},
   "source": [
    "Of course, in Exercise 3A, we don't have the time-domain samples, but we can still use the FFT to carry out the transform."
   ]
  },
  {
   "cell_type": "markdown",
   "metadata": {},
   "source": [
    "The complex aperture function must be represented by a set of $N$ discrete complex values along the aperture, ecoding the real and imaginary parts of $A(x)$.\n",
    "\n",
    "Each complex value represents the aperture's transmittance over a small length $\\Delta$ of the aperture, so that $N\\Delta$ is the total extent of the aperture."
   ]
  },
  {
   "cell_type": "markdown",
   "metadata": {},
   "source": [
    "Choose appropriate values for $N$ and $\\Delta$ to make sure you can represent the whole aperture of the maximum extent $L$ well enough. Bear in mind that FFT calculations are fastest when the transform length is a power of 2, and that you want $\\Delta$ to be small enough to resolve the features of the aperture.\n",
    "\n",
    "(Computers are fast enough these days though; so you can use small values of $\\Delta$ and correspondingly large values of $N$. In practice, for such a small problem, the use of $N$ as a power of 2 is not ncessary, but it is important if performance is critical.)"
   ]
  },
  {
   "cell_type": "markdown",
   "metadata": {},
   "source": [
    "### FFTs in Python"
   ]
  },
  {
   "cell_type": "markdown",
   "metadata": {},
   "source": [
    "Unlike C++, explicit allocation of storage for output arrays is not necessary - as these are created by the FFT function - but the input amplitude arrays need to be constructed.\n",
    "\n",
    "For the slit problem, you can use the [numpy.zeros()](http://docs.scipy.org/doc/numpy/reference/generated/numpy.zeros.html) function to set up an array of the appropriate size filled with zeros and then set locations where the slit is transparent by assigning non-zero values to \"slices\", e.g."
   ]
  },
  {
   "cell_type": "code",
   "execution_count": 8,
   "metadata": {
    "collapsed": false
   },
   "outputs": [
    {
     "name": "stdout",
     "output_type": "stream",
     "text": [
      "[ 0.  0.  0.  0.  0.  0.  0.  0.  0.  0.  0.  0.  0.  0.  0.]\n",
      "[ 0.  0.  0.  0.  0.  1.  1.  1.  1.  1.  0.  0.  0.  0.  0.]\n"
     ]
    }
   ],
   "source": [
    "from numpy import zeros\n",
    "a = zeros(15)\n",
    "print(a)\n",
    "\n",
    "# Set a slice of the array to be 1\n",
    "a[5:10] = 1\n",
    "print(a)"
   ]
  },
  {
   "cell_type": "markdown",
   "metadata": {},
   "source": [
    "You now need a routine to calculate the FFT. In python, you can use [numpy.fft.fft()](http://docs.scipy.org/doc/numpy/reference/generated/numpy.fft.fft.html#numpy.fft.fft) routine. It accepts a real or complex input and produces a complex output."
   ]
  },
  {
   "cell_type": "markdown",
   "metadata": {},
   "source": [
    "To plot the intensity on the screen as a function of actual distance y, you need to work out how to convert the pixels in the Fourier transform into distances on the screen $y$. \n",
    "\n",
    "### todo: equation numbering\n",
    "To do this you first need to compare carefully Equation 9 and Equation\n",
    "11 (also referring to Equation 10) which should tell you how to derive y at\n",
    "each pixel value. In addition, by interpreting the second half of the transform as\n",
    "negative frequencies (or y values in this case) you should be able to plot the intensity\n",
    "pattern as a function of y for positive and negative y, and plot over this\n",
    "the matching sinc function for a slit"
   ]
  }
 ],
 "metadata": {
  "kernelspec": {
   "display_name": "Python 3",
   "language": "python",
   "name": "python3"
  },
  "language_info": {
   "codemirror_mode": {
    "name": "ipython",
    "version": 3
   },
   "file_extension": ".py",
   "mimetype": "text/x-python",
   "name": "python",
   "nbconvert_exporter": "python",
   "pygments_lexer": "ipython3",
   "version": "3.5.1+"
  },
  "widgets": {
   "state": {},
   "version": "1.1.2"
  }
 },
 "nbformat": 4,
 "nbformat_minor": 0
}
