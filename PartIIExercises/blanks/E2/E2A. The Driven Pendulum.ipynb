{
 "cells": [
  {
   "cell_type": "markdown",
   "metadata": {
    "slideshow": {
     "slide_type": "-"
    }
   },
   "source": [
    "# Exercise 2A\n",
    "## The Driven Pendulum"
   ]
  },
  {
   "cell_type": "markdown",
   "metadata": {},
   "source": [
    "#### Summary"
   ]
  },
  {
   "cell_type": "markdown",
   "metadata": {},
   "source": [
    "When you have completed the exercise, edit this cell to provide a summary of what you have achieved.\n",
    "\n",
    "Please also include your CRSid."
   ]
  },
  {
   "cell_type": "markdown",
   "metadata": {},
   "source": [
    "### Aims\n",
    "\n",
    "To investigate the physics of a damped, driven pendulum by accurate integration of its equation of motion.\n",
    "\n",
    "**Choose either this ODE problem, or exercise 2B. Both involve ODEs. Exercise 2B is more open ended and perhaps a bit more challenging than 2A: Choose 2B if you want to solve a slightly more elaborate problem with more creative input.**"
   ]
  },
  {
   "cell_type": "markdown",
   "metadata": {},
   "source": [
    "### Background Theory\n",
    "\n",
    "The pendulum comprises a bob of mass $m$ on a light cord of length $l$ and swings in a uniform gravitational field $g$.\n",
    "\n",
    "If there is a resistive force equal to $\\alpha v$ where the bob speed is $v$, and a driving sinusoidal couple $G$ at frequency $\\Omega_D$, we can write,"
   ]
  },
  {
   "cell_type": "markdown",
   "metadata": {},
   "source": [
    "\\begin{equation}\n",
    "    \\small\n",
    "    ml^2\n",
    "    \\frac{d^2 \\theta}{d t^2}\n",
    "    =\n",
    "    -mgl \\sin (\\theta)\n",
    "    -\\alpha l \\frac{d \\theta}{dt}\n",
    "    + G \\sin (\\Omega_D t)\n",
    "\\end{equation}\n",
    "\n",
    "Rearranging\n",
    "\n",
    "\\begin{equation}\n",
    "    \\small\n",
    "    \\frac{d^2 \\theta}{d t^2}\n",
    "    =\n",
    "    -\\frac{g}{l} \\sin (\\theta)\n",
    "    -q \\frac{d \\theta}{dt}\n",
    "    + F \\sin (\\Omega_D t)\n",
    "\\end{equation}\n",
    "\n",
    "where we have defined $q \\equiv \\frac{\\alpha}{ml}$ and $F \\equiv \\frac{G}{ml^2}$."
   ]
  },
  {
   "cell_type": "markdown",
   "metadata": {},
   "source": [
    "### Tasks\n",
    "\n",
    "#### Core task\n",
    "Write a program to find an approximate value of this integral and an associated error estimate.\n",
    "\n",
    "\\begin{equation}\n",
    "    \\tiny\n",
    "    10^6 \n",
    "    \\int_{0}^{s}\n",
    "    \\int_{0}^{s}\n",
    "    \\int_{0}^{s}\n",
    "    \\int_{0}^{s}\n",
    "    \\int_{0}^{s}\n",
    "    \\int_{0}^{s}\n",
    "    \\int_{0}^{s}\n",
    "    sin(x_0 + x_1 + x_2 + x_3 + x_4 + x_5 + x_6 + x_7)\n",
    "    dx_0\n",
    "    dx_1\n",
    "    dx_2\n",
    "    dx_3\n",
    "    dx_4\n",
    "    dx_5\n",
    "    dx_6\n",
    "    dx_7\n",
    "\\end{equation}\n",
    "\n",
    "where \n",
    "\n",
    "\\begin{equation}\n",
    "    s = \\frac{\\pi}{8}\n",
    "\\end{equation}\n",
    "\n",
    "using Monte-Carlo Techniques.\n",
    "\n",
    "<i>There is an analytic answer in this case, however that's not the point!</i> The answer is in fact:\n",
    "\n",
    "\\begin{equation}\n",
    "    \\small\n",
    "    10^6 \\times \\bigg[70 \n",
    "    - 16sin\\big(\\frac{\\pi}{8}\\big)\n",
    "    + 56sin\\big(\\frac{\\pi}{4}\\big)\n",
    "    - 112sin\\big(\\frac{3\\pi}{8}\\big)\n",
    "    \\bigg]\n",
    "    \\approx 537.1873411. \n",
    "\\end{equation}"
   ]
  },
  {
   "cell_type": "markdown",
   "metadata": {},
   "source": [
    "#### Step by Step guide: Monte-Carlo integration\n",
    "\n",
    "1. The first goal is to write a funtion that returns an estimate of the integral's value using $N$ sample points using the approximation given in the Background Theory section. <p> This function can be called over and over to get estimates of the integral. <p>\n",
    "\n",
    "2. You will need to be able to generate random points in an 8-dimensional (or generally $n$-dimensional space). <p> Import the *numpy.random* function to generate random numbers.\n",
    "\n",
    "The value of $\\pi$ has been imported from the numpy module for you."
   ]
  },
  {
   "cell_type": "code",
   "execution_count": 24,
   "metadata": {
    "collapsed": true
   },
   "outputs": [],
   "source": [
    "from numpy import pi\n",
    "# Try writing a function as described in 1 & 2 here."
   ]
  },
  {
   "cell_type": "markdown",
   "metadata": {},
   "source": [
    "<ol start=\"3\">\n",
    "    <li>The basic logic you require now is to loop over increasing values of $N$. For each value of $N$, estimate the integral several times and find a best value and error by looking at the mean and spread of estimates returned. <p> How big should N be? Experiment!</li>\n",
    "</ol>\n",
    "\n",
    "Think about how to <i>vectorise</i> your code. Use **numpy** functions such as **numpy.sum()** to act on a whole array of numbers in a single function call."
   ]
  },
  {
   "cell_type": "code",
   "execution_count": 25,
   "metadata": {
    "collapsed": true
   },
   "outputs": [],
   "source": [
    "# Write your Monte-Carlo simulation here."
   ]
  },
  {
   "cell_type": "markdown",
   "metadata": {},
   "source": [
    "Show that the error in the integral falls with $\\frac{1}{\\sqrt{N}}$ where $N$ is the number of Monte-Carlo samples by estimating the error on the value for a given $N$ from the <i>standard deviation of several independent estimates</i>, and plotting a suitable graph with **pyplot**."
   ]
  },
  {
   "cell_type": "code",
   "execution_count": 1,
   "metadata": {
    "collapsed": false
   },
   "outputs": [
    {
     "name": "stderr",
     "output_type": "stream",
     "text": [
      "/home/niall/.local/lib/python3.5/site-packages/matplotlib/backends/backend_gtk3agg.py:18: UserWarning: The Gtk3Agg backend is known to not work on Python 3.x with pycairo. Try installing cairocffi.\n",
      "  \"The Gtk3Agg backend is known to not work on Python 3.x with pycairo. \"\n"
     ]
    }
   ],
   "source": [
    "# To get you started, here is how you can import pyplot.\n",
    "import matplotlib.pyplot as plt\n",
    "%matplotlib notebook"
   ]
  },
  {
   "cell_type": "markdown",
   "metadata": {},
   "source": [
    "Now try to compute the integral using the [scipy.integrate.quad](http://docs.scipy.org/doc/scipy/reference/generated/scipy.integrate.quad.html) function.\n",
    "\n",
    "You'll have to define a function to pass to <i>quad</i>, as well as a [tuple](https://docs.python.org/2/tutorial/datastructures.html#tuples-and-sequences) containing the arguments you wish to pass to the function."
   ]
  },
  {
   "cell_type": "code",
   "execution_count": 2,
   "metadata": {
    "collapsed": true
   },
   "outputs": [],
   "source": [
    "# To get you started, here is how you can import the quad function.\n",
    "from scipy.integrate import quad"
   ]
  },
  {
   "cell_type": "code",
   "execution_count": null,
   "metadata": {
    "collapsed": true
   },
   "outputs": [],
   "source": []
  }
 ],
 "metadata": {
  "kernelspec": {
   "display_name": "Python 3",
   "language": "python",
   "name": "python3"
  },
  "language_info": {
   "codemirror_mode": {
    "name": "ipython",
    "version": 3
   },
   "file_extension": ".py",
   "mimetype": "text/x-python",
   "name": "python",
   "nbconvert_exporter": "python",
   "pygments_lexer": "ipython3",
   "version": "3.5.1+"
  },
  "widgets": {
   "state": {},
   "version": "1.1.2"
  }
 },
 "nbformat": 4,
 "nbformat_minor": 0
}
