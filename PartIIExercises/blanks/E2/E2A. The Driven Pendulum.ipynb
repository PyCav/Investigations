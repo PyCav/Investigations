{
 "cells": [
  {
   "cell_type": "markdown",
   "metadata": {
    "slideshow": {
     "slide_type": "-"
    }
   },
   "source": [
    "# Exercise 2A\n",
    "## The Driven Pendulum"
   ]
  },
  {
   "cell_type": "markdown",
   "metadata": {},
   "source": [
    "#### Summary"
   ]
  },
  {
   "cell_type": "markdown",
   "metadata": {},
   "source": [
    "When you have completed the exercise, edit this cell (by double clicking) to provide a summary of what you have achieved.\n",
    "\n",
    "Please also include your CRSid."
   ]
  },
  {
   "cell_type": "markdown",
   "metadata": {},
   "source": [
    "### Aims\n",
    "\n",
    "To investigate the physics of a damped, driven pendulum by accurate integration of its equation of motion.\n",
    "\n",
    "**Choose either this ODE problem, or exercise 2B. Both involve ODEs. Exercise 2B is more open ended and perhaps a bit more challenging than 2A: Choose 2B if you want to solve a slightly more elaborate problem with more creative input.**\n",
    "\n",
    "If you get stuck, check the hints notebook for this exercise."
   ]
  },
  {
   "cell_type": "markdown",
   "metadata": {},
   "source": [
    "### Background Theory\n",
    "\n",
    "The pendulum comprises a bob of mass $m$ on a light cord of length $l$ and swings in a uniform gravitational field $g$.\n",
    "\n",
    "If there is a resistive force equal to $\\alpha v$ where the bob speed is $v$, and a driving sinusoidal couple $G$ at frequency $\\Omega_D$, we can write,"
   ]
  },
  {
   "cell_type": "markdown",
   "metadata": {},
   "source": [
    "\\begin{equation}\n",
    "    \\small\n",
    "    ml^2\n",
    "    \\frac{d^2 \\theta}{d t^2}\n",
    "    =\n",
    "    -mgl \\sin (\\theta)\n",
    "    -\\alpha l \\frac{d \\theta}{dt}\n",
    "    + G \\sin (\\Omega_D t)\n",
    "\\end{equation}\n",
    "\n",
    "Rearranging\n",
    "\n",
    "\\begin{equation} \\label{eq:2}\n",
    "    \\small\n",
    "    \\frac{d^2 \\theta}{d t^2}\n",
    "    =\n",
    "    -\\frac{g}{l} \\sin (\\theta)\n",
    "    -q \\frac{d \\theta}{dt}\n",
    "    + F \\sin (\\Omega_D t)\n",
    "\\end{equation}\n",
    "\n",
    "where we have defined $q \\equiv \\frac{\\alpha}{ml}$ and $F \\equiv \\frac{G}{ml^2}$."
   ]
  },
  {
   "cell_type": "markdown",
   "metadata": {},
   "source": [
    "### Tasks\n",
    "\n",
    "#### Core task\n",
    "\n",
    "First, re-write the second second-order differential equation as a pair of linked first-order equations in the variables $y_0 = \\theta$ and $y_1 = \\omega = \\dot{\\theta}$."
   ]
  },
  {
   "cell_type": "markdown",
   "metadata": {},
   "source": [
    "Now write a program that will integrate this pair of equations using a suitable algorithm, for example, a 4th order Runge-Kutta (rk4) technique, from a given starting point $\\theta = \\theta_0$ and $\\omega = \\omega_0$ at $t = 0$.\n",
    "\n",
    "The [scipy.integrate.ode](http://docs.scipy.org/doc/scipy-0.13.0/reference/generated/scipy.integrate.ode.html) method contains the ability to perform rk4."
   ]
  },
  {
   "cell_type": "code",
   "execution_count": 3,
   "metadata": {
    "collapsed": false
   },
   "outputs": [],
   "source": [
    "from scipy.integrate import ode"
   ]
  },
  {
   "cell_type": "code",
   "execution_count": 4,
   "metadata": {
    "collapsed": true
   },
   "outputs": [],
   "source": [
    "# Write the integrating functions here."
   ]
  },
  {
   "cell_type": "markdown",
   "metadata": {},
   "source": [
    "Test the code by setting $q = F = 0$ and starting from $(\\theta_0, \\omega_0) = (0.01, 0.0)$ and plotting the solution for $10,$ $100,$ $1000$... natural periods of oscillation.\n",
    "\n",
    "Overlay on your plot the expected result for small-angle oscillations - make sure they agree!"
   ]
  },
  {
   "cell_type": "code",
   "execution_count": 6,
   "metadata": {
    "collapsed": true
   },
   "outputs": [],
   "source": [
    "# Write the code to plot the initial tests here.\n",
    "# Note: you should import the pyplot library.\n",
    "q = F = 0.0"
   ]
  },
  {
   "cell_type": "markdown",
   "metadata": {},
   "source": [
    "Test how well your integrator conserves energy. Run the code for say, 10,000 oscillations and plot the evolution of energy with time."
   ]
  },
  {
   "cell_type": "code",
   "execution_count": 7,
   "metadata": {
    "collapsed": true
   },
   "outputs": [],
   "source": [
    "# Test the conservation of energy of your simulation here."
   ]
  },
  {
   "cell_type": "markdown",
   "metadata": {},
   "source": [
    "Now find how the amplitude of undriven, undamped oscillations affects the period.\n",
    "\n",
    "Plot a graph of the period T versus $\\theta_0$ for $0 < \\theta_0 < \\pi$.\n",
    "\n",
    "For the period of $\\theta_0 = \\frac{\\pi}{2}$, store the answer in a variable 'ans_period'."
   ]
  },
  {
   "cell_type": "code",
   "execution_count": 8,
   "metadata": {
    "collapsed": true
   },
   "outputs": [],
   "source": [
    "# Write the code to determine the behaviour of the period.\n",
    "\n",
    "ans_period = 0.0"
   ]
  },
  {
   "cell_type": "markdown",
   "metadata": {},
   "source": [
    "#### Supplementary Task 1\n",
    "\n",
    "Turn on some damping, say $q = 1,$ $5,$ $10,$ plot some results, and check that they make sense."
   ]
  },
  {
   "cell_type": "code",
   "execution_count": 9,
   "metadata": {
    "collapsed": true
   },
   "outputs": [],
   "source": [
    "# Write your code for Supplementary Task 1 here."
   ]
  },
  {
   "cell_type": "markdown",
   "metadata": {},
   "source": [
    "#### Supplementary Task 2"
   ]
  },
  {
   "cell_type": "markdown",
   "metadata": {},
   "source": [
    "Now turn on the driving force, leaving $q = 0.5$ from now on, and investigate with suitable plots the behaviour for $F = 0.5,$ $1.2,$ $1.44,$ $1.465$.\n",
    "\n",
    "What happens to the period of the oscillation?"
   ]
  },
  {
   "cell_type": "code",
   "execution_count": 11,
   "metadata": {
    "collapsed": true
   },
   "outputs": [],
   "source": [
    "# Write your code for the first part of Supplementary Task 2 here."
   ]
  },
  {
   "cell_type": "markdown",
   "metadata": {},
   "source": [
    "Finally, investigate sensitivity to initial conditions: compare two oscillations, one with $F = 1.2,$ $\\theta_0 = 0.2$ and one with  $F = 1.2,$ $\\theta_0 = 0.20001$.\n",
    "\n",
    "Integrate for a 'long time' to see if the solutions diverge or stay the same."
   ]
  },
  {
   "cell_type": "code",
   "execution_count": null,
   "metadata": {
    "collapsed": true
   },
   "outputs": [],
   "source": [
    "# Write your code for the second part of Supplementary Task 2 here."
   ]
  }
 ],
 "metadata": {
  "kernelspec": {
   "display_name": "Python 3",
   "language": "python",
   "name": "python3"
  },
  "language_info": {
   "codemirror_mode": {
    "name": "ipython",
    "version": 3
   },
   "file_extension": ".py",
   "mimetype": "text/x-python",
   "name": "python",
   "nbconvert_exporter": "python",
   "pygments_lexer": "ipython3",
   "version": "3.5.1+"
  },
  "widgets": {
   "state": {},
   "version": "1.1.2"
  }
 },
 "nbformat": 4,
 "nbformat_minor": 0
}
