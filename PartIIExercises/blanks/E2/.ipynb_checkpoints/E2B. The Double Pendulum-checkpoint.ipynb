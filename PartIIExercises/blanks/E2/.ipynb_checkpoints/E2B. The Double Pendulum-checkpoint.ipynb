{
 "cells": [
  {
   "cell_type": "markdown",
   "metadata": {
    "slideshow": {
     "slide_type": "-"
    }
   },
   "source": [
    "# Exercise 2B\n",
    "## The Double Pendulum"
   ]
  },
  {
   "cell_type": "markdown",
   "metadata": {},
   "source": [
    "#### Summary"
   ]
  },
  {
   "cell_type": "markdown",
   "metadata": {},
   "source": [
    "When you have completed the exercise, edit this cell to provide a summary of what you have achieved.\n",
    "\n",
    "Please also include your CRSid."
   ]
  },
  {
   "cell_type": "markdown",
   "metadata": {},
   "source": [
    "### Aims\n",
    "\n",
    "To investigate the physics of a double pendulum by accurate integration of its equation of motion.\n",
    "\n",
    "**Choose either this ODE problem, or exercise 2A. Both involve ODEs. This exercise is more open ended and perhaps a bit more challenging than 2A: if you want to solve a slightly more elaborate problem with more creative input, choose this problem.**\n",
    "\n",
    "If you get stuck, check the hints notebook for this exercise."
   ]
  },
  {
   "cell_type": "markdown",
   "metadata": {},
   "source": [
    "### Physics\n",
    "\n",
    "#### Setup\n",
    "A double pendulum comprises two point masses $m_1$ and $m_2$ joined by rigid, light struts of lengths $l_1$ and $l_2$. The struts are joined by a frictionless hinge which constrains the masses to move in a vertical plane. The upper strut is attached by another frictionless hinge to a support and the massess hang below in a uniform gravitational field $g$. The state of the system can be expressed by the angles $\\theta_1$ and $\\theta_2$ which the struts make with the vertical."
   ]
  },
  {
   "cell_type": "markdown",
   "metadata": {},
   "source": [
    "<img src='double_pendulum.png'>"
   ]
  },
  {
   "cell_type": "markdown",
   "metadata": {},
   "source": [
    "This simple system exhibits surprisingly complex behaviour when raised up and released from rest - in fact, its behaviour is <i>chaotic</i>. In this mini-project you will solve its equations of motion and investigate its properties."
   ]
  },
  {
   "cell_type": "markdown",
   "metadata": {},
   "source": [
    "#### Lagranian Mechanics\n",
    "\n",
    "The equations of motion for this system are most easily derived using Largrangian mechanics."
   ]
  },
  {
   "cell_type": "markdown",
   "metadata": {},
   "source": [
    "The potential energy is:\n",
    "\n",
    "\\begin{equation}\n",
    "    V =\n",
    "    -m_1 g l_1 \\cos \\theta_1\n",
    "    -m_2 g(l_1 \\cos \\theta_1 + l_2 \\cos \\theta_2)\n",
    "\\end{equation}\n",
    "\n",
    "The kinetic energy is:\n",
    "\n",
    "\\begin{equation}\n",
    "    T = \n",
    "    \\frac{1}{2}(m_1 + m_2)l^2_1\\dot{\\theta}^2_1\n",
    "    +\\frac{1}{2} m_2 l^2_2 \\dot{\\theta}^2_2\n",
    "    + m_2 l_1 l_2 \\dot{\\theta}_1 \\dot{\\theta}_2 ( \\cos \\theta_1 \\cos \\theta_2 + \\sin \\theta_1 \\sin \\theta_2 )\n",
    "\\end{equation}"
   ]
  },
  {
   "cell_type": "markdown",
   "metadata": {},
   "source": [
    "The Lagrangian $L = T - V$ is thus:\n",
    "\\begin{equation}\n",
    "\\small\n",
    "L = \n",
    "    \\frac{1}{2}(m_1 + m_2)l^2_1\\dot{\\theta}^2_1\n",
    "    +\\frac{1}{2} m_2 l^2_2 \\dot{\\theta}^2_2\n",
    "    + m_2 l_1 l_2 \\dot{\\theta}_1 \\dot{\\theta}_2 ( \\cos \\theta_1 \\cos \\theta_2 + \\sin \\theta_1 \\sin \\theta_2 )\n",
    "    +m_1 g l_1 \\cos \\theta_1\n",
    "    +m_2 g(l_1 \\cos \\theta_1 + l_2 \\cos \\theta_2)\n",
    "\\end{equation}"
   ]
  },
  {
   "cell_type": "markdown",
   "metadata": {},
   "source": [
    "It is an interesting challenge to prove these and hence derive the equations using the Euler-Lagrane equations (although this is not required for this exercise):\n",
    "\n",
    "\\begin{equation}\n",
    "    \\small\n",
    "    (m_1 + m_2) l_1 \\ddot{\\theta_1}\n",
    "    +m_2 l_2 \\ddot{\\theta_2} \\cos(\\theta_1 - \\theta_2)\n",
    "    + m_2 l_2 \\dot{\\theta}^2_2 \\sin (\\theta_1 - \\theta_2) + (m_1 + m_2) g \\sin \\theta_1\n",
    "    = 0\n",
    "\\end{equation}\n",
    "\\begin{equation}\n",
    "    \\small\n",
    "    l_2 \\ddot{\\theta_2}\n",
    "    + l_1 \\ddot{\\theta_1} \\cos (\\theta_1 - \\theta_2)\n",
    "    - l_1 \\dot{\\theta}^2_1 \\sin (\\theta_1 - \\theta_2) + g \\sin \\theta_2\n",
    "    = 0\n",
    "\\end{equation}"
   ]
  },
  {
   "cell_type": "markdown",
   "metadata": {},
   "source": [
    "We now need to solve these two simultaneous equations to find expressions for $\\ddot{\\theta_1} = \\dot{y_0}$ and $\\ddot{\\theta_2} = \\dot{y_1}$\n",
    "\n",
    "We will do this numerically."
   ]
  },
  {
   "cell_type": "markdown",
   "metadata": {},
   "source": [
    "### Tasks\n",
    "\n",
    "#### Core task\n",
    "\n",
    "Write a program to solve the linked differential equations for the state vector $\\textbf{y}$ for a given starting condition, e.g. $\\textbf{y}(t=0)$."
   ]
  },
  {
   "cell_type": "markdown",
   "metadata": {},
   "source": [
    "First re-write these second-order differential equations as 4 linked first-order equations in the variables $y_0 = \\theta_1,$ $y_1 = \\theta_2,$ $y_2 = \\dot{\\theta_1},$ and $y_0 = \\dot{\\theta_2}$.\n",
    "\n",
    "Denote the vector specifying the state of the state of the system:\n",
    "\n",
    "\\begin{equation}\n",
    "    \\small\n",
    "    \\textbf{y} = (\\theta_1, \\theta_2, \\dot{\\theta_1}, \\dot{\\theta_2}) = (y_0, y_1, y_2, y_3)\n",
    "\\end{equation}"
   ]
  },
  {
   "cell_type": "markdown",
   "metadata": {},
   "source": [
    "Now write a program that will integrate these 4 linked equations using a suitable algorithm, for example, a 4th order Runge-Kutta (rk4) technique, from a given starting point $\\theta = \\theta_0$ and $\\omega = \\omega_0$ at $t = 0$.\n",
    "\n",
    "The [scipy.integrate.ode](http://docs.scipy.org/doc/scipy-0.13.0/reference/generated/scipy.integrate.ode.html) method contains the ability to perform rk4."
   ]
  },
  {
   "cell_type": "code",
   "execution_count": 2,
   "metadata": {
    "collapsed": false
   },
   "outputs": [],
   "source": [
    "from scipy.integrate import ode"
   ]
  },
  {
   "cell_type": "markdown",
   "metadata": {},
   "source": [
    "For illustrative purposes, use the values $m_1 = m_2 = 1$ and $l_1 = l_2 = 1$ and $g = 10$ throughout this exercise. Make sure your code can in principle solve the problem for arbitrary masses by allowing these values to be changed readily within your code."
   ]
  },
  {
   "cell_type": "code",
   "execution_count": 3,
   "metadata": {
    "collapsed": true
   },
   "outputs": [],
   "source": [
    "# Write the integrating functions here."
   ]
  },
  {
   "cell_type": "markdown",
   "metadata": {},
   "source": [
    "Test the code by setting the starting vector $\\textbf{y} = (\\frac{\\pi}{10}, \\frac{\\pi}{5}, 0, 0)$ and prlotting the particle motions over a few hundred seconds."
   ]
  },
  {
   "cell_type": "code",
   "execution_count": 4,
   "metadata": {
    "collapsed": true
   },
   "outputs": [],
   "source": [
    "# Write the code to test and plot the integration."
   ]
  },
  {
   "cell_type": "markdown",
   "metadata": {},
   "source": [
    "Test how well your integrator conserves energy. Plot the energy as a function of time."
   ]
  },
  {
   "cell_type": "code",
   "execution_count": 7,
   "metadata": {
    "collapsed": true
   },
   "outputs": [],
   "source": [
    "# Test and plot the conservation of energy of your simulation here."
   ]
  },
  {
   "cell_type": "markdown",
   "metadata": {},
   "source": [
    "Now find how the amplitude of undriven, undamped oscillations affects the period.\n",
    "\n",
    "Plot a graph of the period T versus $\\theta_0$ for $0 < \\theta_0 < \\pi$.\n",
    "\n",
    "For the period of $\\theta_0 = \\frac{\\pi}{2}$, store the answer in a variable 'ans_period'."
   ]
  },
  {
   "cell_type": "code",
   "execution_count": 8,
   "metadata": {
    "collapsed": true
   },
   "outputs": [],
   "source": [
    "# Write the code to determine the behaviour of the period.\n",
    "\n",
    "ans_period = 0.0"
   ]
  },
  {
   "cell_type": "markdown",
   "metadata": {},
   "source": [
    "#### Supplementary Task 1\n",
    "\n",
    "Investigate the normal modes of the system for small angle oscillations.\n",
    "\n",
    "It can be shown that for $m_1 = m_2 = m$ and $l_1 = l_2 = l$, the normal modes have angular displacements $\\frac{\\theta_1}{\\theta_2} = \\pm \\sqrt{2}$ and the corresponding angular fequencies are given by $\\omega^2 = (2 \\pm \\sqrt{2}) \\frac{g}{l}$.\n",
    "\n",
    "Set up suitable initial small angle displacements corresponding to these two modes and demonstrate with suitable plots that these are indeed normal modes with the expected frequencies.\n",
    "\n",
    "Add a sentence or two to the summary to explain what you see."
   ]
  },
  {
   "cell_type": "code",
   "execution_count": 9,
   "metadata": {
    "collapsed": true
   },
   "outputs": [],
   "source": [
    "# Write your code for Supplementary Task 1 here."
   ]
  },
  {
   "cell_type": "markdown",
   "metadata": {},
   "source": [
    "Plot the angular displacements verus time in the normal modes."
   ]
  },
  {
   "cell_type": "code",
   "execution_count": null,
   "metadata": {
    "collapsed": true
   },
   "outputs": [],
   "source": [
    "# Write your code to plot the relevant information."
   ]
  },
  {
   "cell_type": "markdown",
   "metadata": {},
   "source": [
    "#### Supplementary Task 2"
   ]
  },
  {
   "cell_type": "markdown",
   "metadata": {},
   "source": [
    "Now calculate the trajectories for large initial values of the angles, and plot the behaviour. There is a lot of physics that can be explored here - experiment if you have the time. In particular, investigate the chaotic behaviour of the system and illustrate with suitable plots.\n",
    "\n",
    "There are plenty of guides on the web to get you started."
   ]
  },
  {
   "cell_type": "code",
   "execution_count": 5,
   "metadata": {
    "collapsed": true
   },
   "outputs": [],
   "source": [
    "# Write your code for the first part of Supplementary Task 2 here."
   ]
  }
 ],
 "metadata": {
  "kernelspec": {
   "display_name": "Python 3",
   "language": "python",
   "name": "python3"
  },
  "language_info": {
   "codemirror_mode": {
    "name": "ipython",
    "version": 3
   },
   "file_extension": ".py",
   "mimetype": "text/x-python",
   "name": "python",
   "nbconvert_exporter": "python",
   "pygments_lexer": "ipython3",
   "version": "3.5.1+"
  },
  "widgets": {
   "state": {},
   "version": "1.1.2"
  }
 },
 "nbformat": 4,
 "nbformat_minor": 0
}
