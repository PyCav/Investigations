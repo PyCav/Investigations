{
 "cells": [
  {
   "cell_type": "markdown",
   "metadata": {},
   "source": [
    "# Exercise 1\n",
    "## Integration and Random Numbers"
   ]
  },
  {
   "cell_type": "markdown",
   "metadata": {},
   "source": [
    "#### Summary\n",
    "When you have completed the exercise, edit this cell to provide a summary of what you have achieved."
   ]
  },
  {
   "cell_type": "markdown",
   "metadata": {},
   "source": [
    "### Aims\n",
    "\n",
    "The aim of this exercise is for you to learn how to evaluate integrals numerically using:\n",
    "\n",
    "<ol type=\"a\">\n",
    "  <li>a self-written Monte-Carlo method and,</li>\n",
    "  <li>a general purpose integrator from **scipy**.</li>\n",
    "</ol>"
   ]
  },
  {
   "cell_type": "markdown",
   "metadata": {},
   "source": [
    "### Background Theory\n",
    "\n",
    "Suppose that we have a function $f$ of $n$ parameters that we can regard as an $n$-dimensional vector $\\textbf{r}$. This must be integrated over the $n$-dimensional hypervolume $V$.\n",
    "\n",
    "We can estimate this by taking $N$ samples distributed over random points $\\textbf{r}_i$ throughout $V$, as follows:"
   ]
  },
  {
   "cell_type": "markdown",
   "metadata": {},
   "source": [
    "\\begin{equation}\n",
    "    \\int f dV \n",
    "    \\approx \n",
    "    V \\langle f \\rangle \n",
    "    \\pm \n",
    "    V \\bigg(\n",
    "        \\frac{\\langle f ^ 2 \\rangle - \\langle f \\rangle ^ 2}{N}\n",
    "      \\bigg) ^ \\frac{1}{2}\n",
    "\\end{equation}"
   ]
  },
  {
   "cell_type": "markdown",
   "metadata": {},
   "source": [
    "where\n",
    "\n",
    "\\begin{equation}\n",
    "    \\langle f \\rangle \\equiv \\frac{1}{N}\\sum_{i=0}^{N-1}f(\\textbf{r}_i)\n",
    "\\end{equation}\n",
    "\n",
    "\\begin{equation}\n",
    "    \\langle f^2 \\rangle \\equiv \\frac{1}{N}\\sum_{i=0}^{N-1}f^2(\\textbf{r}_i)\n",
    "\\end{equation}"
   ]
  },
  {
   "cell_type": "markdown",
   "metadata": {},
   "source": [
    "Note that this error estimate is not guaranteed to be very good. It is not Gaussian-distributed: treat it as indivcative only of the error.\n",
    "\n",
    "In this exercise you will estimate the error by a robust Monte-Carlo approach and compare it with the theoretical error."
   ]
  },
  {
   "cell_type": "markdown",
   "metadata": {},
   "source": [
    "### Tasks\n",
    "\n",
    "#### Core task\n",
    "Write a program to find an approximate value of this integral and an assocaited error estimate.\n",
    "\n",
    "\\begin{equation}\n",
    "    \\tiny\n",
    "    10^6 \n",
    "    \\int_{0}^{s}\n",
    "    \\int_{0}^{s}\n",
    "    \\int_{0}^{s}\n",
    "    \\int_{0}^{s}\n",
    "    \\int_{0}^{s}\n",
    "    \\int_{0}^{s}\n",
    "    \\int_{0}^{s}\n",
    "    sin(x_0 + x_1 + x_2 + x_3 + x_4 + x_5 + x_6 + x_7)\n",
    "    dx_0\n",
    "    dx_1\n",
    "    dx_2\n",
    "    dx_3\n",
    "    dx_4\n",
    "    dx_5\n",
    "    dx_6\n",
    "    dx_7\n",
    "\\end{equation}\n",
    "\n",
    "where \n",
    "\n",
    "\\begin{equation}\n",
    "    s = \\frac{\\pi}{8}\n",
    "\\end{equation}\n",
    "\n",
    "using Monte-Carlo Techniques."
   ]
  },
  {
   "cell_type": "code",
   "execution_count": 5,
   "metadata": {
    "collapsed": true
   },
   "outputs": [],
   "source": [
    "# Start to write your code in this cell.  \n",
    "# If you need to add more cells, do so by using the 'Insert' tab above. "
   ]
  },
  {
   "cell_type": "markdown",
   "metadata": {},
   "source": [
    "Show that the error in the integral falls with $\\frac{1}{\\sqrt{N}}$ where $N$ is the number of Monte-Carlo samples by estimating the error on the value for a given $N$ from the <i>standard deviation of several independent estimates</i>, and plotting a suitable graph with **pyplot**."
   ]
  },
  {
   "cell_type": "code",
   "execution_count": 7,
   "metadata": {
    "collapsed": false
   },
   "outputs": [],
   "source": [
    "# To get you started, here is how you can import pyplot.\n",
    "import matplotlib.pyplot as plt"
   ]
  }
 ],
 "metadata": {
  "kernelspec": {
   "display_name": "Python 3",
   "language": "python",
   "name": "python3"
  },
  "language_info": {
   "codemirror_mode": {
    "name": "ipython",
    "version": 3
   },
   "file_extension": ".py",
   "mimetype": "text/x-python",
   "name": "python",
   "nbconvert_exporter": "python",
   "pygments_lexer": "ipython3",
   "version": "3.5.1+"
  },
  "widgets": {
   "state": {},
   "version": "1.1.2"
  }
 },
 "nbformat": 4,
 "nbformat_minor": 0
}
